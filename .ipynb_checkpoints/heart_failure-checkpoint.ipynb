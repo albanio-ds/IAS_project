{
 "cells": [
  {
   "cell_type": "code",
<<<<<<< HEAD
   "execution_count": 227,
=======
   "execution_count": 63,
>>>>>>> 47595866e9b51f7e4b9a363a955dd44ef581affa
   "metadata": {},
   "outputs": [],
   "source": [
    "import numpy as np\n",
    "import matplotlib.pyplot as plt\n",
    "import pandas as pd\n",
    "import seaborn as sns\n",
    "from sklearn.model_selection import train_test_split\n",
    "\n",
    "from sklearn.linear_model import SGDClassifier\n",
    "from sklearn.model_selection import cross_val_score\n",
    "from sklearn.model_selection import KFold\n",
    "\n",
    "from sklearn.metrics import accuracy_score\n",
    "from sklearn.preprocessing import StandardScaler\n",
    "'''\n",
    "sujet: [classification] Déterminer si une personne atteintes de maladies cardiovasculaire  va  \n",
    "mourir ou pas en fonction de ses antécédent (fumeur ou pas, diabète ou pas, hyper-tension ou pas...)\n",
    "\n",
    "'time' très corrélé avec 'DEATH_EVENT' => a supprimer \n",
    "\n",
    "11 features => 2 labels : DEAD / SURVIVE\n",
    "'''\n",
    "\n",
    "dataset = pd.read_csv('heart_failure_clinical_records_dataset.csv')\n"
   ]
  },
  {
   "cell_type": "code",
<<<<<<< HEAD
   "execution_count": 228,
=======
   "execution_count": 64,
>>>>>>> 47595866e9b51f7e4b9a363a955dd44ef581affa
   "metadata": {},
   "outputs": [
    {
     "data": {
      "text/plain": [
       "Index(['age', 'anaemia', 'creatinine_phosphokinase', 'diabetes',\n",
       "       'ejection_fraction', 'high_blood_pressure', 'platelets',\n",
       "       'serum_creatinine', 'serum_sodium', 'sex', 'smoking', 'time',\n",
       "       'DEATH_EVENT'],\n",
       "      dtype='object')"
      ]
     },
<<<<<<< HEAD
     "execution_count": 228,
=======
     "execution_count": 64,
>>>>>>> 47595866e9b51f7e4b9a363a955dd44ef581affa
     "metadata": {},
     "output_type": "execute_result"
    }
   ],
   "source": [
    "dataset.columns"
   ]
  },
  {
   "cell_type": "code",
<<<<<<< HEAD
   "execution_count": 229,
=======
   "execution_count": 65,
>>>>>>> 47595866e9b51f7e4b9a363a955dd44ef581affa
   "metadata": {},
   "outputs": [
    {
     "data": {
      "text/html": [
       "<div>\n",
       "<style scoped>\n",
       "    .dataframe tbody tr th:only-of-type {\n",
       "        vertical-align: middle;\n",
       "    }\n",
       "\n",
       "    .dataframe tbody tr th {\n",
       "        vertical-align: top;\n",
       "    }\n",
       "\n",
       "    .dataframe thead th {\n",
       "        text-align: right;\n",
       "    }\n",
       "</style>\n",
       "<table border=\"1\" class=\"dataframe\">\n",
       "  <thead>\n",
       "    <tr style=\"text-align: right;\">\n",
       "      <th></th>\n",
       "      <th>age</th>\n",
       "      <th>anaemia</th>\n",
       "      <th>creatinine_phosphokinase</th>\n",
       "      <th>diabetes</th>\n",
       "      <th>ejection_fraction</th>\n",
       "      <th>high_blood_pressure</th>\n",
       "      <th>platelets</th>\n",
       "      <th>serum_creatinine</th>\n",
       "      <th>serum_sodium</th>\n",
       "      <th>sex</th>\n",
       "      <th>smoking</th>\n",
       "      <th>time</th>\n",
       "      <th>DEATH_EVENT</th>\n",
       "    </tr>\n",
       "  </thead>\n",
       "  <tbody>\n",
       "    <tr>\n",
       "      <th>0</th>\n",
       "      <td>75.0</td>\n",
       "      <td>0</td>\n",
       "      <td>582</td>\n",
       "      <td>0</td>\n",
       "      <td>20</td>\n",
       "      <td>1</td>\n",
       "      <td>265000.00</td>\n",
       "      <td>1.9</td>\n",
       "      <td>130</td>\n",
       "      <td>1</td>\n",
       "      <td>0</td>\n",
       "      <td>4</td>\n",
       "      <td>1</td>\n",
       "    </tr>\n",
       "    <tr>\n",
       "      <th>1</th>\n",
       "      <td>55.0</td>\n",
       "      <td>0</td>\n",
       "      <td>7861</td>\n",
       "      <td>0</td>\n",
       "      <td>38</td>\n",
       "      <td>0</td>\n",
       "      <td>263358.03</td>\n",
       "      <td>1.1</td>\n",
       "      <td>136</td>\n",
       "      <td>1</td>\n",
       "      <td>0</td>\n",
       "      <td>6</td>\n",
       "      <td>1</td>\n",
       "    </tr>\n",
       "    <tr>\n",
       "      <th>2</th>\n",
       "      <td>65.0</td>\n",
       "      <td>0</td>\n",
       "      <td>146</td>\n",
       "      <td>0</td>\n",
       "      <td>20</td>\n",
       "      <td>0</td>\n",
       "      <td>162000.00</td>\n",
       "      <td>1.3</td>\n",
       "      <td>129</td>\n",
       "      <td>1</td>\n",
       "      <td>1</td>\n",
       "      <td>7</td>\n",
       "      <td>1</td>\n",
       "    </tr>\n",
       "    <tr>\n",
       "      <th>3</th>\n",
       "      <td>50.0</td>\n",
       "      <td>1</td>\n",
       "      <td>111</td>\n",
       "      <td>0</td>\n",
       "      <td>20</td>\n",
       "      <td>0</td>\n",
       "      <td>210000.00</td>\n",
       "      <td>1.9</td>\n",
       "      <td>137</td>\n",
       "      <td>1</td>\n",
       "      <td>0</td>\n",
       "      <td>7</td>\n",
       "      <td>1</td>\n",
       "    </tr>\n",
       "    <tr>\n",
       "      <th>4</th>\n",
       "      <td>65.0</td>\n",
       "      <td>1</td>\n",
       "      <td>160</td>\n",
       "      <td>1</td>\n",
       "      <td>20</td>\n",
       "      <td>0</td>\n",
       "      <td>327000.00</td>\n",
       "      <td>2.7</td>\n",
       "      <td>116</td>\n",
       "      <td>0</td>\n",
       "      <td>0</td>\n",
       "      <td>8</td>\n",
       "      <td>1</td>\n",
       "    </tr>\n",
       "    <tr>\n",
       "      <th>...</th>\n",
       "      <td>...</td>\n",
       "      <td>...</td>\n",
       "      <td>...</td>\n",
       "      <td>...</td>\n",
       "      <td>...</td>\n",
       "      <td>...</td>\n",
       "      <td>...</td>\n",
       "      <td>...</td>\n",
       "      <td>...</td>\n",
       "      <td>...</td>\n",
       "      <td>...</td>\n",
       "      <td>...</td>\n",
       "      <td>...</td>\n",
       "    </tr>\n",
       "    <tr>\n",
       "      <th>294</th>\n",
       "      <td>62.0</td>\n",
       "      <td>0</td>\n",
       "      <td>61</td>\n",
       "      <td>1</td>\n",
       "      <td>38</td>\n",
       "      <td>1</td>\n",
       "      <td>155000.00</td>\n",
       "      <td>1.1</td>\n",
       "      <td>143</td>\n",
       "      <td>1</td>\n",
       "      <td>1</td>\n",
       "      <td>270</td>\n",
       "      <td>0</td>\n",
       "    </tr>\n",
       "    <tr>\n",
       "      <th>295</th>\n",
       "      <td>55.0</td>\n",
       "      <td>0</td>\n",
       "      <td>1820</td>\n",
       "      <td>0</td>\n",
       "      <td>38</td>\n",
       "      <td>0</td>\n",
       "      <td>270000.00</td>\n",
       "      <td>1.2</td>\n",
       "      <td>139</td>\n",
       "      <td>0</td>\n",
       "      <td>0</td>\n",
       "      <td>271</td>\n",
       "      <td>0</td>\n",
       "    </tr>\n",
       "    <tr>\n",
       "      <th>296</th>\n",
       "      <td>45.0</td>\n",
       "      <td>0</td>\n",
       "      <td>2060</td>\n",
       "      <td>1</td>\n",
       "      <td>60</td>\n",
       "      <td>0</td>\n",
       "      <td>742000.00</td>\n",
       "      <td>0.8</td>\n",
       "      <td>138</td>\n",
       "      <td>0</td>\n",
       "      <td>0</td>\n",
       "      <td>278</td>\n",
       "      <td>0</td>\n",
       "    </tr>\n",
       "    <tr>\n",
       "      <th>297</th>\n",
       "      <td>45.0</td>\n",
       "      <td>0</td>\n",
       "      <td>2413</td>\n",
       "      <td>0</td>\n",
       "      <td>38</td>\n",
       "      <td>0</td>\n",
       "      <td>140000.00</td>\n",
       "      <td>1.4</td>\n",
       "      <td>140</td>\n",
       "      <td>1</td>\n",
       "      <td>1</td>\n",
       "      <td>280</td>\n",
       "      <td>0</td>\n",
       "    </tr>\n",
       "    <tr>\n",
       "      <th>298</th>\n",
       "      <td>50.0</td>\n",
       "      <td>0</td>\n",
       "      <td>196</td>\n",
       "      <td>0</td>\n",
       "      <td>45</td>\n",
       "      <td>0</td>\n",
       "      <td>395000.00</td>\n",
       "      <td>1.6</td>\n",
       "      <td>136</td>\n",
       "      <td>1</td>\n",
       "      <td>1</td>\n",
       "      <td>285</td>\n",
       "      <td>0</td>\n",
       "    </tr>\n",
       "  </tbody>\n",
       "</table>\n",
       "<p>299 rows × 13 columns</p>\n",
       "</div>"
      ],
      "text/plain": [
       "      age  anaemia  creatinine_phosphokinase  diabetes  ejection_fraction  \\\n",
       "0    75.0        0                       582         0                 20   \n",
       "1    55.0        0                      7861         0                 38   \n",
       "2    65.0        0                       146         0                 20   \n",
       "3    50.0        1                       111         0                 20   \n",
       "4    65.0        1                       160         1                 20   \n",
       "..    ...      ...                       ...       ...                ...   \n",
       "294  62.0        0                        61         1                 38   \n",
       "295  55.0        0                      1820         0                 38   \n",
       "296  45.0        0                      2060         1                 60   \n",
       "297  45.0        0                      2413         0                 38   \n",
       "298  50.0        0                       196         0                 45   \n",
       "\n",
       "     high_blood_pressure  platelets  serum_creatinine  serum_sodium  sex  \\\n",
       "0                      1  265000.00               1.9           130    1   \n",
       "1                      0  263358.03               1.1           136    1   \n",
       "2                      0  162000.00               1.3           129    1   \n",
       "3                      0  210000.00               1.9           137    1   \n",
       "4                      0  327000.00               2.7           116    0   \n",
       "..                   ...        ...               ...           ...  ...   \n",
       "294                    1  155000.00               1.1           143    1   \n",
       "295                    0  270000.00               1.2           139    0   \n",
       "296                    0  742000.00               0.8           138    0   \n",
       "297                    0  140000.00               1.4           140    1   \n",
       "298                    0  395000.00               1.6           136    1   \n",
       "\n",
       "     smoking  time  DEATH_EVENT  \n",
       "0          0     4            1  \n",
       "1          0     6            1  \n",
       "2          1     7            1  \n",
       "3          0     7            1  \n",
       "4          0     8            1  \n",
       "..       ...   ...          ...  \n",
       "294        1   270            0  \n",
       "295        0   271            0  \n",
       "296        0   278            0  \n",
       "297        1   280            0  \n",
       "298        1   285            0  \n",
       "\n",
       "[299 rows x 13 columns]"
      ]
     },
<<<<<<< HEAD
     "execution_count": 229,
=======
     "execution_count": 65,
>>>>>>> 47595866e9b51f7e4b9a363a955dd44ef581affa
     "metadata": {},
     "output_type": "execute_result"
    }
   ],
   "source": [
    "dataset.head(300) "
   ]
  },
  {
   "cell_type": "code",
<<<<<<< HEAD
   "execution_count": 230,
=======
   "execution_count": 66,
>>>>>>> 47595866e9b51f7e4b9a363a955dd44ef581affa
   "metadata": {},
   "outputs": [
    {
     "data": {
      "text/plain": [
       "age                         float64\n",
       "anaemia                       int64\n",
       "creatinine_phosphokinase      int64\n",
       "diabetes                      int64\n",
       "ejection_fraction             int64\n",
       "high_blood_pressure           int64\n",
       "platelets                   float64\n",
       "serum_creatinine            float64\n",
       "serum_sodium                  int64\n",
       "sex                           int64\n",
       "smoking                       int64\n",
       "time                          int64\n",
       "DEATH_EVENT                   int64\n",
       "dtype: object"
      ]
     },
<<<<<<< HEAD
     "execution_count": 230,
=======
     "execution_count": 66,
>>>>>>> 47595866e9b51f7e4b9a363a955dd44ef581affa
     "metadata": {},
     "output_type": "execute_result"
    }
   ],
   "source": [
    "dataset.dtypes"
   ]
  },
  {
   "cell_type": "code",
<<<<<<< HEAD
   "execution_count": 231,
=======
   "execution_count": 67,
>>>>>>> 47595866e9b51f7e4b9a363a955dd44ef581affa
   "metadata": {},
   "outputs": [
    {
     "data": {
      "image/png": "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\n",
      "text/plain": [
       "<Figure size 864x720 with 16 Axes>"
      ]
     },
     "metadata": {
      "needs_background": "light"
     },
     "output_type": "display_data"
    }
   ],
   "source": [
    "dataset.hist(bins=10,figsize=(12,10),grid=False);"
   ]
  },
  {
   "cell_type": "code",
<<<<<<< HEAD
   "execution_count": 232,
=======
   "execution_count": 68,
>>>>>>> 47595866e9b51f7e4b9a363a955dd44ef581affa
   "metadata": {},
   "outputs": [
    {
     "name": "stdout",
     "output_type": "stream",
     "text": [
      "<class 'pandas.core.frame.DataFrame'>\n",
      "RangeIndex: 299 entries, 0 to 298\n",
      "Data columns (total 13 columns):\n",
      "age                         299 non-null float64\n",
      "anaemia                     299 non-null int64\n",
      "creatinine_phosphokinase    299 non-null int64\n",
      "diabetes                    299 non-null int64\n",
      "ejection_fraction           299 non-null int64\n",
      "high_blood_pressure         299 non-null int64\n",
      "platelets                   299 non-null float64\n",
      "serum_creatinine            299 non-null float64\n",
      "serum_sodium                299 non-null int64\n",
      "sex                         299 non-null int64\n",
      "smoking                     299 non-null int64\n",
      "time                        299 non-null int64\n",
      "DEATH_EVENT                 299 non-null int64\n",
      "dtypes: float64(3), int64(10)\n",
      "memory usage: 30.5 KB\n"
     ]
    }
   ],
   "source": [
    "dataset.info()  #aucune valeur null"
   ]
  },
  {
   "cell_type": "code",
<<<<<<< HEAD
   "execution_count": 233,
=======
   "execution_count": 69,
>>>>>>> 47595866e9b51f7e4b9a363a955dd44ef581affa
   "metadata": {},
   "outputs": [
    {
     "data": {
      "text/plain": [
       "(299, 13)"
      ]
     },
<<<<<<< HEAD
     "execution_count": 233,
=======
     "execution_count": 69,
>>>>>>> 47595866e9b51f7e4b9a363a955dd44ef581affa
     "metadata": {},
     "output_type": "execute_result"
    }
   ],
   "source": [
    "dataset.shape"
   ]
  },
  {
   "cell_type": "code",
<<<<<<< HEAD
   "execution_count": 234,
=======
   "execution_count": 70,
>>>>>>> 47595866e9b51f7e4b9a363a955dd44ef581affa
   "metadata": {},
   "outputs": [
    {
     "data": {
      "text/html": [
       "<div>\n",
       "<style scoped>\n",
       "    .dataframe tbody tr th:only-of-type {\n",
       "        vertical-align: middle;\n",
       "    }\n",
       "\n",
       "    .dataframe tbody tr th {\n",
       "        vertical-align: top;\n",
       "    }\n",
       "\n",
       "    .dataframe thead th {\n",
       "        text-align: right;\n",
       "    }\n",
       "</style>\n",
       "<table border=\"1\" class=\"dataframe\">\n",
       "  <thead>\n",
       "    <tr style=\"text-align: right;\">\n",
       "      <th></th>\n",
       "      <th>age</th>\n",
       "      <th>anaemia</th>\n",
       "      <th>creatinine_phosphokinase</th>\n",
       "      <th>diabetes</th>\n",
       "      <th>ejection_fraction</th>\n",
       "      <th>high_blood_pressure</th>\n",
       "      <th>platelets</th>\n",
       "      <th>serum_creatinine</th>\n",
       "      <th>serum_sodium</th>\n",
       "      <th>sex</th>\n",
       "      <th>smoking</th>\n",
       "      <th>time</th>\n",
       "      <th>DEATH_EVENT</th>\n",
       "    </tr>\n",
       "  </thead>\n",
       "  <tbody>\n",
       "    <tr>\n",
       "      <th>count</th>\n",
       "      <td>299.000000</td>\n",
       "      <td>299.000000</td>\n",
       "      <td>299.000000</td>\n",
       "      <td>299.000000</td>\n",
       "      <td>299.000000</td>\n",
       "      <td>299.000000</td>\n",
       "      <td>299.000000</td>\n",
       "      <td>299.00000</td>\n",
       "      <td>299.000000</td>\n",
       "      <td>299.000000</td>\n",
       "      <td>299.00000</td>\n",
       "      <td>299.000000</td>\n",
       "      <td>299.00000</td>\n",
       "    </tr>\n",
       "    <tr>\n",
       "      <th>mean</th>\n",
       "      <td>60.833893</td>\n",
       "      <td>0.431438</td>\n",
       "      <td>581.839465</td>\n",
       "      <td>0.418060</td>\n",
       "      <td>38.083612</td>\n",
       "      <td>0.351171</td>\n",
       "      <td>263358.029264</td>\n",
       "      <td>1.39388</td>\n",
       "      <td>136.625418</td>\n",
       "      <td>0.648829</td>\n",
       "      <td>0.32107</td>\n",
       "      <td>130.260870</td>\n",
       "      <td>0.32107</td>\n",
       "    </tr>\n",
       "    <tr>\n",
       "      <th>std</th>\n",
       "      <td>11.894809</td>\n",
       "      <td>0.496107</td>\n",
       "      <td>970.287881</td>\n",
       "      <td>0.494067</td>\n",
       "      <td>11.834841</td>\n",
       "      <td>0.478136</td>\n",
       "      <td>97804.236869</td>\n",
       "      <td>1.03451</td>\n",
       "      <td>4.412477</td>\n",
       "      <td>0.478136</td>\n",
       "      <td>0.46767</td>\n",
       "      <td>77.614208</td>\n",
       "      <td>0.46767</td>\n",
       "    </tr>\n",
       "    <tr>\n",
       "      <th>min</th>\n",
       "      <td>40.000000</td>\n",
       "      <td>0.000000</td>\n",
       "      <td>23.000000</td>\n",
       "      <td>0.000000</td>\n",
       "      <td>14.000000</td>\n",
       "      <td>0.000000</td>\n",
       "      <td>25100.000000</td>\n",
       "      <td>0.50000</td>\n",
       "      <td>113.000000</td>\n",
       "      <td>0.000000</td>\n",
       "      <td>0.00000</td>\n",
       "      <td>4.000000</td>\n",
       "      <td>0.00000</td>\n",
       "    </tr>\n",
       "    <tr>\n",
       "      <th>25%</th>\n",
       "      <td>51.000000</td>\n",
       "      <td>0.000000</td>\n",
       "      <td>116.500000</td>\n",
       "      <td>0.000000</td>\n",
       "      <td>30.000000</td>\n",
       "      <td>0.000000</td>\n",
       "      <td>212500.000000</td>\n",
       "      <td>0.90000</td>\n",
       "      <td>134.000000</td>\n",
       "      <td>0.000000</td>\n",
       "      <td>0.00000</td>\n",
       "      <td>73.000000</td>\n",
       "      <td>0.00000</td>\n",
       "    </tr>\n",
       "    <tr>\n",
       "      <th>50%</th>\n",
       "      <td>60.000000</td>\n",
       "      <td>0.000000</td>\n",
       "      <td>250.000000</td>\n",
       "      <td>0.000000</td>\n",
       "      <td>38.000000</td>\n",
       "      <td>0.000000</td>\n",
       "      <td>262000.000000</td>\n",
       "      <td>1.10000</td>\n",
       "      <td>137.000000</td>\n",
       "      <td>1.000000</td>\n",
       "      <td>0.00000</td>\n",
       "      <td>115.000000</td>\n",
       "      <td>0.00000</td>\n",
       "    </tr>\n",
       "    <tr>\n",
       "      <th>75%</th>\n",
       "      <td>70.000000</td>\n",
       "      <td>1.000000</td>\n",
       "      <td>582.000000</td>\n",
       "      <td>1.000000</td>\n",
       "      <td>45.000000</td>\n",
       "      <td>1.000000</td>\n",
       "      <td>303500.000000</td>\n",
       "      <td>1.40000</td>\n",
       "      <td>140.000000</td>\n",
       "      <td>1.000000</td>\n",
       "      <td>1.00000</td>\n",
       "      <td>203.000000</td>\n",
       "      <td>1.00000</td>\n",
       "    </tr>\n",
       "    <tr>\n",
       "      <th>max</th>\n",
       "      <td>95.000000</td>\n",
       "      <td>1.000000</td>\n",
       "      <td>7861.000000</td>\n",
       "      <td>1.000000</td>\n",
       "      <td>80.000000</td>\n",
       "      <td>1.000000</td>\n",
       "      <td>850000.000000</td>\n",
       "      <td>9.40000</td>\n",
       "      <td>148.000000</td>\n",
       "      <td>1.000000</td>\n",
       "      <td>1.00000</td>\n",
       "      <td>285.000000</td>\n",
       "      <td>1.00000</td>\n",
       "    </tr>\n",
       "  </tbody>\n",
       "</table>\n",
       "</div>"
      ],
      "text/plain": [
       "              age     anaemia  creatinine_phosphokinase    diabetes  \\\n",
       "count  299.000000  299.000000                299.000000  299.000000   \n",
       "mean    60.833893    0.431438                581.839465    0.418060   \n",
       "std     11.894809    0.496107                970.287881    0.494067   \n",
       "min     40.000000    0.000000                 23.000000    0.000000   \n",
       "25%     51.000000    0.000000                116.500000    0.000000   \n",
       "50%     60.000000    0.000000                250.000000    0.000000   \n",
       "75%     70.000000    1.000000                582.000000    1.000000   \n",
       "max     95.000000    1.000000               7861.000000    1.000000   \n",
       "\n",
       "       ejection_fraction  high_blood_pressure      platelets  \\\n",
       "count         299.000000           299.000000     299.000000   \n",
       "mean           38.083612             0.351171  263358.029264   \n",
       "std            11.834841             0.478136   97804.236869   \n",
       "min            14.000000             0.000000   25100.000000   \n",
       "25%            30.000000             0.000000  212500.000000   \n",
       "50%            38.000000             0.000000  262000.000000   \n",
       "75%            45.000000             1.000000  303500.000000   \n",
       "max            80.000000             1.000000  850000.000000   \n",
       "\n",
       "       serum_creatinine  serum_sodium         sex    smoking        time  \\\n",
       "count         299.00000    299.000000  299.000000  299.00000  299.000000   \n",
       "mean            1.39388    136.625418    0.648829    0.32107  130.260870   \n",
       "std             1.03451      4.412477    0.478136    0.46767   77.614208   \n",
       "min             0.50000    113.000000    0.000000    0.00000    4.000000   \n",
       "25%             0.90000    134.000000    0.000000    0.00000   73.000000   \n",
       "50%             1.10000    137.000000    1.000000    0.00000  115.000000   \n",
       "75%             1.40000    140.000000    1.000000    1.00000  203.000000   \n",
       "max             9.40000    148.000000    1.000000    1.00000  285.000000   \n",
       "\n",
       "       DEATH_EVENT  \n",
       "count    299.00000  \n",
       "mean       0.32107  \n",
       "std        0.46767  \n",
       "min        0.00000  \n",
       "25%        0.00000  \n",
       "50%        0.00000  \n",
       "75%        1.00000  \n",
       "max        1.00000  "
      ]
     },
<<<<<<< HEAD
     "execution_count": 234,
=======
     "execution_count": 70,
>>>>>>> 47595866e9b51f7e4b9a363a955dd44ef581affa
     "metadata": {},
     "output_type": "execute_result"
    }
   ],
   "source": [
    "dataset.describe(include = 'all') # age: Age\n",
    "                                # anaemia: Decrease of red blood cells or hemoglobin (boolean)\n",
    "                                # creatinine_phosphokinase : Level of the CPK enzyme in the blood (mcg/L)\n",
    "                                # diabetes : If the patient has diabetes (boolean)\n",
    "                                # ejection_fraction : Percentage of blood leaving the heart at each contraction (percentage)\n",
    "                                # high_blood_pressure : If the patient has hypertension (boolean)\n",
    "                                # platelets : Platelets in the blood (kiloplatelets/mL)\n",
    "                                # serum_creatinine : Level of serum creatinine in the blood (mg/dL)\n",
    "                                # serum_sodium : Level of serum sodium in the blood (mEq/L)\n",
    "                                # sex : Woman or man (binary)\n",
    "                                # smoking : If the patient smokes or not (boolean)\n",
    "                                # time : Follow-up period (days)\n",
    "                                # DEATH_EVENT : If the patient deceased during the follow-up period (boolean)"
   ]
  },
  {
   "cell_type": "code",
<<<<<<< HEAD
   "execution_count": 235,
=======
   "execution_count": 71,
>>>>>>> 47595866e9b51f7e4b9a363a955dd44ef581affa
   "metadata": {},
   "outputs": [],
   "source": [
    "#Probablement besoin d'uniformiser les données car il y a des ratio de 0 à 1 et des valeurs énormes à coté"
   ]
  },
  {
   "cell_type": "code",
<<<<<<< HEAD
   "execution_count": 236,
=======
   "execution_count": 72,
>>>>>>> 47595866e9b51f7e4b9a363a955dd44ef581affa
   "metadata": {},
   "outputs": [
    {
     "data": {
      "text/plain": [
       "\"\\n'time' et 'death_event'  :  tres corrélé\\n'sex' et 'smoking'       :  corrélé\\n\\n\""
      ]
     },
<<<<<<< HEAD
     "execution_count": 236,
=======
     "execution_count": 72,
>>>>>>> 47595866e9b51f7e4b9a363a955dd44ef581affa
     "metadata": {},
     "output_type": "execute_result"
    },
    {
     "data": {
      "image/png": "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\n",
      "text/plain": [
       "<Figure size 1080x1080 with 2 Axes>"
      ]
     },
     "metadata": {
      "needs_background": "light"
     },
     "output_type": "display_data"
    }
   ],
   "source": [
    "plt.figure(figsize=(15,15))\n",
    "sns.heatmap(dataset.corr(), vmin=-1, annot=True);\n",
    "'''\n",
    "'time' et 'death_event'  :  tres corrélé\n",
    "'sex' et 'smoking'       :  corrélé\n",
    "\n",
    "'''\n",
    "## mais 'sex' et 'smoking' reste une information importante car \n",
    "## fumer peut avoir des conséquences sur la santé d'un patient"
   ]
  },
  {
   "cell_type": "code",
<<<<<<< HEAD
   "execution_count": 237,
=======
   "execution_count": 73,
>>>>>>> 47595866e9b51f7e4b9a363a955dd44ef581affa
   "metadata": {},
   "outputs": [
    {
     "name": "stdout",
     "output_type": "stream",
     "text": [
      "4 : 67.89\n",
      "5 : 68.23\n",
      "6 : 68.23\n",
      "7 : 68.56\n",
      "8 : 69.23\n",
      "9 : 69.90\n",
      "10 : 69.90\n",
      "11 : 71.91\n",
      "12 : 72.58\n",
      "13 : 72.24\n",
      "14 : 72.58\n",
      "15 : 73.24\n",
      "16 : 73.91\n",
      "17 : 73.58\n",
      "18 : 73.58\n",
      "19 : 73.58\n",
      "20 : 73.58\n",
      "21 : 74.25\n",
      "22 : 74.25\n",
      "23 : 73.91\n",
      "24 : 74.58\n",
      "25 : 74.92\n",
      "26 : 74.92\n",
      "27 : 75.92\n",
      "28 : 76.25\n",
      "29 : 76.92\n",
      "30 : 76.92\n",
      "31 : 77.93\n",
      "32 : 78.26\n",
      "33 : 78.60\n",
      "34 : 78.93\n",
      "35 : 78.93\n",
      "36 : 79.26\n",
      "37 : 79.26\n",
      "38 : 79.26\n",
      "39 : 79.60\n",
      "40 : 79.60\n",
      "41 : 79.93\n",
      "42 : 80.27\n",
      "43 : 80.60\n",
      "44 : 81.61\n",
      "45 : 81.94\n",
      "46 : 82.27\n",
      "47 : 82.27\n",
      "48 : 82.27\n",
      "49 : 82.27\n",
      "50 : 82.27\n",
      "51 : 82.61\n",
      "52 : 82.61\n",
      "53 : 82.61\n",
      "54 : 82.61\n",
      "55 : 81.94\n",
      "56 : 82.27\n",
      "57 : 82.27\n",
      "58 : 82.27\n",
      "59 : 82.27\n",
      "60 : 82.61\n",
      "61 : 82.94\n",
      "62 : 83.28\n",
      "63 : 83.28\n",
      "64 : 82.94\n",
      "65 : 83.28\n",
      "66 : 83.95\n",
      "67 : 84.28\n",
      "68 : 84.62\n",
      "69 : 84.28\n",
      "70 : 84.28\n",
      "71 : 84.28\n",
      "72 : 83.95\n",
      "73 : 83.95\n",
      "74 : 84.62\n",
      "75 : 83.28\n",
      "76 : 82.94\n",
      "77 : 82.61\n",
      "78 : 82.94\n",
      "79 : 82.94\n",
      "80 : 81.27\n",
      "81 : 80.60\n",
      "82 : 80.60\n",
      "83 : 80.60\n",
      "84 : 79.60\n",
      "85 : 79.60\n",
      "86 : 78.93\n",
      "87 : 78.60\n",
      "88 : 76.92\n",
      "89 : 75.92\n",
      "90 : 75.92\n",
      "91 : 75.92\n",
      "92 : 75.25\n",
      "93 : 75.25\n",
      "94 : 75.25\n",
      "95 : 74.25\n",
      "96 : 73.24\n",
      "97 : 73.58\n",
      "98 : 73.24\n",
      "99 : 73.24\n",
      "100 : 73.24\n",
      "101 : 73.58\n",
      "102 : 73.58\n",
      "103 : 73.58\n",
      "104 : 73.58\n",
      "105 : 72.91\n",
      "106 : 72.58\n",
      "107 : 72.24\n",
      "108 : 70.23\n",
      "109 : 69.23\n",
      "110 : 68.90\n",
      "111 : 68.56\n",
      "112 : 68.90\n",
      "113 : 68.23\n",
      "114 : 68.23\n",
      "115 : 68.23\n",
      "116 : 68.23\n",
      "117 : 68.23\n",
      "118 : 67.89\n",
      "119 : 67.56\n",
      "120 : 67.22\n",
      "121 : 65.89\n",
      "122 : 64.55\n",
      "123 : 64.55\n",
      "124 : 64.21\n",
      "125 : 64.21\n",
      "126 : 64.21\n",
      "127 : 64.55\n",
      "128 : 64.55\n",
      "129 : 64.55\n",
      "130 : 64.88\n",
      "131 : 65.22\n",
      "132 : 65.22\n",
      "133 : 65.22\n",
      "134 : 65.22\n",
      "135 : 64.88\n",
      "136 : 65.22\n",
      "137 : 65.22\n",
      "138 : 65.22\n",
      "139 : 65.22\n",
      "140 : 65.22\n",
      "141 : 64.88\n",
      "142 : 64.88\n",
      "143 : 64.88\n",
      "144 : 64.88\n",
      "145 : 64.88\n",
      "146 : 64.21\n",
      "147 : 62.54\n",
      "148 : 61.20\n",
      "149 : 60.87\n",
      "150 : 60.87\n",
      "151 : 61.20\n",
      "152 : 61.20\n",
      "153 : 61.20\n",
      "154 : 61.20\n",
      "155 : 61.54\n",
      "156 : 61.54\n",
      "157 : 61.54\n",
      "158 : 61.54\n",
      "159 : 61.54\n",
      "160 : 61.54\n",
      "161 : 61.54\n",
      "162 : 61.54\n",
      "163 : 61.87\n",
      "164 : 61.87\n",
      "165 : 61.87\n",
      "166 : 61.87\n",
      "167 : 61.87\n",
      "168 : 61.87\n",
      "169 : 61.87\n",
      "170 : 61.87\n",
      "171 : 62.21\n",
      "172 : 62.54\n",
      "173 : 62.88\n",
      "174 : 62.88\n",
      "175 : 61.87\n",
      "176 : 61.54\n",
      "177 : 61.54\n",
      "178 : 61.54\n",
      "179 : 61.54\n",
      "180 : 61.54\n",
      "181 : 61.87\n",
      "182 : 61.87\n",
      "183 : 61.87\n",
      "184 : 61.87\n",
      "185 : 61.87\n",
      "186 : 61.54\n",
      "187 : 59.53\n",
      "188 : 57.19\n",
      "189 : 56.86\n",
      "190 : 56.86\n",
      "191 : 56.86\n",
      "192 : 56.86\n",
      "193 : 56.19\n",
      "194 : 56.52\n",
      "195 : 56.19\n",
      "196 : 55.85\n",
      "197 : 55.85\n",
      "198 : 55.18\n",
      "199 : 55.52\n",
      "200 : 55.52\n",
      "201 : 55.18\n",
      "202 : 54.52\n",
      "203 : 54.52\n",
      "204 : 54.52\n",
      "205 : 54.52\n",
      "206 : 53.51\n",
      "207 : 53.18\n",
      "208 : 52.84\n",
      "209 : 52.51\n",
      "210 : 50.84\n",
      "211 : 50.17\n",
      "212 : 49.83\n",
      "213 : 48.83\n",
      "214 : 47.83\n",
      "215 : 46.82\n",
      "216 : 45.48\n",
      "217 : 45.15\n",
      "218 : 45.15\n",
      "219 : 45.15\n",
      "220 : 45.15\n",
      "221 : 44.82\n",
      "222 : 44.82\n",
      "223 : 44.82\n",
      "224 : 44.82\n",
      "225 : 44.82\n",
      "226 : 44.82\n",
      "227 : 44.82\n",
      "228 : 44.82\n",
      "229 : 44.82\n",
      "230 : 44.82\n",
      "231 : 44.15\n",
      "232 : 43.81\n",
      "233 : 43.81\n",
      "234 : 43.14\n",
      "235 : 43.14\n",
      "236 : 43.48\n",
      "237 : 43.48\n",
      "238 : 42.81\n",
      "239 : 42.81\n",
      "240 : 42.81\n",
      "241 : 42.47\n",
      "242 : 42.81\n",
      "243 : 42.81\n",
      "244 : 42.81\n",
      "245 : 41.14\n",
      "246 : 39.46\n",
      "247 : 38.46\n",
      "248 : 38.13\n",
      "249 : 38.13\n",
      "250 : 38.13\n",
      "251 : 35.79\n",
      "252 : 35.79\n",
      "253 : 35.79\n",
      "254 : 35.79\n",
      "255 : 35.79\n",
      "256 : 35.79\n",
      "257 : 35.12\n",
      "258 : 34.78\n",
      "259 : 34.11\n",
      "260 : 34.11\n",
      "261 : 34.11\n",
      "262 : 34.11\n",
      "263 : 34.11\n",
      "264 : 34.11\n",
      "265 : 34.11\n",
      "266 : 34.11\n",
      "267 : 34.11\n",
      "268 : 34.11\n",
      "269 : 34.11\n",
      "270 : 34.11\n",
      "271 : 33.44\n",
      "272 : 33.11\n",
      "273 : 33.11\n",
      "274 : 33.11\n",
      "275 : 33.11\n",
      "276 : 33.11\n",
      "277 : 33.11\n",
      "278 : 33.11\n",
      "279 : 32.78\n",
      "280 : 32.78\n",
      "281 : 32.44\n",
      "282 : 32.44\n",
      "283 : 32.44\n",
      "284 : 32.44\n",
      "285 : 32.44\n"
     ]
    }
   ],
   "source": [
    "#'TIME' corréleé avec 'DEATH_EVENT' ?  => verifions  \n",
    "le_temps = []\n",
    "score_temps = []\n",
    "for i in range(dataset['time'].min(),dataset['time'].max()+1):\n",
    "    score_res= 100*np.mean((dataset['time'].to_numpy() < i) == dataset['DEATH_EVENT'].to_numpy())\n",
    "    print('%i : %.2f'%(i,score_res))\n",
    "    le_temps.append(i)\n",
    "    score_temps.append(score_res)\n"
   ]
  },
  {
   "cell_type": "code",
<<<<<<< HEAD
   "execution_count": 238,
=======
   "execution_count": 74,
>>>>>>> 47595866e9b51f7e4b9a363a955dd44ef581affa
   "metadata": {},
   "outputs": [
    {
     "data": {
      "text/plain": [
<<<<<<< HEAD
       "[<matplotlib.lines.Line2D at 0x1521c3956a0>]"
      ]
     },
     "execution_count": 238,
=======
       "[<matplotlib.lines.Line2D at 0x7fad275352b0>]"
      ]
     },
     "execution_count": 74,
>>>>>>> 47595866e9b51f7e4b9a363a955dd44ef581affa
     "metadata": {},
     "output_type": "execute_result"
    },
    {
     "data": {
      "image/png": "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\n",
      "text/plain": [
       "<Figure size 432x288 with 1 Axes>"
      ]
     },
     "metadata": {
      "needs_background": "light"
     },
     "output_type": "display_data"
    }
   ],
   "source": [
    "plt.plot(le_temps,score_temps)\n",
    "## on voit la courbe atteint un pic à 84% ce qui signifie que la majorité \n",
    "## des patients sont mort avant le 'time' (jour) 74.\n",
    "## le feature 'time' et bien corrélé à notre label 'DEATH_EVENT'\n",
    "## De plus on ne cheche pas à prédire le jour où le patient est mort\n",
    "## mais prédire si il va mourir où pas\n"
   ]
  },
  {
   "cell_type": "code",
<<<<<<< HEAD
   "execution_count": 239,
=======
   "execution_count": 75,
>>>>>>> 47595866e9b51f7e4b9a363a955dd44ef581affa
   "metadata": {
    "scrolled": true
   },
   "outputs": [
    {
     "data": {
      "text/html": [
       "<div>\n",
       "<style scoped>\n",
       "    .dataframe tbody tr th:only-of-type {\n",
       "        vertical-align: middle;\n",
       "    }\n",
       "\n",
       "    .dataframe tbody tr th {\n",
       "        vertical-align: top;\n",
       "    }\n",
       "\n",
       "    .dataframe thead th {\n",
       "        text-align: right;\n",
       "    }\n",
       "</style>\n",
       "<table border=\"1\" class=\"dataframe\">\n",
       "  <thead>\n",
       "    <tr style=\"text-align: right;\">\n",
       "      <th></th>\n",
       "      <th>age</th>\n",
       "      <th>anaemia</th>\n",
       "      <th>creatinine_phosphokinase</th>\n",
       "      <th>diabetes</th>\n",
       "      <th>ejection_fraction</th>\n",
       "      <th>high_blood_pressure</th>\n",
       "      <th>platelets</th>\n",
       "      <th>serum_creatinine</th>\n",
       "      <th>serum_sodium</th>\n",
       "      <th>sex</th>\n",
       "      <th>smoking</th>\n",
       "      <th>DEATH_EVENT</th>\n",
       "    </tr>\n",
       "  </thead>\n",
       "  <tbody>\n",
       "    <tr>\n",
       "      <th>0</th>\n",
       "      <td>75.0</td>\n",
       "      <td>0</td>\n",
       "      <td>582</td>\n",
       "      <td>0</td>\n",
       "      <td>20</td>\n",
       "      <td>1</td>\n",
       "      <td>265000.00</td>\n",
       "      <td>1.9</td>\n",
       "      <td>130</td>\n",
       "      <td>1</td>\n",
       "      <td>0</td>\n",
       "      <td>1</td>\n",
       "    </tr>\n",
       "    <tr>\n",
       "      <th>1</th>\n",
       "      <td>55.0</td>\n",
       "      <td>0</td>\n",
       "      <td>7861</td>\n",
       "      <td>0</td>\n",
       "      <td>38</td>\n",
       "      <td>0</td>\n",
       "      <td>263358.03</td>\n",
       "      <td>1.1</td>\n",
       "      <td>136</td>\n",
       "      <td>1</td>\n",
       "      <td>0</td>\n",
       "      <td>1</td>\n",
       "    </tr>\n",
       "    <tr>\n",
       "      <th>2</th>\n",
       "      <td>65.0</td>\n",
       "      <td>0</td>\n",
       "      <td>146</td>\n",
       "      <td>0</td>\n",
       "      <td>20</td>\n",
       "      <td>0</td>\n",
       "      <td>162000.00</td>\n",
       "      <td>1.3</td>\n",
       "      <td>129</td>\n",
       "      <td>1</td>\n",
       "      <td>1</td>\n",
       "      <td>1</td>\n",
       "    </tr>\n",
       "    <tr>\n",
       "      <th>3</th>\n",
       "      <td>50.0</td>\n",
       "      <td>1</td>\n",
       "      <td>111</td>\n",
       "      <td>0</td>\n",
       "      <td>20</td>\n",
       "      <td>0</td>\n",
       "      <td>210000.00</td>\n",
       "      <td>1.9</td>\n",
       "      <td>137</td>\n",
       "      <td>1</td>\n",
       "      <td>0</td>\n",
       "      <td>1</td>\n",
       "    </tr>\n",
       "    <tr>\n",
       "      <th>4</th>\n",
       "      <td>65.0</td>\n",
       "      <td>1</td>\n",
       "      <td>160</td>\n",
       "      <td>1</td>\n",
       "      <td>20</td>\n",
       "      <td>0</td>\n",
       "      <td>327000.00</td>\n",
       "      <td>2.7</td>\n",
       "      <td>116</td>\n",
       "      <td>0</td>\n",
       "      <td>0</td>\n",
       "      <td>1</td>\n",
       "    </tr>\n",
       "  </tbody>\n",
       "</table>\n",
       "</div>"
      ],
      "text/plain": [
       "    age  anaemia  creatinine_phosphokinase  diabetes  ejection_fraction  \\\n",
       "0  75.0        0                       582         0                 20   \n",
       "1  55.0        0                      7861         0                 38   \n",
       "2  65.0        0                       146         0                 20   \n",
       "3  50.0        1                       111         0                 20   \n",
       "4  65.0        1                       160         1                 20   \n",
       "\n",
       "   high_blood_pressure  platelets  serum_creatinine  serum_sodium  sex  \\\n",
       "0                    1  265000.00               1.9           130    1   \n",
       "1                    0  263358.03               1.1           136    1   \n",
       "2                    0  162000.00               1.3           129    1   \n",
       "3                    0  210000.00               1.9           137    1   \n",
       "4                    0  327000.00               2.7           116    0   \n",
       "\n",
       "   smoking  DEATH_EVENT  \n",
       "0        0            1  \n",
       "1        0            1  \n",
       "2        1            1  \n",
       "3        0            1  \n",
       "4        0            1  "
      ]
     },
<<<<<<< HEAD
     "execution_count": 239,
=======
     "execution_count": 75,
>>>>>>> 47595866e9b51f7e4b9a363a955dd44ef581affa
     "metadata": {},
     "output_type": "execute_result"
    }
   ],
   "source": [
    "# On decide donc de supprimer time \n",
    "\n",
    "dataset.drop('time', axis=1, inplace=True)\n",
    "\n",
    "dataset.head(5)"
   ]
  },
  {
   "cell_type": "markdown",
   "metadata": {},
   "source": [
    "<h2> L'AGE un indicateur de mort </h2>"
   ]
  },
  {
   "cell_type": "code",
<<<<<<< HEAD
   "execution_count": 240,
=======
   "execution_count": 76,
>>>>>>> 47595866e9b51f7e4b9a363a955dd44ef581affa
   "metadata": {},
   "outputs": [],
   "source": [
    "\n",
    "dataset['age']= dataset['age'].astype(int) # convertit age floattant en int\n",
    "mort_l=dataset[\"DEATH_EVENT\"]\n",
    "age_l = dataset[\"age\"]  \n",
    "sex_l = dataset[\"sex\"]\n",
    "diabete_l = dataset[\"diabetes\"]\n",
    "anemie_l = dataset[\"anaemia\"]\n",
    "#dataset['age']"
   ]
  },
  {
   "cell_type": "code",
<<<<<<< HEAD
   "execution_count": 241,
=======
   "execution_count": 77,
>>>>>>> 47595866e9b51f7e4b9a363a955dd44ef581affa
   "metadata": {},
   "outputs": [
    {
     "data": {
      "text/plain": [
<<<<<<< HEAD
       "[<matplotlib.lines.Line2D at 0x1521c768c10>]"
      ]
     },
     "execution_count": 241,
=======
       "[<matplotlib.lines.Line2D at 0x7fad27558e20>]"
      ]
     },
     "execution_count": 77,
>>>>>>> 47595866e9b51f7e4b9a363a955dd44ef581affa
     "metadata": {},
     "output_type": "execute_result"
    },
    {
     "data": {
      "image/png": "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\n",
      "text/plain": [
       "<Figure size 432x288 with 1 Axes>"
      ]
     },
     "metadata": {
      "needs_background": "light"
     },
     "output_type": "display_data"
    }
   ],
   "source": [
    "l_age_res = []\n",
    "l_moy_res= []\n",
    "for i in np.unique(tout_les_ages): \n",
    "    age_t = dataset['age'] ==i\n",
    "    moy = round(100*np.mean(dataset['DEATH_EVENT'][age_t]))\n",
    "    l_age_res.append(i)\n",
    "    l_moy_res.append(moy)\n",
    "    #print(\"age = \", i ,\" score Mort= \", moy, \"nb pers = \", np.sum(age_t))\n",
    "plt.plot(l_age_res, l_moy_res)\n",
    "\n",
    "## pas vraiment significatif car le nombre de patient\n",
    "## n'est pas le meme pour deux ages différents\n",
    "#ex: 2 patients qui ont 48 ans et les 2 sont mort\n",
    "##  vs 35 patients pour 60 ans\n"
   ]
  },
  {
   "cell_type": "markdown",
   "metadata": {},
   "source": [
    "<h2> Verifions si le SEX un indicateur de mort </h2>"
   ]
  },
  {
   "cell_type": "code",
<<<<<<< HEAD
   "execution_count": 242,
=======
   "execution_count": 78,
>>>>>>> 47595866e9b51f7e4b9a363a955dd44ef581affa
   "metadata": {},
   "outputs": [],
   "source": [
    "homme = dataset['sex']==1\n",
    "femme = dataset['sex'] ==0\n",
    "homme_morts = dataset['DEATH_EVENT'][homme] == 1\n",
    "femme_morts= dataset['DEATH_EVENT'][femme] == 1\n",
    "homme_vivants = dataset['DEATH_EVENT'][homme] == 0\n",
    "femme_vivantes = dataset['DEATH_EVENT'][femme] == 0\n",
    "#print(\"nb Homme =\", np.sum(homme) ,\"nb Femme = \", np.sum(femme))\n",
    "#print(\"nb Homme morts =\", np.sum(homme_morts) ,\"nb Femme morts = \", np.sum(femme_morts))\n",
    "\n",
    "#print(\"nb Homme =\", np.sum(homme) ,\"nb Femme = \", np.sum(femme))\n",
    "#print(\"nb Homme morts =\", np.sum(homme_morts) ,\"nb Femme morts = \", np.sum(femme_morts))\n"
   ]
  },
  {
   "cell_type": "code",
<<<<<<< HEAD
   "execution_count": 243,
=======
   "execution_count": 79,
>>>>>>> 47595866e9b51f7e4b9a363a955dd44ef581affa
   "metadata": {},
   "outputs": [
    {
     "data": {
      "image/png": "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\n",
      "text/plain": [
       "<Figure size 432x288 with 1 Axes>"
      ]
     },
     "metadata": {},
     "output_type": "display_data"
    }
   ],
   "source": [
    "#petite représentation\n",
    "labels = 'homme en vie', 'homme_dead', 'femme en vie', 'femme_dead' \n",
    "sizes = [np.sum(homme_vivants), np.sum(homme_morts),np.sum(femme_vivantes),np.sum(femme_morts)]\n",
    "\n",
    "plt.pie(sizes, labels=labels, autopct='%1.1f%%', shadow=True, startangle=90)\n",
    "\n",
    "plt.axis('equal')\n",
    "\n",
    "plt.show()\n",
    "\n",
    "#A commenter"
   ]
  },
  {
   "cell_type": "markdown",
   "metadata": {},
   "source": [
    "<h2> Verifions si le DIABETE un indicateur de mort </h2>"
   ]
  },
  {
   "cell_type": "code",
<<<<<<< HEAD
   "execution_count": 244,
=======
   "execution_count": 80,
>>>>>>> 47595866e9b51f7e4b9a363a955dd44ef581affa
   "metadata": {},
   "outputs": [],
   "source": [
    "les_diabetiques = dataset['diabetes'] == 1\n",
    "les_non_diabetiques = dataset['diabetes'] == 0\n",
    "diabetes_mort = dataset['DEATH_EVENT'][les_diabetiques]  == 1 \n",
    "non_diabetique_mort = dataset['DEATH_EVENT'][les_non_diabetiques]  == 1\n",
    "diabetes_vivant = dataset['DEATH_EVENT'][les_diabetiques]  == 0\n",
    "non_diabetique_vivant = dataset['DEATH_EVENT'][les_non_diabetiques]  == 0\n",
    "\n"
   ]
  },
  {
   "cell_type": "code",
<<<<<<< HEAD
   "execution_count": 245,
=======
   "execution_count": 81,
>>>>>>> 47595866e9b51f7e4b9a363a955dd44ef581affa
   "metadata": {},
   "outputs": [
    {
     "data": {
      "image/png": "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\n",
      "text/plain": [
       "<Figure size 432x288 with 1 Axes>"
      ]
     },
     "metadata": {},
     "output_type": "display_data"
    },
    {
     "data": {
      "text/plain": [
       "(2.125, 2.107142857142857)"
      ]
     },
<<<<<<< HEAD
     "execution_count": 245,
=======
     "execution_count": 81,
>>>>>>> 47595866e9b51f7e4b9a363a955dd44ef581affa
     "metadata": {},
     "output_type": "execute_result"
    }
   ],
   "source": [
    "#petite représentation\n",
    "labels = 'diabetiques vivants', 'non-diabetiques vivants', 'non diabetiques mort' , 'diabetiques mort'\n",
    "sizes = [np.sum(diabetes_vivant), np.sum(non_diabetique_vivant),np.sum(non_diabetique_mort),np.sum(diabetes_mort)]\n",
    "\n",
    "plt.pie(sizes, labels=labels,  autopct='%1.1f%%', shadow=True, startangle=90)\n",
    "\n",
    "plt.axis('equal')\n",
    "\n",
    "plt.show()\n",
    "\n",
    "#A commenter\n",
    "np.sum(diabetes_vivant)/np.sum(diabetes_mort),np.sum(non_diabetique_vivant)/ np.sum(non_diabetique_mort)"
   ]
  },
  {
   "cell_type": "markdown",
   "metadata": {},
   "source": [
    "<h2> Verifions si l'anémie est indicateur de mort</h2>"
   ]
  },
  {
   "cell_type": "code",
<<<<<<< HEAD
   "execution_count": 246,
=======
   "execution_count": 82,
>>>>>>> 47595866e9b51f7e4b9a363a955dd44ef581affa
   "metadata": {},
   "outputs": [],
   "source": [
    "anemie_true = dataset[\"anaemia\"] ==1\n",
    "anemie_false = dataset[\"anaemia\"]  ==0\n",
    "anemia_mort = dataset['DEATH_EVENT'][anemie_true] == 1\n",
    "non_anemia_mort = dataset['DEATH_EVENT'][anemie_false] == 1\n",
    "anemia_vivant = dataset['DEATH_EVENT'][anemie_true] == 0\n",
    "non_anemia_vivant = dataset['DEATH_EVENT'][anemie_false] == 0"
   ]
  },
  {
   "cell_type": "code",
<<<<<<< HEAD
   "execution_count": 247,
=======
   "execution_count": 83,
>>>>>>> 47595866e9b51f7e4b9a363a955dd44ef581affa
   "metadata": {},
   "outputs": [
    {
     "data": {
      "image/png": "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\n",
      "text/plain": [
       "<Figure size 432x288 with 1 Axes>"
      ]
     },
     "metadata": {},
     "output_type": "display_data"
    },
    {
     "data": {
      "text/plain": [
       "(1.8043478260869565, 2.4)"
      ]
     },
<<<<<<< HEAD
     "execution_count": 247,
=======
     "execution_count": 83,
>>>>>>> 47595866e9b51f7e4b9a363a955dd44ef581affa
     "metadata": {},
     "output_type": "execute_result"
    }
   ],
   "source": [
    "#petite représentation\n",
    "labels = 'atteint anemie', 'anemie mort', 'non-atteint','non anemie mort'\n",
    "sizes = [np.sum(anemia_vivant), np.sum(anemia_mort),np.sum(non_anemia_vivant),np.sum(non_anemia_mort)]\n",
    "\n",
    "plt.pie(sizes, labels=labels,  autopct='%1.1f%%', shadow=True, startangle=90)\n",
    "\n",
    "plt.axis('equal')\n",
    "\n",
    "plt.show()\n",
    "\n",
    "#A commenter\n",
    "## 11.6 % des 32.7% sont mort atteint d'anemie\n",
    "## 12.7 % des 43.0% sont mort non atteint d'anemie\n",
    "np.sum(anemia_vivant)/np.sum(anemia_mort),np.sum(non_anemia_vivant)/ np.sum(non_anemia_mort)"
   ]
  },
  {
   "cell_type": "markdown",
   "metadata": {},
   "source": [
    "\n"
   ]
  },
  {
   "cell_type": "markdown",
   "metadata": {},
   "source": [
    "<h2> Avoir une pression artériel élévé (high_blood_pressure) indicateur de mort :  </h2>"
   ]
  },
  {
   "cell_type": "code",
   "execution_count": 109,
   "metadata": {},
   "outputs": [],
   "source": [
    "hpb_true = dataset[\"high_blood_pressure\"] ==1\n",
    "hpb_false = dataset[\"high_blood_pressure\"]  ==0\n",
    "hpb_mort = dataset['DEATH_EVENT'][hpb_true] == 1\n",
    "non_hpb_mort = dataset['DEATH_EVENT'][hpb_false] == 1\n",
    "hpb_vivant = dataset['DEATH_EVENT'][hpb_true] == 0\n",
    "non_hpb_vivant = dataset['DEATH_EVENT'][hpb_false] == 0"
   ]
  },
  {
   "cell_type": "code",
   "execution_count": 110,
   "metadata": {},
   "outputs": [
    {
     "data": {
      "image/png": "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\n",
      "text/plain": [
       "<Figure size 432x288 with 1 Axes>"
      ]
     },
     "metadata": {},
     "output_type": "display_data"
    }
   ],
   "source": [
    "#petite représentation\n",
    "labels = 'atteint hpb', 'hpb mort', 'non-atteint','non hpb mort'\n",
    "sizes = [np.sum(hpb_vivant), np.sum(hpb_mort),np.sum(non_hpb_vivant),np.sum(non_hpb_mort)]\n",
    "\n",
    "plt.pie(sizes, labels=labels,  autopct='%1.1f%%', shadow=True, startangle=90)\n",
    "\n",
    "plt.axis('equal')\n",
    "\n",
    "plt.show()\n",
    "#To Do  \n",
    "#A commenter"
   ]
  },
  {
   "cell_type": "markdown",
   "metadata": {},
   "source": [
    "<h2>Fumer est-il un indicateur de mort ? </h2>"
   ]
  },
  {
   "cell_type": "code",
   "execution_count": 111,
   "metadata": {},
   "outputs": [],
   "source": [
    "fumeur_true = dataset[\"smoking\"] ==1\n",
    "fumeur_false = dataset[\"smoking\"]  ==0\n",
    "fumeur_mort = dataset['DEATH_EVENT'][fumeur_true] == 1\n",
    "non_fumeur_mort = dataset['DEATH_EVENT'][fumeur_false] == 1\n",
    "fumeur_vivant = dataset['DEATH_EVENT'][fumeur_true] == 0\n",
    "non_fumeur_vivant = dataset['DEATH_EVENT'][fumeur_false] == 0"
   ]
  },
  {
   "cell_type": "code",
   "execution_count": 108,
   "metadata": {},
   "outputs": [
    {
     "data": {
      "image/png": "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\n",
      "text/plain": [
       "<Figure size 432x288 with 1 Axes>"
      ]
     },
     "metadata": {},
     "output_type": "display_data"
    }
   ],
   "source": [
    "#petite représentation\n",
    "labels = 'fumeur', 'fumeur mort', 'non-fumeur','non fumeur mort'\n",
    "sizes = [np.sum(fumeur_vivant), np.sum(fumeur_mort),np.sum(non_fumeur_vivant),np.sum(non_fumeur_mort)]\n",
    "\n",
    "plt.pie(sizes, labels=labels,  autopct='%1.1f%%', shadow=True, startangle=90)\n",
    "\n",
    "plt.axis('equal')\n",
    "\n",
    "plt.show()"
   ]
  },
  {
   "cell_type": "code",
   "execution_count": null,
   "metadata": {},
   "outputs": [],
   "source": [
    "# plus de non-fumeurs mort \n",
    "# To do "
   ]
  },
  {
   "cell_type": "markdown",
   "metadata": {},
   "source": [
    "<h2>Autre visualisation à faire </h2>"
   ]
  },
  {
   "cell_type": "code",
<<<<<<< HEAD
   "execution_count": 248,
=======
   "execution_count": 84,
>>>>>>> 47595866e9b51f7e4b9a363a955dd44ef581affa
   "metadata": {},
   "outputs": [
    {
     "name": "stdout",
     "output_type": "stream",
     "text": [
      "------Hommes qui fummes ------\n",
      " 47.42268041237113\n",
      "------Femmes qui fumme------\n",
      " 3.8095238095238098\n"
     ]
    }
   ],
   "source": [
    "#idee\n",
    "print(\"------Hommes qui fummes ------\")\n",
    "print(\"\" ,dataset[\"smoking\"][dataset[\"sex\"] == 1].value_counts(normalize = True)[1]*100)\n",
    "\n",
    "print(\"------Femmes qui fumme------\")\n",
    "print(\"\" ,dataset[\"smoking\"][dataset[\"sex\"] == 0].value_counts(normalize = True)[1]*100)"
   ]
  },
  {
   "cell_type": "markdown",
   "metadata": {},
   "source": [
    "<h2>Normalisation/Standardisation (standardisation) , faire la normalisation </h2>"
   ]
  },
  {
   "cell_type": "code",
<<<<<<< HEAD
   "execution_count": 249,
=======
   "execution_count": 85,
>>>>>>> 47595866e9b51f7e4b9a363a955dd44ef581affa
   "metadata": {},
   "outputs": [],
   "source": [
    "#StandardScaler or MinMaxScaler "
   ]
  },
  {
   "cell_type": "code",
<<<<<<< HEAD
   "execution_count": 250,
=======
   "execution_count": 86,
   "metadata": {},
   "outputs": [
    {
     "data": {
      "text/html": [
       "<div>\n",
       "<style scoped>\n",
       "    .dataframe tbody tr th:only-of-type {\n",
       "        vertical-align: middle;\n",
       "    }\n",
       "\n",
       "    .dataframe tbody tr th {\n",
       "        vertical-align: top;\n",
       "    }\n",
       "\n",
       "    .dataframe thead th {\n",
       "        text-align: right;\n",
       "    }\n",
       "</style>\n",
       "<table border=\"1\" class=\"dataframe\">\n",
       "  <thead>\n",
       "    <tr style=\"text-align: right;\">\n",
       "      <th></th>\n",
       "      <th>age</th>\n",
       "      <th>anaemia</th>\n",
       "      <th>creatinine_phosphokinase</th>\n",
       "      <th>diabetes</th>\n",
       "      <th>ejection_fraction</th>\n",
       "      <th>high_blood_pressure</th>\n",
       "      <th>platelets</th>\n",
       "      <th>serum_creatinine</th>\n",
       "      <th>serum_sodium</th>\n",
       "      <th>sex</th>\n",
       "      <th>smoking</th>\n",
       "      <th>DEATH_EVENT</th>\n",
       "    </tr>\n",
       "  </thead>\n",
       "  <tbody>\n",
       "    <tr>\n",
       "      <th>0</th>\n",
       "      <td>1.193302</td>\n",
       "      <td>0</td>\n",
       "      <td>0.000166</td>\n",
       "      <td>0</td>\n",
       "      <td>-1.530560</td>\n",
       "      <td>1</td>\n",
       "      <td>1.681648e-02</td>\n",
       "      <td>0.490057</td>\n",
       "      <td>-1.504036</td>\n",
       "      <td>1</td>\n",
       "      <td>0</td>\n",
       "      <td>1</td>\n",
       "    </tr>\n",
       "    <tr>\n",
       "      <th>1</th>\n",
       "      <td>-0.490896</td>\n",
       "      <td>0</td>\n",
       "      <td>7.514640</td>\n",
       "      <td>0</td>\n",
       "      <td>-0.007077</td>\n",
       "      <td>0</td>\n",
       "      <td>7.535660e-09</td>\n",
       "      <td>-0.284552</td>\n",
       "      <td>-0.141976</td>\n",
       "      <td>1</td>\n",
       "      <td>0</td>\n",
       "      <td>1</td>\n",
       "    </tr>\n",
       "    <tr>\n",
       "      <th>2</th>\n",
       "      <td>0.351203</td>\n",
       "      <td>0</td>\n",
       "      <td>-0.449939</td>\n",
       "      <td>0</td>\n",
       "      <td>-1.530560</td>\n",
       "      <td>0</td>\n",
       "      <td>-1.038073e+00</td>\n",
       "      <td>-0.090900</td>\n",
       "      <td>-1.731046</td>\n",
       "      <td>1</td>\n",
       "      <td>1</td>\n",
       "      <td>1</td>\n",
       "    </tr>\n",
       "    <tr>\n",
       "      <th>3</th>\n",
       "      <td>-0.911945</td>\n",
       "      <td>1</td>\n",
       "      <td>-0.486071</td>\n",
       "      <td>0</td>\n",
       "      <td>-1.530560</td>\n",
       "      <td>0</td>\n",
       "      <td>-5.464741e-01</td>\n",
       "      <td>0.490057</td>\n",
       "      <td>0.085034</td>\n",
       "      <td>1</td>\n",
       "      <td>0</td>\n",
       "      <td>1</td>\n",
       "    </tr>\n",
       "    <tr>\n",
       "      <th>4</th>\n",
       "      <td>0.351203</td>\n",
       "      <td>1</td>\n",
       "      <td>-0.435486</td>\n",
       "      <td>1</td>\n",
       "      <td>-1.530560</td>\n",
       "      <td>0</td>\n",
       "      <td>6.517986e-01</td>\n",
       "      <td>1.264666</td>\n",
       "      <td>-4.682176</td>\n",
       "      <td>0</td>\n",
       "      <td>0</td>\n",
       "      <td>1</td>\n",
       "    </tr>\n",
       "  </tbody>\n",
       "</table>\n",
       "</div>"
      ],
      "text/plain": [
       "        age  anaemia  creatinine_phosphokinase  diabetes  ejection_fraction  \\\n",
       "0  1.193302        0                  0.000166         0          -1.530560   \n",
       "1 -0.490896        0                  7.514640         0          -0.007077   \n",
       "2  0.351203        0                 -0.449939         0          -1.530560   \n",
       "3 -0.911945        1                 -0.486071         0          -1.530560   \n",
       "4  0.351203        1                 -0.435486         1          -1.530560   \n",
       "\n",
       "   high_blood_pressure     platelets  serum_creatinine  serum_sodium  sex  \\\n",
       "0                    1  1.681648e-02          0.490057     -1.504036    1   \n",
       "1                    0  7.535660e-09         -0.284552     -0.141976    1   \n",
       "2                    0 -1.038073e+00         -0.090900     -1.731046    1   \n",
       "3                    0 -5.464741e-01          0.490057      0.085034    1   \n",
       "4                    0  6.517986e-01          1.264666     -4.682176    0   \n",
       "\n",
       "   smoking  DEATH_EVENT  \n",
       "0        0            1  \n",
       "1        0            1  \n",
       "2        1            1  \n",
       "3        0            1  \n",
       "4        0            1  "
      ]
     },
     "execution_count": 86,
     "metadata": {},
     "output_type": "execute_result"
    }
   ],
   "source": [
    "scaled_features = dataset.copy()\n",
    "col_names = ['age', 'creatinine_phosphokinase', 'ejection_fraction' ,'platelets' ,'serum_creatinine','serum_sodium']\n",
    "features = scaled_features[col_names]\n",
    "scaler = StandardScaler().fit(features.values)\n",
    "features = scaler.transform(features.values)\n",
    "scaled_features[col_names] = features\n",
    "scaled_features.head()\n"
   ]
  },
  {
   "cell_type": "code",
   "execution_count": 87,
   "metadata": {},
   "outputs": [
    {
     "data": {
      "text/html": [
       "<div>\n",
       "<style scoped>\n",
       "    .dataframe tbody tr th:only-of-type {\n",
       "        vertical-align: middle;\n",
       "    }\n",
       "\n",
       "    .dataframe tbody tr th {\n",
       "        vertical-align: top;\n",
       "    }\n",
       "\n",
       "    .dataframe thead th {\n",
       "        text-align: right;\n",
       "    }\n",
       "</style>\n",
       "<table border=\"1\" class=\"dataframe\">\n",
       "  <thead>\n",
       "    <tr style=\"text-align: right;\">\n",
       "      <th></th>\n",
       "      <th>age</th>\n",
       "      <th>anaemia</th>\n",
       "      <th>creatinine_phosphokinase</th>\n",
       "      <th>diabetes</th>\n",
       "      <th>ejection_fraction</th>\n",
       "      <th>high_blood_pressure</th>\n",
       "      <th>platelets</th>\n",
       "      <th>serum_creatinine</th>\n",
       "      <th>serum_sodium</th>\n",
       "      <th>sex</th>\n",
       "      <th>smoking</th>\n",
       "      <th>DEATH_EVENT</th>\n",
       "    </tr>\n",
       "  </thead>\n",
       "  <tbody>\n",
       "    <tr>\n",
       "      <th>0</th>\n",
       "      <td>75</td>\n",
       "      <td>0</td>\n",
       "      <td>582</td>\n",
       "      <td>0</td>\n",
       "      <td>20</td>\n",
       "      <td>1</td>\n",
       "      <td>265000.00</td>\n",
       "      <td>1.9</td>\n",
       "      <td>130</td>\n",
       "      <td>1</td>\n",
       "      <td>0</td>\n",
       "      <td>1</td>\n",
       "    </tr>\n",
       "    <tr>\n",
       "      <th>1</th>\n",
       "      <td>55</td>\n",
       "      <td>0</td>\n",
       "      <td>7861</td>\n",
       "      <td>0</td>\n",
       "      <td>38</td>\n",
       "      <td>0</td>\n",
       "      <td>263358.03</td>\n",
       "      <td>1.1</td>\n",
       "      <td>136</td>\n",
       "      <td>1</td>\n",
       "      <td>0</td>\n",
       "      <td>1</td>\n",
       "    </tr>\n",
       "    <tr>\n",
       "      <th>2</th>\n",
       "      <td>65</td>\n",
       "      <td>0</td>\n",
       "      <td>146</td>\n",
       "      <td>0</td>\n",
       "      <td>20</td>\n",
       "      <td>0</td>\n",
       "      <td>162000.00</td>\n",
       "      <td>1.3</td>\n",
       "      <td>129</td>\n",
       "      <td>1</td>\n",
       "      <td>1</td>\n",
       "      <td>1</td>\n",
       "    </tr>\n",
       "    <tr>\n",
       "      <th>3</th>\n",
       "      <td>50</td>\n",
       "      <td>1</td>\n",
       "      <td>111</td>\n",
       "      <td>0</td>\n",
       "      <td>20</td>\n",
       "      <td>0</td>\n",
       "      <td>210000.00</td>\n",
       "      <td>1.9</td>\n",
       "      <td>137</td>\n",
       "      <td>1</td>\n",
       "      <td>0</td>\n",
       "      <td>1</td>\n",
       "    </tr>\n",
       "    <tr>\n",
       "      <th>4</th>\n",
       "      <td>65</td>\n",
       "      <td>1</td>\n",
       "      <td>160</td>\n",
       "      <td>1</td>\n",
       "      <td>20</td>\n",
       "      <td>0</td>\n",
       "      <td>327000.00</td>\n",
       "      <td>2.7</td>\n",
       "      <td>116</td>\n",
       "      <td>0</td>\n",
       "      <td>0</td>\n",
       "      <td>1</td>\n",
       "    </tr>\n",
       "  </tbody>\n",
       "</table>\n",
       "</div>"
      ],
      "text/plain": [
       "   age  anaemia  creatinine_phosphokinase  diabetes  ejection_fraction  \\\n",
       "0   75        0                       582         0                 20   \n",
       "1   55        0                      7861         0                 38   \n",
       "2   65        0                       146         0                 20   \n",
       "3   50        1                       111         0                 20   \n",
       "4   65        1                       160         1                 20   \n",
       "\n",
       "   high_blood_pressure  platelets  serum_creatinine  serum_sodium  sex  \\\n",
       "0                    1  265000.00               1.9           130    1   \n",
       "1                    0  263358.03               1.1           136    1   \n",
       "2                    0  162000.00               1.3           129    1   \n",
       "3                    0  210000.00               1.9           137    1   \n",
       "4                    0  327000.00               2.7           116    0   \n",
       "\n",
       "   smoking  DEATH_EVENT  \n",
       "0        0            1  \n",
       "1        0            1  \n",
       "2        1            1  \n",
       "3        0            1  \n",
       "4        0            1  "
      ]
     },
     "execution_count": 87,
     "metadata": {},
     "output_type": "execute_result"
    }
   ],
   "source": [
    "dataset.head()"
   ]
  },
  {
   "cell_type": "code",
   "execution_count": 119,
>>>>>>> 47595866e9b51f7e4b9a363a955dd44ef581affa
   "metadata": {},
   "outputs": [],
   "source": [
    "X = dataset.values[:, :-1]\n",
    "y = dataset.values[:, -1]\n",
    "#X ,y"
   ]
  },
  {
   "cell_type": "code",
<<<<<<< HEAD
   "execution_count": 251,
=======
   "execution_count": 89,
>>>>>>> 47595866e9b51f7e4b9a363a955dd44ef581affa
   "metadata": {},
   "outputs": [],
   "source": [
    "from sklearn.preprocessing import StandardScaler\n",
    "scaler = StandardScaler().fit(X)\n",
    "X = scaler.transform(X)\n",
    "\n",
    "\n",
    "x_train, x_test, y_train, y_test = train_test_split(X, y, test_size = 0.1, random_state =5)"
   ]
  },
  {
   "cell_type": "code",
<<<<<<< HEAD
   "execution_count": 252,
   "metadata": {},
   "outputs": [
    {
     "data": {
      "text/plain": [
       "(array([[ 7.72252644e-01, -8.71104775e-01, -5.32526741e-01, ...,\n",
       "         -1.41976151e-01,  7.35688190e-01,  1.45416070e+00],\n",
       "        [ 2.11961101e+00, -8.71104775e-01,  1.65728387e-04, ...,\n",
       "         -5.95996141e-01, -1.35927151e+00, -6.87681906e-01],\n",
       "        [-4.90895827e-01, -8.71104775e-01,  1.48158761e+00, ...,\n",
       "          3.12043840e-01,  7.35688190e-01, -6.87681906e-01],\n",
       "        ...,\n",
       "        [ 3.51203153e-01,  1.14796753e+00, -4.84006302e-01, ...,\n",
       "          7.66063830e-01, -1.35927151e+00, -6.87681906e-01],\n",
       "        [-1.75404430e+00, -8.71104775e-01, -3.48768486e-01, ...,\n",
       "          7.66063830e-01, -1.35927151e+00, -6.87681906e-01],\n",
       "        [-1.75404430e+00,  1.14796753e+00, -4.96394499e-01, ...,\n",
       "          9.93073825e-01, -1.35927151e+00, -6.87681906e-01]]),\n",
       " array([0., 1., 1., 0., 0., 0., 0., 1., 1., 0., 1., 0., 1., 1., 1., 0., 0.,\n",
       "        1., 0., 0., 0., 1., 0., 0., 0., 0., 0., 1., 0., 0., 0., 1., 1., 1.,\n",
       "        0., 0., 0., 0., 0., 0., 0., 1., 0., 1., 0., 1., 0., 0., 0., 1., 0.,\n",
       "        0., 1., 0., 0., 1., 1., 0., 0., 1., 0., 0., 0., 0., 0., 1., 0., 1.,\n",
       "        0., 1., 1., 0., 1., 1., 0., 1., 0., 0., 1., 1., 1., 1., 0., 0., 1.,\n",
       "        1., 0., 1., 0., 0., 0., 0., 1., 1., 0., 0., 0., 0., 0., 0., 0., 0.,\n",
       "        1., 0., 0., 0., 0., 0., 0., 0., 0., 0., 0., 0., 0., 0., 1., 1., 0.,\n",
       "        1., 0., 0., 1., 0., 0., 0., 0., 1., 1., 1., 0., 0., 0., 0., 0., 0.,\n",
       "        0., 0., 1., 0., 0., 1., 0., 1., 0., 1., 0., 1., 0., 1., 0., 1., 0.,\n",
       "        0., 0., 1., 1., 0., 1., 0., 1., 0., 1., 0., 0., 0., 1., 0., 0., 1.,\n",
       "        0., 0., 1., 0., 1., 1., 0., 0., 1., 1., 0., 0., 0., 0., 0., 0., 1.,\n",
       "        0., 0., 0., 0., 0., 0., 1., 0., 0., 0., 0., 1., 0., 0., 0., 0., 1.,\n",
       "        0., 1., 1., 0., 0., 0., 1., 0., 0., 1., 0., 0., 0., 0., 0., 0., 1.,\n",
       "        0., 1., 1., 0., 1., 0., 0., 0., 0., 0., 0., 1., 0., 0., 0., 1., 1.,\n",
       "        0., 1., 1., 0., 0., 1., 0., 0., 0., 0., 0., 1., 1., 0., 0., 1., 1.,\n",
       "        0., 1., 0., 1., 0., 0., 0., 0., 0., 1., 0., 0., 0., 0.]))"
      ]
     },
     "execution_count": 252,
     "metadata": {},
     "output_type": "execute_result"
=======
   "execution_count": 90,
   "metadata": {},
   "outputs": [
    {
     "name": "stdout",
     "output_type": "stream",
     "text": [
      "[[-6.98463369e-02  1.00000000e+00  1.65728387e-04 ...  1.90111381e+00\n",
      "   0.00000000e+00  0.00000000e+00]\n",
      " [ 1.82783357e-01  1.00000000e+00 -5.37688489e-01 ...  7.66063830e-01\n",
      "   0.00000000e+00  0.00000000e+00]\n",
      " [-6.98463369e-02  1.00000000e+00 -4.41679963e-01 ... -3.68986146e-01\n",
      "   1.00000000e+00  0.00000000e+00]\n",
      " ...\n",
      " [ 3.51203153e-01  1.00000000e+00 -4.84006302e-01 ...  7.66063830e-01\n",
      "   0.00000000e+00  0.00000000e+00]\n",
      " [-1.75404430e+00  0.00000000e+00 -3.48768486e-01 ...  7.66063830e-01\n",
      "   0.00000000e+00  0.00000000e+00]\n",
      " [-1.75404430e+00  1.00000000e+00 -4.96394499e-01 ...  9.93073825e-01\n",
      "   0.00000000e+00  0.00000000e+00]]\n"
     ]
>>>>>>> 47595866e9b51f7e4b9a363a955dd44ef581affa
    }
   ],
   "source": [
    "x_train , y_train"
   ]
  },
  {
   "cell_type": "code",
<<<<<<< HEAD
   "execution_count": 253,
=======
   "execution_count": 91,
>>>>>>> 47595866e9b51f7e4b9a363a955dd44ef581affa
   "metadata": {},
   "outputs": [
    {
     "name": "stdout",
     "output_type": "stream",
     "text": [
<<<<<<< HEAD
      "0.724907063197026\n"
=======
      "0.7047244094488189\n"
>>>>>>> 47595866e9b51f7e4b9a363a955dd44ef581affa
     ]
    }
   ],
   "source": [
    "#on fixe \n",
    "#loss = 'log'\n",
    "#penalite =  l2'\n",
    "#random_state pour la reproductibilité du résultat : on choissi 5 \n",
    "\n",
    "model=  SGDClassifier(loss='log', penalty='l2', random_state=5)\n",
    "model.fit(x_train,y_train)\n",
    "print(model.score(x_train,y_train))  ## on pas d'overfitting sinon on aurait eu 100% \n",
    "                                "
   ]
  },
  {
   "cell_type": "code",
<<<<<<< HEAD
   "execution_count": 254,
=======
   "execution_count": 92,
>>>>>>> 47595866e9b51f7e4b9a363a955dd44ef581affa
   "metadata": {},
   "outputs": [],
   "source": [
    "from sklearn.metrics import accuracy_score"
   ]
  },
  {
   "cell_type": "markdown",
   "metadata": {},
   "source": [
    "<h2>  logistic regression vs linear svm (hors sujet) </h2>"
   ]
  },
  {
   "cell_type": "code",
<<<<<<< HEAD
   "execution_count": 255,
=======
   "execution_count": 93,
>>>>>>> 47595866e9b51f7e4b9a363a955dd44ef581affa
   "metadata": {},
   "outputs": [
    {
     "name": "stdout",
     "output_type": "stream",
     "text": [
<<<<<<< HEAD
      "Accuracy: 0.70\n"
=======
      "Accuracy: 0.73\n"
>>>>>>> 47595866e9b51f7e4b9a363a955dd44ef581affa
     ]
    }
   ],
   "source": [
    "##########\n",
    "    ## SGDClassifier avec une fonction cout 'log' est equivalent à la fonction logistic regression\n",
    " ##source sklearn\n",
    "\n",
    "model=  SGDClassifier(loss='log', penalty='l2', random_state=5)  \n",
    "model.fit(x_train,y_train)\n",
    "                                \n",
    "predY = model.predict(x_test)\n",
    "print('Accuracy: {:.2f}'.format(accuracy_score(y_test, predY)))\n",
    "\n",
    "\n"
   ]
  },
  {
   "cell_type": "code",
<<<<<<< HEAD
   "execution_count": 256,
=======
   "execution_count": 94,
>>>>>>> 47595866e9b51f7e4b9a363a955dd44ef581affa
   "metadata": {},
   "outputs": [
    {
     "name": "stdout",
     "output_type": "stream",
     "text": [
<<<<<<< HEAD
      "Accuracy: 0.60\n"
=======
      "Accuracy: 0.69\n"
>>>>>>> 47595866e9b51f7e4b9a363a955dd44ef581affa
     ]
    }
   ],
   "source": [
    "    ## SGDClassifier avec une fonction cout 'hinge' est equivalent à la fonction SVM\n",
    "\n",
    "\n",
    "model=  SGDClassifier(loss='hinge', penalty='l2' ,random_state=5)  ## fonction cout hinge ~~~   linear svm  ##source sklearn\n",
    "model.fit(x_train,y_train)\n",
    "                                \n",
    "predY = model.predict(x_test)\n",
    "print('Accuracy: {:.2f}'.format(accuracy_score(y_test, predY)))\n",
    "\n",
    "\n"
   ]
  },
  {
   "cell_type": "code",
<<<<<<< HEAD
   "execution_count": 257,
=======
   "execution_count": 95,
>>>>>>> 47595866e9b51f7e4b9a363a955dd44ef581affa
   "metadata": {},
   "outputs": [
    {
     "data": {
      "text/html": [
       "<div>\n",
       "<style scoped>\n",
       "    .dataframe tbody tr th:only-of-type {\n",
       "        vertical-align: middle;\n",
       "    }\n",
       "\n",
       "    .dataframe tbody tr th {\n",
       "        vertical-align: top;\n",
       "    }\n",
       "\n",
       "    .dataframe thead th {\n",
       "        text-align: right;\n",
       "    }\n",
       "</style>\n",
       "<table border=\"1\" class=\"dataframe\">\n",
       "  <thead>\n",
       "    <tr style=\"text-align: right;\">\n",
       "      <th></th>\n",
       "      <th>age</th>\n",
       "      <th>anaemia</th>\n",
       "      <th>creatinine_phosphokinase</th>\n",
       "      <th>diabetes</th>\n",
       "      <th>ejection_fraction</th>\n",
       "      <th>high_blood_pressure</th>\n",
       "      <th>platelets</th>\n",
       "      <th>serum_creatinine</th>\n",
       "      <th>serum_sodium</th>\n",
       "      <th>sex</th>\n",
       "      <th>smoking</th>\n",
       "      <th>DEATH_EVENT</th>\n",
       "    </tr>\n",
       "  </thead>\n",
       "  <tbody>\n",
       "    <tr>\n",
       "      <th>0</th>\n",
       "      <td>75</td>\n",
       "      <td>0</td>\n",
       "      <td>582</td>\n",
       "      <td>0</td>\n",
       "      <td>20</td>\n",
       "      <td>1</td>\n",
       "      <td>265000.00</td>\n",
       "      <td>1.9</td>\n",
       "      <td>130</td>\n",
       "      <td>1</td>\n",
       "      <td>0</td>\n",
       "      <td>1</td>\n",
       "    </tr>\n",
       "    <tr>\n",
       "      <th>1</th>\n",
       "      <td>55</td>\n",
       "      <td>0</td>\n",
       "      <td>7861</td>\n",
       "      <td>0</td>\n",
       "      <td>38</td>\n",
       "      <td>0</td>\n",
       "      <td>263358.03</td>\n",
       "      <td>1.1</td>\n",
       "      <td>136</td>\n",
       "      <td>1</td>\n",
       "      <td>0</td>\n",
       "      <td>1</td>\n",
       "    </tr>\n",
       "    <tr>\n",
       "      <th>2</th>\n",
       "      <td>65</td>\n",
       "      <td>0</td>\n",
       "      <td>146</td>\n",
       "      <td>0</td>\n",
       "      <td>20</td>\n",
       "      <td>0</td>\n",
       "      <td>162000.00</td>\n",
       "      <td>1.3</td>\n",
       "      <td>129</td>\n",
       "      <td>1</td>\n",
       "      <td>1</td>\n",
       "      <td>1</td>\n",
       "    </tr>\n",
       "    <tr>\n",
       "      <th>3</th>\n",
       "      <td>50</td>\n",
       "      <td>1</td>\n",
       "      <td>111</td>\n",
       "      <td>0</td>\n",
       "      <td>20</td>\n",
       "      <td>0</td>\n",
       "      <td>210000.00</td>\n",
       "      <td>1.9</td>\n",
       "      <td>137</td>\n",
       "      <td>1</td>\n",
       "      <td>0</td>\n",
       "      <td>1</td>\n",
       "    </tr>\n",
       "    <tr>\n",
       "      <th>4</th>\n",
       "      <td>65</td>\n",
       "      <td>1</td>\n",
       "      <td>160</td>\n",
       "      <td>1</td>\n",
       "      <td>20</td>\n",
       "      <td>0</td>\n",
       "      <td>327000.00</td>\n",
       "      <td>2.7</td>\n",
       "      <td>116</td>\n",
       "      <td>0</td>\n",
       "      <td>0</td>\n",
       "      <td>1</td>\n",
       "    </tr>\n",
       "  </tbody>\n",
       "</table>\n",
       "</div>"
      ],
      "text/plain": [
       "   age  anaemia  creatinine_phosphokinase  diabetes  ejection_fraction  \\\n",
       "0   75        0                       582         0                 20   \n",
       "1   55        0                      7861         0                 38   \n",
       "2   65        0                       146         0                 20   \n",
       "3   50        1                       111         0                 20   \n",
       "4   65        1                       160         1                 20   \n",
       "\n",
       "   high_blood_pressure  platelets  serum_creatinine  serum_sodium  sex  \\\n",
       "0                    1  265000.00               1.9           130    1   \n",
       "1                    0  263358.03               1.1           136    1   \n",
       "2                    0  162000.00               1.3           129    1   \n",
       "3                    0  210000.00               1.9           137    1   \n",
       "4                    0  327000.00               2.7           116    0   \n",
       "\n",
       "   smoking  DEATH_EVENT  \n",
       "0        0            1  \n",
       "1        0            1  \n",
       "2        1            1  \n",
       "3        0            1  \n",
       "4        0            1  "
      ]
     },
<<<<<<< HEAD
     "execution_count": 257,
=======
     "execution_count": 95,
>>>>>>> 47595866e9b51f7e4b9a363a955dd44ef581affa
     "metadata": {},
     "output_type": "execute_result"
    }
   ],
   "source": [
    "dataset.head(5)"
   ]
  },
  {
   "cell_type": "markdown",
   "metadata": {},
   "source": [
    "<h1> penalité  L2 comparer score avec fonction cout </h1>\n",
    "#l2 empeche l'overfitting"
   ]
  },
  {
   "cell_type": "markdown",
   "metadata": {},
   "source": [
    "<h2> Fonction coût / score </h2>"
   ]
  },
  {
   "cell_type": "code",
   "execution_count": 258,
   "metadata": {},
   "outputs": [
    {
     "name": "stdout",
     "output_type": "stream",
     "text": [
      "loss :   hinge  score =  0.7063197026022305\n",
      "loss :   log  score =  0.724907063197026\n",
      "loss :   modified_huber  score =  0.7286245353159851\n",
      "loss :   squared_hinge  score =  0.6617100371747212\n",
      "loss :   perceptron  score =  0.7100371747211895\n",
      "loss :   squared_loss  score =  0.5390334572490706\n",
      "loss :   huber  score =  0.6691449814126395\n",
      "loss :   epsilon_insensitive  score =  0.49070631970260226\n",
      "loss :   squared_epsilon_insensitive  score =  0.49814126394052044\n"
     ]
    }
   ],
   "source": [
    "#recherche du meilleur random_state\n",
    "score_model = []\n",
    "loss_name =[]\n",
    "\n",
    "loss_l = ['hinge','log', 'modified_huber', 'squared_hinge', 'perceptron','squared_loss', 'huber', 'epsilon_insensitive','squared_epsilon_insensitive']    \n",
    "for i in loss_l:\n",
    "    model_1 = SGDClassifier(loss=i, penalty='l2' , random_state=5)\n",
    "    model_1.fit(x_train,y_train)\n",
    "    scoreFinal =  model_1.score(x_train,y_train)\n",
    "    print(\"loss :  \" , i , \" score = \",scoreFinal)\n",
    "    loss_name.append(i)\n",
    "    score_model.append(scoreFinal)\n",
    "   \n",
    "\n",
    "    "
   ]
  },
  {
   "cell_type": "code",
   "execution_count": 259,
   "metadata": {},
   "outputs": [
    {
     "data": {
      "text/plain": [
       "[<matplotlib.lines.Line2D at 0x1521cf4f040>]"
      ]
     },
     "execution_count": 259,
     "metadata": {},
     "output_type": "execute_result"
    },
    {
     "data": {
      "image/png": "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\n",
      "text/plain": [
       "<Figure size 1152x432 with 1 Axes>"
      ]
     },
     "metadata": {
      "needs_background": "light"
     },
     "output_type": "display_data"
    }
   ],
   "source": [
    "plt.figure(1, figsize=(16, 6))\n",
    "plt.plot(loss_name,score_model)"
   ]
  },
  {
   "cell_type": "code",
   "execution_count": 260,
   "metadata": {},
   "outputs": [
    {
     "name": "stdout",
     "output_type": "stream",
     "text": [
      "score =  0.7286245353159851  Loss name =  modified_huber\n"
     ]
    }
   ],
   "source": [
    "scoreMaxi_index = score_model.index(max(score_model))\n",
    "lossWithMaxScore = loss_name[scoreMaxi_index]\n",
    "scoreMaxi = max(score_model)\n",
    "print(\"score = \", scoreMaxi,  \" Loss name = \", lossWithMaxScore)"
   ]
  },
  {
   "cell_type": "code",
   "execution_count": 261,
   "metadata": {},
   "outputs": [],
   "source": [
    "## hinge est la fonction coût qui maximise notre score pour une penalité l2"
   ]
  },
  {
   "cell_type": "markdown",
   "metadata": {},
   "source": [
    "<h1> penalité  L1 comparer score avec fonction cout </h1>\n"
   ]
  },
  {
   "cell_type": "markdown",
   "metadata": {},
   "source": [
    "<h2> Fonction coût / score </h2>"
   ]
  },
  {
   "cell_type": "code",
   "execution_count": 262,
   "metadata": {},
   "outputs": [
    {
     "name": "stdout",
     "output_type": "stream",
     "text": [
      "loss :   hinge  score =  0.7666666666666667\n",
      "loss :   log  score =  0.7666666666666667\n",
      "loss :   modified_huber  score =  0.5\n",
      "loss :   squared_hinge  score =  0.7\n",
      "loss :   perceptron  score =  0.7\n",
      "loss :   squared_loss  score =  0.6\n",
      "loss :   huber  score =  0.6\n",
      "loss :   epsilon_insensitive  score =  0.8\n",
      "loss :   squared_epsilon_insensitive  score =  0.7\n"
     ]
    }
   ],
   "source": [
    "#recherche du meilleur random_state\n",
    "score_model = []\n",
    "loss_name =[]\n",
    "\n",
    "loss_l = ['hinge','log', 'modified_huber', 'squared_hinge', 'perceptron','squared_loss', 'huber', 'epsilon_insensitive','squared_epsilon_insensitive']    \n",
    "for i in loss_l:\n",
    "    model_1 = SGDClassifier(loss=i, penalty='l1' , random_state=5)\n",
    "    model_1.fit(x_train,y_train)\n",
    "    scoreFinal =  model_1.score(x_test,y_test)\n",
    "    print(\"loss :  \" , i , \" score = \",scoreFinal)\n",
    "    loss_name.append(i)\n",
    "    score_model.append(scoreFinal)\n",
    "   "
   ]
  },
  {
   "cell_type": "code",
   "execution_count": 263,
   "metadata": {},
   "outputs": [
    {
     "data": {
      "text/plain": [
       "[<matplotlib.lines.Line2D at 0x1521d3299a0>]"
      ]
     },
     "execution_count": 263,
     "metadata": {},
     "output_type": "execute_result"
    },
    {
     "data": {
      "image/png": "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\n",
      "text/plain": [
       "<Figure size 1152x432 with 1 Axes>"
      ]
     },
     "metadata": {
      "needs_background": "light"
     },
     "output_type": "display_data"
    }
   ],
   "source": [
    "plt.figure(1, figsize=(16, 6))\n",
    "plt.plot(loss_name,score_model)"
   ]
  },
  {
   "cell_type": "code",
   "execution_count": 264,
   "metadata": {},
   "outputs": [
    {
     "name": "stdout",
     "output_type": "stream",
     "text": [
      "score =  0.8  Loss name =  epsilon_insensitive\n"
     ]
    }
   ],
   "source": [
    "scoreMaxi_index = score_model.index(max(score_model))\n",
    "lossWithMaxScore = loss_name[scoreMaxi_index]\n",
    "scoreMaxi = max(score_model)\n",
    "print(\"score = \", scoreMaxi,  \" Loss name = \", lossWithMaxScore)"
   ]
  },
  {
   "cell_type": "code",
   "execution_count": 265,
   "metadata": {},
   "outputs": [],
   "source": [
    "## epsilon_insensitive est la fonction coût qui maximise notre score pour une penalité l1"
   ]
  },
  {
   "cell_type": "markdown",
   "metadata": {},
   "source": [
    "<h2>Cross-validation (recherche du meilleurs alpha) </h2>"
   ]
  },
  {
   "cell_type": "code",
   "execution_count": 266,
   "metadata": {},
   "outputs": [],
   "source": [
    "monScoring = 'accuracy'  #metrique de score classification"
   ]
  },
  {
   "cell_type": "code",
   "execution_count": 285,
   "metadata": {
    "scrolled": true
   },
   "outputs": [
    {
     "name": "stdout",
     "output_type": "stream",
     "text": [
      "alpha = 0.000100 loss = hinge penality = l1, accuracy: 0.658001 +/- (0.029884)\n",
      "alpha = 0.000100 loss = hinge penality = l2, accuracy: 0.732075 +/- (0.075785)\n",
      "alpha = 0.000100 loss = log penality = l1, accuracy: 0.709713 +/- (0.052792)\n",
      "alpha = 0.000100 loss = log penality = l2, accuracy: 0.624458 +/- (0.049385)\n",
      "alpha = 0.000100 loss = modified_huber penality = l1, accuracy: 0.628232 +/- (0.090765)\n",
      "alpha = 0.000100 loss = modified_huber penality = l2, accuracy: 0.683438 +/- (0.086751)\n",
      "alpha = 0.000100 loss = squared_hinge penality = l1, accuracy: 0.631586 +/- (0.071186)\n",
      "alpha = 0.000100 loss = squared_hinge penality = l2, accuracy: 0.654298 +/- (0.076302)\n",
      "alpha = 0.000100 loss = perceptron penality = l1, accuracy: 0.661775 +/- (0.075954)\n",
      "alpha = 0.000100 loss = perceptron penality = l2, accuracy: 0.679944 +/- (0.065694)\n",
      "alpha = 0.000100 loss = squared_loss penality = l1, accuracy: 0.509364 +/- (0.120030)\n",
      "alpha = 0.000100 loss = squared_loss penality = l2, accuracy: 0.435010 +/- (0.059667)\n",
      "alpha = 0.000100 loss = huber penality = l1, accuracy: 0.657862 +/- (0.073386)\n",
      "alpha = 0.000100 loss = huber penality = l2, accuracy: 0.680014 +/- (0.053631)\n",
      "alpha = 0.000100 loss = epsilon_insensitive penality = l1, accuracy: 0.561565 +/- (0.077953)\n",
      "alpha = 0.000100 loss = epsilon_insensitive penality = l2, accuracy: 0.471978 +/- (0.051897)\n",
      "alpha = 0.000100 loss = squared_epsilon_insensitive penality = l1, accuracy: 0.453948 +/- (0.101361)\n",
      "alpha = 0.000100 loss = squared_epsilon_insensitive penality = l2, accuracy: 0.442488 +/- (0.086903)\n",
      "alpha = 0.000110 loss = hinge penality = l1, accuracy: 0.698812 +/- (0.088964)\n",
      "alpha = 0.000110 loss = hinge penality = l2, accuracy: 0.669252 +/- (0.053535)\n",
      "alpha = 0.000110 loss = log penality = l1, accuracy: 0.676590 +/- (0.072684)\n",
      "alpha = 0.000110 loss = log penality = l2, accuracy: 0.646890 +/- (0.049284)\n",
      "alpha = 0.000110 loss = modified_huber penality = l1, accuracy: 0.691335 +/- (0.070391)\n",
      "alpha = 0.000110 loss = modified_huber penality = l2, accuracy: 0.617051 +/- (0.053443)\n",
      "alpha = 0.000110 loss = squared_hinge penality = l1, accuracy: 0.702516 +/- (0.021475)\n",
      "alpha = 0.000110 loss = squared_hinge penality = l2, accuracy: 0.687491 +/- (0.083366)\n",
      "alpha = 0.000110 loss = perceptron penality = l1, accuracy: 0.606150 +/- (0.095409)\n",
      "alpha = 0.000110 loss = perceptron penality = l2, accuracy: 0.631866 +/- (0.052297)\n",
      "alpha = 0.000110 loss = squared_loss penality = l1, accuracy: 0.472048 +/- (0.038930)\n",
      "alpha = 0.000110 loss = squared_loss penality = l2, accuracy: 0.542907 +/- (0.078208)\n",
      "alpha = 0.000110 loss = huber penality = l1, accuracy: 0.650314 +/- (0.058323)\n",
      "alpha = 0.000110 loss = huber penality = l2, accuracy: 0.601957 +/- (0.064563)\n",
      "alpha = 0.000110 loss = epsilon_insensitive penality = l1, accuracy: 0.528162 +/- (0.128791)\n",
      "alpha = 0.000110 loss = epsilon_insensitive penality = l2, accuracy: 0.561495 +/- (0.051895)\n",
      "alpha = 0.000110 loss = squared_epsilon_insensitive penality = l1, accuracy: 0.591335 +/- (0.085817)\n",
      "alpha = 0.000110 loss = squared_epsilon_insensitive penality = l2, accuracy: 0.464430 +/- (0.065711)\n",
      "alpha = 0.000121 loss = hinge penality = l1, accuracy: 0.680154 +/- (0.060967)\n",
      "alpha = 0.000121 loss = hinge penality = l2, accuracy: 0.676450 +/- (0.051353)\n",
      "alpha = 0.000121 loss = log penality = l1, accuracy: 0.676590 +/- (0.084873)\n",
      "alpha = 0.000121 loss = log penality = l2, accuracy: 0.650594 +/- (0.051286)\n",
      "alpha = 0.000121 loss = modified_huber penality = l1, accuracy: 0.687701 +/- (0.049003)\n",
      "alpha = 0.000121 loss = modified_huber penality = l2, accuracy: 0.680014 +/- (0.060823)\n",
      "alpha = 0.000121 loss = squared_hinge penality = l1, accuracy: 0.683648 +/- (0.055115)\n",
      "alpha = 0.000121 loss = squared_hinge penality = l2, accuracy: 0.665339 +/- (0.052912)\n",
      "alpha = 0.000121 loss = perceptron penality = l1, accuracy: 0.658071 +/- (0.090109)\n",
      "alpha = 0.000121 loss = perceptron penality = l2, accuracy: 0.691265 +/- (0.069795)\n",
      "alpha = 0.000121 loss = squared_loss penality = l1, accuracy: 0.523969 +/- (0.057353)\n",
      "alpha = 0.000121 loss = squared_loss penality = l2, accuracy: 0.554018 +/- (0.061127)\n",
      "alpha = 0.000121 loss = huber penality = l1, accuracy: 0.687771 +/- (0.061077)\n",
      "alpha = 0.000121 loss = huber penality = l2, accuracy: 0.628372 +/- (0.033878)\n",
      "alpha = 0.000121 loss = epsilon_insensitive penality = l1, accuracy: 0.550384 +/- (0.081309)\n",
      "alpha = 0.000121 loss = epsilon_insensitive penality = l2, accuracy: 0.502586 +/- (0.098114)\n",
      "alpha = 0.000121 loss = squared_epsilon_insensitive penality = l1, accuracy: 0.498463 +/- (0.088420)\n",
      "alpha = 0.000121 loss = squared_epsilon_insensitive penality = l2, accuracy: 0.476031 +/- (0.090706)\n",
      "alpha = 0.000133 loss = hinge penality = l1, accuracy: 0.632075 +/- (0.072987)\n",
      "alpha = 0.000133 loss = hinge penality = l2, accuracy: 0.676660 +/- (0.080477)\n",
      "alpha = 0.000133 loss = log penality = l1, accuracy: 0.661705 +/- (0.089487)\n",
      "alpha = 0.000133 loss = log penality = l2, accuracy: 0.646890 +/- (0.068999)\n",
      "alpha = 0.000133 loss = modified_huber penality = l1, accuracy: 0.639413 +/- (0.092599)\n",
      "alpha = 0.000133 loss = modified_huber penality = l2, accuracy: 0.658001 +/- (0.111426)\n",
      "alpha = 0.000133 loss = squared_hinge penality = l1, accuracy: 0.646541 +/- (0.072965)\n",
      "alpha = 0.000133 loss = squared_hinge penality = l2, accuracy: 0.687771 +/- (0.047133)\n",
      "alpha = 0.000133 loss = perceptron penality = l1, accuracy: 0.676520 +/- (0.058385)\n",
      "alpha = 0.000133 loss = perceptron penality = l2, accuracy: 0.631936 +/- (0.032144)\n",
      "alpha = 0.000133 loss = squared_loss penality = l1, accuracy: 0.416003 +/- (0.121665)\n",
      "alpha = 0.000133 loss = squared_loss penality = l2, accuracy: 0.472327 +/- (0.075980)\n",
      "alpha = 0.000133 loss = huber penality = l1, accuracy: 0.598672 +/- (0.080054)\n",
      "alpha = 0.000133 loss = huber penality = l2, accuracy: 0.687631 +/- (0.049488)\n",
      "alpha = 0.000133 loss = epsilon_insensitive penality = l1, accuracy: 0.617261 +/- (0.098523)\n",
      "alpha = 0.000133 loss = epsilon_insensitive penality = l2, accuracy: 0.590287 +/- (0.125054)\n",
      "alpha = 0.000133 loss = squared_epsilon_insensitive penality = l1, accuracy: 0.490496 +/- (0.075177)\n",
      "alpha = 0.000133 loss = squared_epsilon_insensitive penality = l2, accuracy: 0.460867 +/- (0.069974)\n",
      "alpha = 0.000146 loss = hinge penality = l1, accuracy: 0.683997 +/- (0.062020)\n",
      "alpha = 0.000146 loss = hinge penality = l2, accuracy: 0.724808 +/- (0.043507)\n",
      "alpha = 0.000146 loss = log penality = l1, accuracy: 0.657932 +/- (0.080180)\n",
      "alpha = 0.000146 loss = log penality = l2, accuracy: 0.672537 +/- (0.084047)\n",
      "alpha = 0.000146 loss = modified_huber penality = l1, accuracy: 0.694969 +/- (0.058071)\n",
      "alpha = 0.000146 loss = modified_huber penality = l2, accuracy: 0.661705 +/- (0.041206)\n",
      "alpha = 0.000146 loss = squared_hinge penality = l1, accuracy: 0.657652 +/- (0.051946)\n",
      "alpha = 0.000146 loss = squared_hinge penality = l2, accuracy: 0.713627 +/- (0.035436)\n",
      "alpha = 0.000146 loss = perceptron penality = l1, accuracy: 0.654158 +/- (0.059933)\n",
      "alpha = 0.000146 loss = perceptron penality = l2, accuracy: 0.621104 +/- (0.051464)\n",
      "alpha = 0.000146 loss = squared_loss penality = l1, accuracy: 0.547100 +/- (0.095129)\n",
      "alpha = 0.000146 loss = squared_loss penality = l2, accuracy: 0.583718 +/- (0.056301)\n",
      "alpha = 0.000146 loss = huber penality = l1, accuracy: 0.643187 +/- (0.098018)\n",
      "alpha = 0.000146 loss = huber penality = l2, accuracy: 0.617400 +/- (0.096045)\n",
      "alpha = 0.000146 loss = epsilon_insensitive penality = l1, accuracy: 0.558071 +/- (0.121298)\n",
      "alpha = 0.000146 loss = epsilon_insensitive penality = l2, accuracy: 0.554088 +/- (0.088327)\n",
      "alpha = 0.000146 loss = squared_epsilon_insensitive penality = l1, accuracy: 0.520056 +/- (0.115100)\n",
      "alpha = 0.000146 loss = squared_epsilon_insensitive penality = l2, accuracy: 0.516422 +/- (0.080629)\n",
      "alpha = 0.000160 loss = hinge penality = l1, accuracy: 0.643047 +/- (0.059443)\n",
      "alpha = 0.000160 loss = hinge penality = l2, accuracy: 0.691265 +/- (0.059157)\n",
      "alpha = 0.000160 loss = log penality = l1, accuracy: 0.691335 +/- (0.084556)\n",
      "alpha = 0.000160 loss = log penality = l2, accuracy: 0.683857 +/- (0.074782)\n",
      "alpha = 0.000160 loss = modified_huber penality = l1, accuracy: 0.687421 +/- (0.065344)\n",
      "alpha = 0.000160 loss = modified_huber penality = l2, accuracy: 0.713697 +/- (0.038521)\n",
      "alpha = 0.000160 loss = squared_hinge penality = l1, accuracy: 0.657932 +/- (0.034875)\n",
      "alpha = 0.000160 loss = squared_hinge penality = l2, accuracy: 0.654018 +/- (0.043948)\n",
      "alpha = 0.000160 loss = perceptron penality = l1, accuracy: 0.661775 +/- (0.043911)\n",
      "alpha = 0.000160 loss = perceptron penality = l2, accuracy: 0.631586 +/- (0.079385)\n",
      "alpha = 0.000160 loss = squared_loss penality = l1, accuracy: 0.483648 +/- (0.086115)\n",
      "alpha = 0.000160 loss = squared_loss penality = l2, accuracy: 0.438225 +/- (0.094806)\n",
      "alpha = 0.000160 loss = huber penality = l1, accuracy: 0.717331 +/- (0.067300)\n",
      "alpha = 0.000160 loss = huber penality = l2, accuracy: 0.639343 +/- (0.032885)\n",
      "alpha = 0.000160 loss = epsilon_insensitive penality = l1, accuracy: 0.621104 +/- (0.124120)\n"
     ]
    },
    {
     "name": "stdout",
     "output_type": "stream",
     "text": [
      "alpha = 0.000160 loss = epsilon_insensitive penality = l2, accuracy: 0.494410 +/- (0.084783)\n",
      "alpha = 0.000160 loss = squared_epsilon_insensitive penality = l1, accuracy: 0.416282 +/- (0.017005)\n",
      "alpha = 0.000160 loss = squared_epsilon_insensitive penality = l2, accuracy: 0.483089 +/- (0.119884)\n",
      "alpha = 0.000176 loss = hinge penality = l1, accuracy: 0.669182 +/- (0.063272)\n",
      "alpha = 0.000176 loss = hinge penality = l2, accuracy: 0.646751 +/- (0.014027)\n",
      "alpha = 0.000176 loss = log penality = l1, accuracy: 0.658001 +/- (0.091107)\n",
      "alpha = 0.000176 loss = log penality = l2, accuracy: 0.672607 +/- (0.075003)\n",
      "alpha = 0.000176 loss = modified_huber penality = l1, accuracy: 0.635919 +/- (0.080763)\n",
      "alpha = 0.000176 loss = modified_huber penality = l2, accuracy: 0.610063 +/- (0.098224)\n",
      "alpha = 0.000176 loss = squared_hinge penality = l1, accuracy: 0.620685 +/- (0.067620)\n",
      "alpha = 0.000176 loss = squared_hinge penality = l2, accuracy: 0.639553 +/- (0.073022)\n",
      "alpha = 0.000176 loss = perceptron penality = l1, accuracy: 0.643117 +/- (0.106946)\n",
      "alpha = 0.000176 loss = perceptron penality = l2, accuracy: 0.661845 +/- (0.050745)\n",
      "alpha = 0.000176 loss = squared_loss penality = l1, accuracy: 0.468553 +/- (0.060202)\n",
      "alpha = 0.000176 loss = squared_loss penality = l2, accuracy: 0.505940 +/- (0.069728)\n",
      "alpha = 0.000176 loss = huber penality = l1, accuracy: 0.628302 +/- (0.046397)\n",
      "alpha = 0.000176 loss = huber penality = l2, accuracy: 0.583578 +/- (0.069226)\n",
      "alpha = 0.000176 loss = epsilon_insensitive penality = l1, accuracy: 0.672607 +/- (0.074083)\n",
      "alpha = 0.000176 loss = epsilon_insensitive penality = l2, accuracy: 0.531586 +/- (0.104359)\n",
      "alpha = 0.000176 loss = squared_epsilon_insensitive penality = l1, accuracy: 0.435150 +/- (0.058528)\n",
      "alpha = 0.000176 loss = squared_epsilon_insensitive penality = l2, accuracy: 0.535150 +/- (0.053828)\n",
      "alpha = 0.000193 loss = hinge penality = l1, accuracy: 0.732215 +/- (0.105487)\n",
      "alpha = 0.000193 loss = hinge penality = l2, accuracy: 0.653948 +/- (0.068878)\n",
      "alpha = 0.000193 loss = log penality = l1, accuracy: 0.658001 +/- (0.089589)\n",
      "alpha = 0.000193 loss = log penality = l2, accuracy: 0.683857 +/- (0.063902)\n",
      "alpha = 0.000193 loss = modified_huber penality = l1, accuracy: 0.632006 +/- (0.098803)\n",
      "alpha = 0.000193 loss = modified_huber penality = l2, accuracy: 0.620894 +/- (0.064310)\n",
      "alpha = 0.000193 loss = squared_hinge penality = l1, accuracy: 0.691195 +/- (0.058490)\n",
      "alpha = 0.000193 loss = squared_hinge penality = l2, accuracy: 0.646331 +/- (0.092615)\n",
      "alpha = 0.000193 loss = perceptron penality = l1, accuracy: 0.691335 +/- (0.069410)\n",
      "alpha = 0.000193 loss = perceptron penality = l2, accuracy: 0.646820 +/- (0.058621)\n",
      "alpha = 0.000193 loss = squared_loss penality = l1, accuracy: 0.546611 +/- (0.063799)\n",
      "alpha = 0.000193 loss = squared_loss penality = l2, accuracy: 0.453739 +/- (0.116551)\n",
      "alpha = 0.000193 loss = huber penality = l1, accuracy: 0.643187 +/- (0.028781)\n",
      "alpha = 0.000193 loss = huber penality = l2, accuracy: 0.658211 +/- (0.100527)\n",
      "alpha = 0.000193 loss = epsilon_insensitive penality = l1, accuracy: 0.617261 +/- (0.107830)\n",
      "alpha = 0.000193 loss = epsilon_insensitive penality = l2, accuracy: 0.583857 +/- (0.108255)\n",
      "alpha = 0.000193 loss = squared_epsilon_insensitive penality = l1, accuracy: 0.516562 +/- (0.100866)\n",
      "alpha = 0.000193 loss = squared_epsilon_insensitive penality = l2, accuracy: 0.368484 +/- (0.119749)\n",
      "alpha = 0.000212 loss = hinge penality = l1, accuracy: 0.698812 +/- (0.059372)\n",
      "alpha = 0.000212 loss = hinge penality = l2, accuracy: 0.706150 +/- (0.100883)\n",
      "alpha = 0.000212 loss = log penality = l1, accuracy: 0.676520 +/- (0.089082)\n",
      "alpha = 0.000212 loss = log penality = l2, accuracy: 0.665269 +/- (0.072019)\n",
      "alpha = 0.000212 loss = modified_huber penality = l1, accuracy: 0.680224 +/- (0.065961)\n",
      "alpha = 0.000212 loss = modified_huber penality = l2, accuracy: 0.591125 +/- (0.055761)\n",
      "alpha = 0.000212 loss = squared_hinge penality = l1, accuracy: 0.661286 +/- (0.065324)\n",
      "alpha = 0.000212 loss = squared_hinge penality = l2, accuracy: 0.658071 +/- (0.075170)\n",
      "alpha = 0.000212 loss = perceptron penality = l1, accuracy: 0.620825 +/- (0.068799)\n",
      "alpha = 0.000212 loss = perceptron penality = l2, accuracy: 0.650454 +/- (0.089128)\n",
      "alpha = 0.000212 loss = squared_loss penality = l1, accuracy: 0.472537 +/- (0.081154)\n",
      "alpha = 0.000212 loss = squared_loss penality = l2, accuracy: 0.512299 +/- (0.160692)\n",
      "alpha = 0.000212 loss = huber penality = l1, accuracy: 0.694969 +/- (0.086530)\n",
      "alpha = 0.000212 loss = huber penality = l2, accuracy: 0.650943 +/- (0.054937)\n",
      "alpha = 0.000212 loss = epsilon_insensitive penality = l1, accuracy: 0.624738 +/- (0.079793)\n",
      "alpha = 0.000212 loss = epsilon_insensitive penality = l2, accuracy: 0.628581 +/- (0.091936)\n",
      "alpha = 0.000212 loss = squared_epsilon_insensitive penality = l1, accuracy: 0.516911 +/- (0.110971)\n",
      "alpha = 0.000212 loss = squared_epsilon_insensitive penality = l2, accuracy: 0.520405 +/- (0.063715)\n",
      "alpha = 0.000233 loss = hinge penality = l1, accuracy: 0.676590 +/- (0.083241)\n",
      "alpha = 0.000233 loss = hinge penality = l2, accuracy: 0.698742 +/- (0.046933)\n",
      "alpha = 0.000233 loss = log penality = l1, accuracy: 0.669113 +/- (0.067803)\n",
      "alpha = 0.000233 loss = log penality = l2, accuracy: 0.628232 +/- (0.049769)\n",
      "alpha = 0.000233 loss = modified_huber penality = l1, accuracy: 0.702376 +/- (0.063210)\n",
      "alpha = 0.000233 loss = modified_huber penality = l2, accuracy: 0.620685 +/- (0.061232)\n",
      "alpha = 0.000233 loss = squared_hinge penality = l1, accuracy: 0.691474 +/- (0.046044)\n",
      "alpha = 0.000233 loss = squared_hinge penality = l2, accuracy: 0.639133 +/- (0.066499)\n",
      "alpha = 0.000233 loss = perceptron penality = l1, accuracy: 0.657512 +/- (0.071051)\n",
      "alpha = 0.000233 loss = perceptron penality = l2, accuracy: 0.642907 +/- (0.032354)\n",
      "alpha = 0.000233 loss = squared_loss penality = l1, accuracy: 0.442418 +/- (0.038083)\n",
      "alpha = 0.000233 loss = squared_loss penality = l2, accuracy: 0.498672 +/- (0.106177)\n",
      "alpha = 0.000233 loss = huber penality = l1, accuracy: 0.698742 +/- (0.049770)\n",
      "alpha = 0.000233 loss = huber penality = l2, accuracy: 0.672676 +/- (0.059216)\n",
      "alpha = 0.000233 loss = epsilon_insensitive penality = l1, accuracy: 0.609504 +/- (0.130391)\n",
      "alpha = 0.000233 loss = epsilon_insensitive penality = l2, accuracy: 0.572467 +/- (0.101481)\n",
      "alpha = 0.000233 loss = squared_epsilon_insensitive penality = l1, accuracy: 0.453948 +/- (0.107278)\n",
      "alpha = 0.000233 loss = squared_epsilon_insensitive penality = l2, accuracy: 0.528092 +/- (0.098867)\n",
      "alpha = 0.000256 loss = hinge penality = l1, accuracy: 0.654228 +/- (0.067072)\n",
      "alpha = 0.000256 loss = hinge penality = l2, accuracy: 0.680433 +/- (0.034762)\n",
      "alpha = 0.000256 loss = log penality = l1, accuracy: 0.639483 +/- (0.074232)\n",
      "alpha = 0.000256 loss = log penality = l2, accuracy: 0.643117 +/- (0.055407)\n",
      "alpha = 0.000256 loss = modified_huber penality = l1, accuracy: 0.598672 +/- (0.097090)\n",
      "alpha = 0.000256 loss = modified_huber penality = l2, accuracy: 0.691125 +/- (0.047440)\n",
      "alpha = 0.000256 loss = squared_hinge penality = l1, accuracy: 0.609504 +/- (0.057310)\n",
      "alpha = 0.000256 loss = squared_hinge penality = l2, accuracy: 0.643047 +/- (0.041835)\n",
      "alpha = 0.000256 loss = perceptron penality = l1, accuracy: 0.661775 +/- (0.064210)\n",
      "alpha = 0.000256 loss = perceptron penality = l2, accuracy: 0.669113 +/- (0.079015)\n",
      "alpha = 0.000256 loss = squared_loss penality = l1, accuracy: 0.579874 +/- (0.028325)\n",
      "alpha = 0.000256 loss = squared_loss penality = l2, accuracy: 0.461006 +/- (0.094849)\n",
      "alpha = 0.000256 loss = huber penality = l1, accuracy: 0.713627 +/- (0.026590)\n",
      "alpha = 0.000256 loss = huber penality = l2, accuracy: 0.661775 +/- (0.083688)\n",
      "alpha = 0.000256 loss = epsilon_insensitive penality = l1, accuracy: 0.687631 +/- (0.070130)\n",
      "alpha = 0.000256 loss = epsilon_insensitive penality = l2, accuracy: 0.561216 +/- (0.050170)\n",
      "alpha = 0.000256 loss = squared_epsilon_insensitive penality = l1, accuracy: 0.491125 +/- (0.120086)\n",
      "alpha = 0.000256 loss = squared_epsilon_insensitive penality = l2, accuracy: 0.390846 +/- (0.073898)\n",
      "alpha = 0.000281 loss = hinge penality = l1, accuracy: 0.661845 +/- (0.064971)\n",
      "alpha = 0.000281 loss = hinge penality = l2, accuracy: 0.669182 +/- (0.062179)\n",
      "alpha = 0.000281 loss = log penality = l1, accuracy: 0.672816 +/- (0.089796)\n",
      "alpha = 0.000281 loss = log penality = l2, accuracy: 0.672816 +/- (0.049389)\n",
      "alpha = 0.000281 loss = modified_huber penality = l1, accuracy: 0.706150 +/- (0.092365)\n",
      "alpha = 0.000281 loss = modified_huber penality = l2, accuracy: 0.680433 +/- (0.025685)\n",
      "alpha = 0.000281 loss = squared_hinge penality = l1, accuracy: 0.639413 +/- (0.079873)\n",
      "alpha = 0.000281 loss = squared_hinge penality = l2, accuracy: 0.657932 +/- (0.058404)\n",
      "alpha = 0.000281 loss = perceptron penality = l1, accuracy: 0.602655 +/- (0.128738)\n",
      "alpha = 0.000281 loss = perceptron penality = l2, accuracy: 0.654158 +/- (0.064348)\n",
      "alpha = 0.000281 loss = squared_loss penality = l1, accuracy: 0.453878 +/- (0.063329)\n",
      "alpha = 0.000281 loss = squared_loss penality = l2, accuracy: 0.434941 +/- (0.102441)\n"
     ]
    },
    {
     "name": "stdout",
     "output_type": "stream",
     "text": [
      "alpha = 0.000281 loss = huber penality = l1, accuracy: 0.657862 +/- (0.035642)\n",
      "alpha = 0.000281 loss = huber penality = l2, accuracy: 0.646681 +/- (0.049490)\n",
      "alpha = 0.000281 loss = epsilon_insensitive penality = l1, accuracy: 0.653948 +/- (0.106435)\n",
      "alpha = 0.000281 loss = epsilon_insensitive penality = l2, accuracy: 0.602236 +/- (0.074540)\n",
      "alpha = 0.000281 loss = squared_epsilon_insensitive penality = l1, accuracy: 0.613557 +/- (0.111416)\n",
      "alpha = 0.000281 loss = squared_epsilon_insensitive penality = l2, accuracy: 0.561076 +/- (0.039607)\n",
      "alpha = 0.000309 loss = hinge penality = l1, accuracy: 0.691195 +/- (0.058490)\n",
      "alpha = 0.000309 loss = hinge penality = l2, accuracy: 0.698742 +/- (0.026339)\n",
      "alpha = 0.000309 loss = log penality = l1, accuracy: 0.665409 +/- (0.076843)\n",
      "alpha = 0.000309 loss = log penality = l2, accuracy: 0.669113 +/- (0.063628)\n",
      "alpha = 0.000309 loss = modified_huber penality = l1, accuracy: 0.661426 +/- (0.053731)\n",
      "alpha = 0.000309 loss = modified_huber penality = l2, accuracy: 0.643256 +/- (0.052031)\n",
      "alpha = 0.000309 loss = squared_hinge penality = l1, accuracy: 0.680014 +/- (0.065177)\n",
      "alpha = 0.000309 loss = squared_hinge penality = l2, accuracy: 0.628092 +/- (0.067178)\n",
      "alpha = 0.000309 loss = perceptron penality = l1, accuracy: 0.657652 +/- (0.059342)\n",
      "alpha = 0.000309 loss = perceptron penality = l2, accuracy: 0.680363 +/- (0.048396)\n",
      "alpha = 0.000309 loss = squared_loss penality = l1, accuracy: 0.464850 +/- (0.131532)\n",
      "alpha = 0.000309 loss = squared_loss penality = l2, accuracy: 0.438155 +/- (0.111322)\n",
      "alpha = 0.000309 loss = huber penality = l1, accuracy: 0.669043 +/- (0.046675)\n",
      "alpha = 0.000309 loss = huber penality = l2, accuracy: 0.642907 +/- (0.062669)\n",
      "alpha = 0.000309 loss = epsilon_insensitive penality = l1, accuracy: 0.621034 +/- (0.098375)\n",
      "alpha = 0.000309 loss = epsilon_insensitive penality = l2, accuracy: 0.628232 +/- (0.076852)\n",
      "alpha = 0.000309 loss = squared_epsilon_insensitive penality = l1, accuracy: 0.498532 +/- (0.107781)\n",
      "alpha = 0.000309 loss = squared_epsilon_insensitive penality = l2, accuracy: 0.498183 +/- (0.078222)\n",
      "alpha = 0.000339 loss = hinge penality = l1, accuracy: 0.676520 +/- (0.062908)\n",
      "alpha = 0.000339 loss = hinge penality = l2, accuracy: 0.691474 +/- (0.031979)\n",
      "alpha = 0.000339 loss = log penality = l1, accuracy: 0.676520 +/- (0.065052)\n",
      "alpha = 0.000339 loss = log penality = l2, accuracy: 0.695038 +/- (0.045647)\n",
      "alpha = 0.000339 loss = modified_huber penality = l1, accuracy: 0.654228 +/- (0.083473)\n",
      "alpha = 0.000339 loss = modified_huber penality = l2, accuracy: 0.616771 +/- (0.061714)\n",
      "alpha = 0.000339 loss = squared_hinge penality = l1, accuracy: 0.650734 +/- (0.054422)\n",
      "alpha = 0.000339 loss = squared_hinge penality = l2, accuracy: 0.683857 +/- (0.057100)\n",
      "alpha = 0.000339 loss = perceptron penality = l1, accuracy: 0.624668 +/- (0.128139)\n",
      "alpha = 0.000339 loss = perceptron penality = l2, accuracy: 0.683927 +/- (0.066652)\n",
      "alpha = 0.000339 loss = squared_loss penality = l1, accuracy: 0.494829 +/- (0.065217)\n",
      "alpha = 0.000339 loss = squared_loss penality = l2, accuracy: 0.493990 +/- (0.117802)\n",
      "alpha = 0.000339 loss = huber penality = l1, accuracy: 0.702376 +/- (0.090059)\n",
      "alpha = 0.000339 loss = huber penality = l2, accuracy: 0.680084 +/- (0.032104)\n",
      "alpha = 0.000339 loss = epsilon_insensitive penality = l1, accuracy: 0.657442 +/- (0.082339)\n",
      "alpha = 0.000339 loss = epsilon_insensitive penality = l2, accuracy: 0.598602 +/- (0.046926)\n",
      "alpha = 0.000339 loss = squared_epsilon_insensitive penality = l1, accuracy: 0.523899 +/- (0.041541)\n",
      "alpha = 0.000339 loss = squared_epsilon_insensitive penality = l2, accuracy: 0.442558 +/- (0.047684)\n",
      "alpha = 0.000373 loss = hinge penality = l1, accuracy: 0.679874 +/- (0.086853)\n",
      "alpha = 0.000373 loss = hinge penality = l2, accuracy: 0.650594 +/- (0.052606)\n",
      "alpha = 0.000373 loss = log penality = l1, accuracy: 0.680224 +/- (0.071930)\n",
      "alpha = 0.000373 loss = log penality = l2, accuracy: 0.687631 +/- (0.038586)\n",
      "alpha = 0.000373 loss = modified_huber penality = l1, accuracy: 0.635849 +/- (0.076629)\n",
      "alpha = 0.000373 loss = modified_huber penality = l2, accuracy: 0.609504 +/- (0.049612)\n",
      "alpha = 0.000373 loss = squared_hinge penality = l1, accuracy: 0.680363 +/- (0.045473)\n",
      "alpha = 0.000373 loss = squared_hinge penality = l2, accuracy: 0.635709 +/- (0.050289)\n",
      "alpha = 0.000373 loss = perceptron penality = l1, accuracy: 0.709993 +/- (0.059441)\n",
      "alpha = 0.000373 loss = perceptron penality = l2, accuracy: 0.676310 +/- (0.111781)\n",
      "alpha = 0.000373 loss = squared_loss penality = l1, accuracy: 0.591474 +/- (0.085447)\n",
      "alpha = 0.000373 loss = squared_loss penality = l2, accuracy: 0.538574 +/- (0.116630)\n",
      "alpha = 0.000373 loss = huber penality = l1, accuracy: 0.691405 +/- (0.036608)\n",
      "alpha = 0.000373 loss = huber penality = l2, accuracy: 0.683718 +/- (0.051915)\n",
      "alpha = 0.000373 loss = epsilon_insensitive penality = l1, accuracy: 0.639064 +/- (0.052070)\n",
      "alpha = 0.000373 loss = epsilon_insensitive penality = l2, accuracy: 0.572117 +/- (0.074768)\n",
      "alpha = 0.000373 loss = squared_epsilon_insensitive penality = l1, accuracy: 0.513277 +/- (0.109071)\n",
      "alpha = 0.000373 loss = squared_epsilon_insensitive penality = l2, accuracy: 0.490846 +/- (0.113285)\n",
      "alpha = 0.000409 loss = hinge penality = l1, accuracy: 0.713697 +/- (0.052139)\n",
      "alpha = 0.000409 loss = hinge penality = l2, accuracy: 0.669182 +/- (0.040883)\n",
      "alpha = 0.000409 loss = log penality = l1, accuracy: 0.672746 +/- (0.067437)\n",
      "alpha = 0.000409 loss = log penality = l2, accuracy: 0.687631 +/- (0.046634)\n",
      "alpha = 0.000409 loss = modified_huber penality = l1, accuracy: 0.643187 +/- (0.048345)\n",
      "alpha = 0.000409 loss = modified_huber penality = l2, accuracy: 0.713697 +/- (0.055946)\n",
      "alpha = 0.000409 loss = squared_hinge penality = l1, accuracy: 0.672607 +/- (0.052391)\n",
      "alpha = 0.000409 loss = squared_hinge penality = l2, accuracy: 0.576380 +/- (0.050240)\n",
      "alpha = 0.000409 loss = perceptron penality = l1, accuracy: 0.683997 +/- (0.040642)\n",
      "alpha = 0.000409 loss = perceptron penality = l2, accuracy: 0.683927 +/- (0.051568)\n",
      "alpha = 0.000409 loss = squared_loss penality = l1, accuracy: 0.538505 +/- (0.120523)\n",
      "alpha = 0.000409 loss = squared_loss penality = l2, accuracy: 0.516492 +/- (0.040166)\n",
      "alpha = 0.000409 loss = huber penality = l1, accuracy: 0.698672 +/- (0.051660)\n",
      "alpha = 0.000409 loss = huber penality = l2, accuracy: 0.687491 +/- (0.051937)\n",
      "alpha = 0.000409 loss = epsilon_insensitive penality = l1, accuracy: 0.565339 +/- (0.141069)\n",
      "alpha = 0.000409 loss = epsilon_insensitive penality = l2, accuracy: 0.550524 +/- (0.090409)\n",
      "alpha = 0.000409 loss = squared_epsilon_insensitive penality = l1, accuracy: 0.383578 +/- (0.116563)\n",
      "alpha = 0.000409 loss = squared_epsilon_insensitive penality = l2, accuracy: 0.464570 +/- (0.039209)\n",
      "alpha = 0.000450 loss = hinge penality = l1, accuracy: 0.635709 +/- (0.041303)\n",
      "alpha = 0.000450 loss = hinge penality = l2, accuracy: 0.720964 +/- (0.064219)\n",
      "alpha = 0.000450 loss = log penality = l1, accuracy: 0.698672 +/- (0.046044)\n",
      "alpha = 0.000450 loss = log penality = l2, accuracy: 0.669113 +/- (0.034175)\n",
      "alpha = 0.000450 loss = modified_huber penality = l1, accuracy: 0.628302 +/- (0.071906)\n",
      "alpha = 0.000450 loss = modified_huber penality = l2, accuracy: 0.724738 +/- (0.073280)\n",
      "alpha = 0.000450 loss = squared_hinge penality = l1, accuracy: 0.646611 +/- (0.072496)\n",
      "alpha = 0.000450 loss = squared_hinge penality = l2, accuracy: 0.706219 +/- (0.038536)\n",
      "alpha = 0.000450 loss = perceptron penality = l1, accuracy: 0.617261 +/- (0.123818)\n",
      "alpha = 0.000450 loss = perceptron penality = l2, accuracy: 0.643047 +/- (0.043444)\n",
      "alpha = 0.000450 loss = squared_loss penality = l1, accuracy: 0.568623 +/- (0.101658)\n",
      "alpha = 0.000450 loss = squared_loss penality = l2, accuracy: 0.520545 +/- (0.051940)\n",
      "alpha = 0.000450 loss = huber penality = l1, accuracy: 0.695038 +/- (0.053913)\n",
      "alpha = 0.000450 loss = huber penality = l2, accuracy: 0.702655 +/- (0.085064)\n",
      "alpha = 0.000450 loss = epsilon_insensitive penality = l1, accuracy: 0.669043 +/- (0.028404)\n",
      "alpha = 0.000450 loss = epsilon_insensitive penality = l2, accuracy: 0.602446 +/- (0.089574)\n",
      "alpha = 0.000450 loss = squared_epsilon_insensitive penality = l1, accuracy: 0.531726 +/- (0.057997)\n"
     ]
    },
    {
     "name": "stdout",
     "output_type": "stream",
     "text": [
      "alpha = 0.000450 loss = squared_epsilon_insensitive penality = l2, accuracy: 0.460587 +/- (0.090246)\n",
      "alpha = 0.000494 loss = hinge penality = l1, accuracy: 0.650384 +/- (0.069620)\n",
      "alpha = 0.000494 loss = hinge penality = l2, accuracy: 0.691265 +/- (0.065747)\n",
      "alpha = 0.000494 loss = log penality = l1, accuracy: 0.694969 +/- (0.039862)\n",
      "alpha = 0.000494 loss = log penality = l2, accuracy: 0.665409 +/- (0.031089)\n",
      "alpha = 0.000494 loss = modified_huber penality = l1, accuracy: 0.702166 +/- (0.063677)\n",
      "alpha = 0.000494 loss = modified_huber penality = l2, accuracy: 0.669182 +/- (0.058776)\n",
      "alpha = 0.000494 loss = squared_hinge penality = l1, accuracy: 0.680294 +/- (0.092501)\n",
      "alpha = 0.000494 loss = squared_hinge penality = l2, accuracy: 0.668973 +/- (0.039349)\n",
      "alpha = 0.000494 loss = perceptron penality = l1, accuracy: 0.683718 +/- (0.054493)\n",
      "alpha = 0.000494 loss = perceptron penality = l2, accuracy: 0.605870 +/- (0.036667)\n",
      "alpha = 0.000494 loss = squared_loss penality = l1, accuracy: 0.490706 +/- (0.053029)\n",
      "alpha = 0.000494 loss = squared_loss penality = l2, accuracy: 0.531586 +/- (0.069680)\n",
      "alpha = 0.000494 loss = huber penality = l1, accuracy: 0.698812 +/- (0.032495)\n",
      "alpha = 0.000494 loss = huber penality = l2, accuracy: 0.698882 +/- (0.050207)\n",
      "alpha = 0.000494 loss = epsilon_insensitive penality = l1, accuracy: 0.672886 +/- (0.060234)\n",
      "alpha = 0.000494 loss = epsilon_insensitive penality = l2, accuracy: 0.584207 +/- (0.092525)\n",
      "alpha = 0.000494 loss = squared_epsilon_insensitive penality = l1, accuracy: 0.550245 +/- (0.042155)\n",
      "alpha = 0.000494 loss = squared_epsilon_insensitive penality = l2, accuracy: 0.416282 +/- (0.104827)\n",
      "alpha = 0.000543 loss = hinge penality = l1, accuracy: 0.691265 +/- (0.032100)\n",
      "alpha = 0.000543 loss = hinge penality = l2, accuracy: 0.709853 +/- (0.051668)\n",
      "alpha = 0.000543 loss = log penality = l1, accuracy: 0.702446 +/- (0.036525)\n",
      "alpha = 0.000543 loss = log penality = l2, accuracy: 0.657932 +/- (0.030691)\n",
      "alpha = 0.000543 loss = modified_huber penality = l1, accuracy: 0.665269 +/- (0.074822)\n",
      "alpha = 0.000543 loss = modified_huber penality = l2, accuracy: 0.672956 +/- (0.039115)\n",
      "alpha = 0.000543 loss = squared_hinge penality = l1, accuracy: 0.683718 +/- (0.058147)\n",
      "alpha = 0.000543 loss = squared_hinge penality = l2, accuracy: 0.657792 +/- (0.055793)\n",
      "alpha = 0.000543 loss = perceptron penality = l1, accuracy: 0.661705 +/- (0.021527)\n",
      "alpha = 0.000543 loss = perceptron penality = l2, accuracy: 0.676520 +/- (0.041984)\n",
      "alpha = 0.000543 loss = squared_loss penality = l1, accuracy: 0.560727 +/- (0.143357)\n",
      "alpha = 0.000543 loss = squared_loss penality = l2, accuracy: 0.487491 +/- (0.122720)\n",
      "alpha = 0.000543 loss = huber penality = l1, accuracy: 0.702376 +/- (0.058709)\n",
      "alpha = 0.000543 loss = huber penality = l2, accuracy: 0.709853 +/- (0.065694)\n",
      "alpha = 0.000543 loss = epsilon_insensitive penality = l1, accuracy: 0.639343 +/- (0.048124)\n",
      "alpha = 0.000543 loss = epsilon_insensitive penality = l2, accuracy: 0.576101 +/- (0.079458)\n",
      "alpha = 0.000543 loss = squared_epsilon_insensitive penality = l1, accuracy: 0.576240 +/- (0.031289)\n",
      "alpha = 0.000543 loss = squared_epsilon_insensitive penality = l2, accuracy: 0.479665 +/- (0.037250)\n",
      "alpha = 0.000596 loss = hinge penality = l1, accuracy: 0.691265 +/- (0.039738)\n",
      "alpha = 0.000596 loss = hinge penality = l2, accuracy: 0.683927 +/- (0.027181)\n",
      "alpha = 0.000596 loss = log penality = l1, accuracy: 0.709853 +/- (0.036026)\n",
      "alpha = 0.000596 loss = log penality = l2, accuracy: 0.665339 +/- (0.031882)\n",
      "alpha = 0.000596 loss = modified_huber penality = l1, accuracy: 0.717121 +/- (0.104276)\n",
      "alpha = 0.000596 loss = modified_huber penality = l2, accuracy: 0.631726 +/- (0.078449)\n",
      "alpha = 0.000596 loss = squared_hinge penality = l1, accuracy: 0.661426 +/- (0.043895)\n",
      "alpha = 0.000596 loss = squared_hinge penality = l2, accuracy: 0.646541 +/- (0.058339)\n",
      "alpha = 0.000596 loss = perceptron penality = l1, accuracy: 0.657722 +/- (0.070432)\n",
      "alpha = 0.000596 loss = perceptron penality = l2, accuracy: 0.680084 +/- (0.044619)\n",
      "alpha = 0.000596 loss = squared_loss penality = l1, accuracy: 0.609923 +/- (0.114610)\n",
      "alpha = 0.000596 loss = squared_loss penality = l2, accuracy: 0.493711 +/- (0.147887)\n",
      "alpha = 0.000596 loss = huber penality = l1, accuracy: 0.665339 +/- (0.042889)\n",
      "alpha = 0.000596 loss = huber penality = l2, accuracy: 0.709923 +/- (0.063170)\n",
      "alpha = 0.000596 loss = epsilon_insensitive penality = l1, accuracy: 0.643396 +/- (0.052696)\n",
      "alpha = 0.000596 loss = epsilon_insensitive penality = l2, accuracy: 0.624668 +/- (0.038310)\n",
      "alpha = 0.000596 loss = squared_epsilon_insensitive penality = l1, accuracy: 0.446681 +/- (0.121703)\n",
      "alpha = 0.000596 loss = squared_epsilon_insensitive penality = l2, accuracy: 0.516771 +/- (0.115718)\n",
      "alpha = 0.000655 loss = hinge penality = l1, accuracy: 0.676450 +/- (0.067510)\n",
      "alpha = 0.000655 loss = hinge penality = l2, accuracy: 0.694899 +/- (0.057396)\n",
      "alpha = 0.000655 loss = log penality = l1, accuracy: 0.709853 +/- (0.041344)\n",
      "alpha = 0.000655 loss = log penality = l2, accuracy: 0.669113 +/- (0.029892)\n",
      "alpha = 0.000655 loss = modified_huber penality = l1, accuracy: 0.732285 +/- (0.082653)\n",
      "alpha = 0.000655 loss = modified_huber penality = l2, accuracy: 0.654088 +/- (0.056914)\n",
      "alpha = 0.000655 loss = squared_hinge penality = l1, accuracy: 0.687631 +/- (0.015946)\n",
      "alpha = 0.000655 loss = squared_hinge penality = l2, accuracy: 0.669043 +/- (0.129302)\n",
      "alpha = 0.000655 loss = perceptron penality = l1, accuracy: 0.668763 +/- (0.084239)\n",
      "alpha = 0.000655 loss = perceptron penality = l2, accuracy: 0.672886 +/- (0.054242)\n",
      "alpha = 0.000655 loss = squared_loss penality = l1, accuracy: 0.617261 +/- (0.091297)\n",
      "alpha = 0.000655 loss = squared_loss penality = l2, accuracy: 0.650664 +/- (0.078448)\n",
      "alpha = 0.000655 loss = huber penality = l1, accuracy: 0.706219 +/- (0.054717)\n",
      "alpha = 0.000655 loss = huber penality = l2, accuracy: 0.698742 +/- (0.070329)\n",
      "alpha = 0.000655 loss = epsilon_insensitive penality = l1, accuracy: 0.687701 +/- (0.029872)\n",
      "alpha = 0.000655 loss = epsilon_insensitive penality = l2, accuracy: 0.665129 +/- (0.078331)\n",
      "alpha = 0.000655 loss = squared_epsilon_insensitive penality = l1, accuracy: 0.469043 +/- (0.109375)\n",
      "alpha = 0.000655 loss = squared_epsilon_insensitive penality = l2, accuracy: 0.520894 +/- (0.065225)\n",
      "alpha = 0.000720 loss = hinge penality = l1, accuracy: 0.669252 +/- (0.072097)\n",
      "alpha = 0.000720 loss = hinge penality = l2, accuracy: 0.669043 +/- (0.054787)\n",
      "alpha = 0.000720 loss = log penality = l1, accuracy: 0.724668 +/- (0.059182)\n",
      "alpha = 0.000720 loss = log penality = l2, accuracy: 0.687631 +/- (0.032823)\n",
      "alpha = 0.000720 loss = modified_huber penality = l1, accuracy: 0.665618 +/- (0.055163)\n",
      "alpha = 0.000720 loss = modified_huber penality = l2, accuracy: 0.624458 +/- (0.070058)\n",
      "alpha = 0.000720 loss = squared_hinge penality = l1, accuracy: 0.661565 +/- (0.061011)\n",
      "alpha = 0.000720 loss = squared_hinge penality = l2, accuracy: 0.646471 +/- (0.069632)\n",
      "alpha = 0.000720 loss = perceptron penality = l1, accuracy: 0.672816 +/- (0.030501)\n",
      "alpha = 0.000720 loss = perceptron penality = l2, accuracy: 0.628162 +/- (0.048938)\n",
      "alpha = 0.000720 loss = squared_loss penality = l1, accuracy: 0.543256 +/- (0.152799)\n",
      "alpha = 0.000720 loss = squared_loss penality = l2, accuracy: 0.516702 +/- (0.101495)\n",
      "alpha = 0.000720 loss = huber penality = l1, accuracy: 0.654088 +/- (0.049154)\n",
      "alpha = 0.000720 loss = huber penality = l2, accuracy: 0.702376 +/- (0.062115)\n",
      "alpha = 0.000720 loss = epsilon_insensitive penality = l1, accuracy: 0.617331 +/- (0.133275)\n",
      "alpha = 0.000720 loss = epsilon_insensitive penality = l2, accuracy: 0.613277 +/- (0.023328)\n",
      "alpha = 0.000720 loss = squared_epsilon_insensitive penality = l1, accuracy: 0.412509 +/- (0.049173)\n",
      "alpha = 0.000720 loss = squared_epsilon_insensitive penality = l2, accuracy: 0.524109 +/- (0.119952)\n",
      "alpha = 0.000791 loss = hinge penality = l1, accuracy: 0.713487 +/- (0.052302)\n",
      "alpha = 0.000791 loss = hinge penality = l2, accuracy: 0.676660 +/- (0.051338)\n",
      "alpha = 0.000791 loss = log penality = l1, accuracy: 0.720894 +/- (0.064667)\n",
      "alpha = 0.000791 loss = log penality = l2, accuracy: 0.691405 +/- (0.030473)\n",
      "alpha = 0.000791 loss = modified_huber penality = l1, accuracy: 0.706289 +/- (0.039712)\n",
      "alpha = 0.000791 loss = modified_huber penality = l2, accuracy: 0.616981 +/- (0.044212)\n",
      "alpha = 0.000791 loss = squared_hinge penality = l1, accuracy: 0.650454 +/- (0.068202)\n",
      "alpha = 0.000791 loss = squared_hinge penality = l2, accuracy: 0.620964 +/- (0.081001)\n",
      "alpha = 0.000791 loss = perceptron penality = l1, accuracy: 0.672816 +/- (0.034708)\n",
      "alpha = 0.000791 loss = perceptron penality = l2, accuracy: 0.658001 +/- (0.063624)\n",
      "alpha = 0.000791 loss = squared_loss penality = l1, accuracy: 0.601887 +/- (0.059666)\n",
      "alpha = 0.000791 loss = squared_loss penality = l2, accuracy: 0.590706 +/- (0.065892)\n",
      "alpha = 0.000791 loss = huber penality = l1, accuracy: 0.669182 +/- (0.040883)\n"
     ]
    },
    {
     "name": "stdout",
     "output_type": "stream",
     "text": [
      "alpha = 0.000791 loss = huber penality = l2, accuracy: 0.709993 +/- (0.060584)\n",
      "alpha = 0.000791 loss = epsilon_insensitive penality = l1, accuracy: 0.616771 +/- (0.098524)\n",
      "alpha = 0.000791 loss = epsilon_insensitive penality = l2, accuracy: 0.668623 +/- (0.094343)\n",
      "alpha = 0.000791 loss = squared_epsilon_insensitive penality = l1, accuracy: 0.539203 +/- (0.093921)\n",
      "alpha = 0.000791 loss = squared_epsilon_insensitive penality = l2, accuracy: 0.427673 +/- (0.095173)\n",
      "alpha = 0.000869 loss = hinge penality = l1, accuracy: 0.643187 +/- (0.054983)\n",
      "alpha = 0.000869 loss = hinge penality = l2, accuracy: 0.717400 +/- (0.009644)\n",
      "alpha = 0.000869 loss = log penality = l1, accuracy: 0.724598 +/- (0.078530)\n",
      "alpha = 0.000869 loss = log penality = l2, accuracy: 0.702516 +/- (0.024461)\n",
      "alpha = 0.000869 loss = modified_huber penality = l1, accuracy: 0.695038 +/- (0.067474)\n",
      "alpha = 0.000869 loss = modified_huber penality = l2, accuracy: 0.650594 +/- (0.077843)\n",
      "alpha = 0.000869 loss = squared_hinge penality = l1, accuracy: 0.661705 +/- (0.070641)\n",
      "alpha = 0.000869 loss = squared_hinge penality = l2, accuracy: 0.661915 +/- (0.050412)\n",
      "alpha = 0.000869 loss = perceptron penality = l1, accuracy: 0.672607 +/- (0.081153)\n",
      "alpha = 0.000869 loss = perceptron penality = l2, accuracy: 0.702166 +/- (0.094832)\n",
      "alpha = 0.000869 loss = squared_loss penality = l1, accuracy: 0.650734 +/- (0.148883)\n",
      "alpha = 0.000869 loss = squared_loss penality = l2, accuracy: 0.516771 +/- (0.086557)\n",
      "alpha = 0.000869 loss = huber penality = l1, accuracy: 0.680154 +/- (0.052505)\n",
      "alpha = 0.000869 loss = huber penality = l2, accuracy: 0.702446 +/- (0.061670)\n",
      "alpha = 0.000869 loss = epsilon_insensitive penality = l1, accuracy: 0.654368 +/- (0.087746)\n",
      "alpha = 0.000869 loss = epsilon_insensitive penality = l2, accuracy: 0.642907 +/- (0.053198)\n",
      "alpha = 0.000869 loss = squared_epsilon_insensitive penality = l1, accuracy: 0.498253 +/- (0.068439)\n",
      "alpha = 0.000869 loss = squared_epsilon_insensitive penality = l2, accuracy: 0.568623 +/- (0.119635)\n",
      "alpha = 0.000954 loss = hinge penality = l1, accuracy: 0.680224 +/- (0.052007)\n",
      "alpha = 0.000954 loss = hinge penality = l2, accuracy: 0.702446 +/- (0.052017)\n",
      "alpha = 0.000954 loss = log penality = l1, accuracy: 0.735709 +/- (0.076059)\n",
      "alpha = 0.000954 loss = log penality = l2, accuracy: 0.706219 +/- (0.040277)\n",
      "alpha = 0.000954 loss = modified_huber penality = l1, accuracy: 0.683927 +/- (0.061291)\n",
      "alpha = 0.000954 loss = modified_huber penality = l2, accuracy: 0.698602 +/- (0.066141)\n",
      "alpha = 0.000954 loss = squared_hinge penality = l1, accuracy: 0.587212 +/- (0.066561)\n",
      "alpha = 0.000954 loss = squared_hinge penality = l2, accuracy: 0.676240 +/- (0.084926)\n",
      "alpha = 0.000954 loss = perceptron penality = l1, accuracy: 0.702446 +/- (0.049310)\n",
      "alpha = 0.000954 loss = perceptron penality = l2, accuracy: 0.680294 +/- (0.059001)\n",
      "alpha = 0.000954 loss = squared_loss penality = l1, accuracy: 0.676660 +/- (0.113682)\n",
      "alpha = 0.000954 loss = squared_loss penality = l2, accuracy: 0.627952 +/- (0.085981)\n",
      "alpha = 0.000954 loss = huber penality = l1, accuracy: 0.672746 +/- (0.039115)\n",
      "alpha = 0.000954 loss = huber penality = l2, accuracy: 0.706219 +/- (0.054717)\n",
      "alpha = 0.000954 loss = epsilon_insensitive penality = l1, accuracy: 0.717331 +/- (0.066273)\n",
      "alpha = 0.000954 loss = epsilon_insensitive penality = l2, accuracy: 0.605590 +/- (0.073936)\n",
      "alpha = 0.000954 loss = squared_epsilon_insensitive penality = l1, accuracy: 0.476520 +/- (0.147676)\n",
      "alpha = 0.000954 loss = squared_epsilon_insensitive penality = l2, accuracy: 0.435360 +/- (0.112207)\n",
      "alpha = 0.001048 loss = hinge penality = l1, accuracy: 0.683788 +/- (0.053913)\n",
      "alpha = 0.001048 loss = hinge penality = l2, accuracy: 0.695038 +/- (0.045647)\n",
      "alpha = 0.001048 loss = log penality = l1, accuracy: 0.735709 +/- (0.071408)\n",
      "alpha = 0.001048 loss = log penality = l2, accuracy: 0.709923 +/- (0.039004)\n",
      "alpha = 0.001048 loss = modified_huber penality = l1, accuracy: 0.654298 +/- (0.068736)\n",
      "alpha = 0.001048 loss = modified_huber penality = l2, accuracy: 0.624598 +/- (0.063095)\n",
      "alpha = 0.001048 loss = squared_hinge penality = l1, accuracy: 0.598323 +/- (0.074783)\n",
      "alpha = 0.001048 loss = squared_hinge penality = l2, accuracy: 0.661495 +/- (0.087310)\n",
      "alpha = 0.001048 loss = perceptron penality = l1, accuracy: 0.635709 +/- (0.077190)\n",
      "alpha = 0.001048 loss = perceptron penality = l2, accuracy: 0.650734 +/- (0.075533)\n",
      "alpha = 0.001048 loss = squared_loss penality = l1, accuracy: 0.665199 +/- (0.122419)\n",
      "alpha = 0.001048 loss = squared_loss penality = l2, accuracy: 0.609644 +/- (0.105450)\n",
      "alpha = 0.001048 loss = huber penality = l1, accuracy: 0.691474 +/- (0.044530)\n",
      "alpha = 0.001048 loss = huber penality = l2, accuracy: 0.691335 +/- (0.063204)\n",
      "alpha = 0.001048 loss = epsilon_insensitive penality = l1, accuracy: 0.720964 +/- (0.065279)\n",
      "alpha = 0.001048 loss = epsilon_insensitive penality = l2, accuracy: 0.669532 +/- (0.057506)\n",
      "alpha = 0.001048 loss = squared_epsilon_insensitive penality = l1, accuracy: 0.565688 +/- (0.140128)\n",
      "alpha = 0.001048 loss = squared_epsilon_insensitive penality = l2, accuracy: 0.443326 +/- (0.138486)\n",
      "alpha = 0.001151 loss = hinge penality = l1, accuracy: 0.721104 +/- (0.029487)\n",
      "alpha = 0.001151 loss = hinge penality = l2, accuracy: 0.717331 +/- (0.046876)\n",
      "alpha = 0.001151 loss = log penality = l1, accuracy: 0.746960 +/- (0.063863)\n",
      "alpha = 0.001151 loss = log penality = l2, accuracy: 0.728442 +/- (0.037790)\n",
      "alpha = 0.001151 loss = modified_huber penality = l1, accuracy: 0.661705 +/- (0.061283)\n",
      "alpha = 0.001151 loss = modified_huber penality = l2, accuracy: 0.606010 +/- (0.038852)\n",
      "alpha = 0.001151 loss = squared_hinge penality = l1, accuracy: 0.672537 +/- (0.099722)\n",
      "alpha = 0.001151 loss = squared_hinge penality = l2, accuracy: 0.561216 +/- (0.042792)\n",
      "alpha = 0.001151 loss = perceptron penality = l1, accuracy: 0.624808 +/- (0.084594)\n",
      "alpha = 0.001151 loss = perceptron penality = l2, accuracy: 0.665269 +/- (0.040252)\n",
      "alpha = 0.001151 loss = squared_loss penality = l1, accuracy: 0.639623 +/- (0.113318)\n",
      "alpha = 0.001151 loss = squared_loss penality = l2, accuracy: 0.650314 +/- (0.072952)\n",
      "alpha = 0.001151 loss = huber penality = l1, accuracy: 0.680294 +/- (0.062391)\n",
      "alpha = 0.001151 loss = huber penality = l2, accuracy: 0.713767 +/- (0.063634)\n",
      "alpha = 0.001151 loss = epsilon_insensitive penality = l1, accuracy: 0.713487 +/- (0.056099)\n",
      "alpha = 0.001151 loss = epsilon_insensitive penality = l2, accuracy: 0.679734 +/- (0.084594)\n",
      "alpha = 0.001151 loss = squared_epsilon_insensitive penality = l1, accuracy: 0.612159 +/- (0.195960)\n",
      "alpha = 0.001151 loss = squared_epsilon_insensitive penality = l2, accuracy: 0.549196 +/- (0.155158)\n",
      "alpha = 0.001265 loss = hinge penality = l1, accuracy: 0.698812 +/- (0.036473)\n",
      "alpha = 0.001265 loss = hinge penality = l2, accuracy: 0.732145 +/- (0.036052)\n",
      "alpha = 0.001265 loss = log penality = l1, accuracy: 0.724738 +/- (0.055118)\n",
      "alpha = 0.001265 loss = log penality = l2, accuracy: 0.728442 +/- (0.045978)\n",
      "alpha = 0.001265 loss = modified_huber penality = l1, accuracy: 0.654298 +/- (0.078953)\n",
      "alpha = 0.001265 loss = modified_huber penality = l2, accuracy: 0.650524 +/- (0.054336)\n",
      "alpha = 0.001265 loss = squared_hinge penality = l1, accuracy: 0.620755 +/- (0.065106)\n",
      "alpha = 0.001265 loss = squared_hinge penality = l2, accuracy: 0.650384 +/- (0.042769)\n",
      "alpha = 0.001265 loss = perceptron penality = l1, accuracy: 0.669182 +/- (0.058776)\n",
      "alpha = 0.001265 loss = perceptron penality = l2, accuracy: 0.642977 +/- (0.051288)\n",
      "alpha = 0.001265 loss = squared_loss penality = l1, accuracy: 0.720964 +/- (0.086118)\n",
      "alpha = 0.001265 loss = squared_loss penality = l2, accuracy: 0.680084 +/- (0.062541)\n",
      "alpha = 0.001265 loss = huber penality = l1, accuracy: 0.683857 +/- (0.040179)\n",
      "alpha = 0.001265 loss = huber penality = l2, accuracy: 0.702446 +/- (0.070004)\n",
      "alpha = 0.001265 loss = epsilon_insensitive penality = l1, accuracy: 0.595038 +/- (0.074218)\n",
      "alpha = 0.001265 loss = epsilon_insensitive penality = l2, accuracy: 0.649965 +/- (0.109670)\n",
      "alpha = 0.001265 loss = squared_epsilon_insensitive penality = l1, accuracy: 0.516771 +/- (0.054455)\n",
      "alpha = 0.001265 loss = squared_epsilon_insensitive penality = l2, accuracy: 0.535150 +/- (0.084557)\n",
      "alpha = 0.001389 loss = hinge penality = l1, accuracy: 0.717261 +/- (0.033939)\n",
      "alpha = 0.001389 loss = hinge penality = l2, accuracy: 0.695108 +/- (0.015859)\n",
      "alpha = 0.001389 loss = log penality = l1, accuracy: 0.720964 +/- (0.062047)\n",
      "alpha = 0.001389 loss = log penality = l2, accuracy: 0.732145 +/- (0.044560)\n",
      "alpha = 0.001389 loss = modified_huber penality = l1, accuracy: 0.669113 +/- (0.064697)\n",
      "alpha = 0.001389 loss = modified_huber penality = l2, accuracy: 0.672746 +/- (0.064314)\n",
      "alpha = 0.001389 loss = squared_hinge penality = l1, accuracy: 0.572397 +/- (0.073642)\n",
      "alpha = 0.001389 loss = squared_hinge penality = l2, accuracy: 0.639273 +/- (0.071527)\n",
      "alpha = 0.001389 loss = perceptron penality = l1, accuracy: 0.642977 +/- (0.051288)\n",
      "alpha = 0.001389 loss = perceptron penality = l2, accuracy: 0.687561 +/- (0.039266)\n",
      "alpha = 0.001389 loss = squared_loss penality = l1, accuracy: 0.702516 +/- (0.055385)\n",
      "alpha = 0.001389 loss = squared_loss penality = l2, accuracy: 0.594829 +/- (0.095972)\n",
      "alpha = 0.001389 loss = huber penality = l1, accuracy: 0.687631 +/- (0.046634)\n"
     ]
    },
    {
     "name": "stdout",
     "output_type": "stream",
     "text": [
      "alpha = 0.001389 loss = huber penality = l2, accuracy: 0.702516 +/- (0.056610)\n",
      "alpha = 0.001389 loss = epsilon_insensitive penality = l1, accuracy: 0.680363 +/- (0.035281)\n",
      "alpha = 0.001389 loss = epsilon_insensitive penality = l2, accuracy: 0.639203 +/- (0.050713)\n",
      "alpha = 0.001389 loss = squared_epsilon_insensitive penality = l1, accuracy: 0.617331 +/- (0.115045)\n",
      "alpha = 0.001389 loss = squared_epsilon_insensitive penality = l2, accuracy: 0.531796 +/- (0.052562)\n",
      "alpha = 0.001526 loss = hinge penality = l1, accuracy: 0.684137 +/- (0.041352)\n",
      "alpha = 0.001526 loss = hinge penality = l2, accuracy: 0.720964 +/- (0.045459)\n",
      "alpha = 0.001526 loss = log penality = l1, accuracy: 0.728372 +/- (0.063937)\n",
      "alpha = 0.001526 loss = log penality = l2, accuracy: 0.732145 +/- (0.044560)\n",
      "alpha = 0.001526 loss = modified_huber penality = l1, accuracy: 0.702516 +/- (0.033868)\n",
      "alpha = 0.001526 loss = modified_huber penality = l2, accuracy: 0.683927 +/- (0.069671)\n",
      "alpha = 0.001526 loss = squared_hinge penality = l1, accuracy: 0.658001 +/- (0.108936)\n",
      "alpha = 0.001526 loss = squared_hinge penality = l2, accuracy: 0.590985 +/- (0.051732)\n",
      "alpha = 0.001526 loss = perceptron penality = l1, accuracy: 0.661845 +/- (0.060601)\n",
      "alpha = 0.001526 loss = perceptron penality = l2, accuracy: 0.687631 +/- (0.028337)\n",
      "alpha = 0.001526 loss = squared_loss penality = l1, accuracy: 0.743256 +/- (0.067756)\n",
      "alpha = 0.001526 loss = squared_loss penality = l2, accuracy: 0.561286 +/- (0.122762)\n",
      "alpha = 0.001526 loss = huber penality = l1, accuracy: 0.691405 +/- (0.063903)\n",
      "alpha = 0.001526 loss = huber penality = l2, accuracy: 0.702516 +/- (0.066627)\n",
      "alpha = 0.001526 loss = epsilon_insensitive penality = l1, accuracy: 0.672886 +/- (0.029742)\n",
      "alpha = 0.001526 loss = epsilon_insensitive penality = l2, accuracy: 0.646681 +/- (0.061814)\n",
      "alpha = 0.001526 loss = squared_epsilon_insensitive penality = l1, accuracy: 0.676799 +/- (0.087434)\n",
      "alpha = 0.001526 loss = squared_epsilon_insensitive penality = l2, accuracy: 0.535150 +/- (0.092313)\n",
      "alpha = 0.001677 loss = hinge penality = l1, accuracy: 0.702376 +/- (0.065344)\n",
      "alpha = 0.001677 loss = hinge penality = l2, accuracy: 0.732215 +/- (0.039055)\n",
      "alpha = 0.001677 loss = log penality = l1, accuracy: 0.728372 +/- (0.068093)\n",
      "alpha = 0.001677 loss = log penality = l2, accuracy: 0.735779 +/- (0.049326)\n",
      "alpha = 0.001677 loss = modified_huber penality = l1, accuracy: 0.661775 +/- (0.078617)\n",
      "alpha = 0.001677 loss = modified_huber penality = l2, accuracy: 0.680154 +/- (0.068390)\n",
      "alpha = 0.001677 loss = squared_hinge penality = l1, accuracy: 0.613557 +/- (0.091095)\n",
      "alpha = 0.001677 loss = squared_hinge penality = l2, accuracy: 0.587282 +/- (0.108502)\n",
      "alpha = 0.001677 loss = perceptron penality = l1, accuracy: 0.598113 +/- (0.124752)\n",
      "alpha = 0.001677 loss = perceptron penality = l2, accuracy: 0.602306 +/- (0.026524)\n",
      "alpha = 0.001677 loss = squared_loss penality = l1, accuracy: 0.628442 +/- (0.075975)\n",
      "alpha = 0.001677 loss = squared_loss penality = l2, accuracy: 0.643117 +/- (0.088719)\n",
      "alpha = 0.001677 loss = huber penality = l1, accuracy: 0.691265 +/- (0.051735)\n",
      "alpha = 0.001677 loss = huber penality = l2, accuracy: 0.691405 +/- (0.055887)\n",
      "alpha = 0.001677 loss = epsilon_insensitive penality = l1, accuracy: 0.698952 +/- (0.049818)\n",
      "alpha = 0.001677 loss = epsilon_insensitive penality = l2, accuracy: 0.694969 +/- (0.061512)\n",
      "alpha = 0.001677 loss = squared_epsilon_insensitive penality = l1, accuracy: 0.632075 +/- (0.068127)\n",
      "alpha = 0.001677 loss = squared_epsilon_insensitive penality = l2, accuracy: 0.531586 +/- (0.064571)\n",
      "alpha = 0.001842 loss = hinge penality = l1, accuracy: 0.702655 +/- (0.047933)\n",
      "alpha = 0.001842 loss = hinge penality = l2, accuracy: 0.717121 +/- (0.077041)\n",
      "alpha = 0.001842 loss = log penality = l1, accuracy: 0.732075 +/- (0.070145)\n",
      "alpha = 0.001842 loss = log penality = l2, accuracy: 0.739483 +/- (0.048862)\n",
      "alpha = 0.001842 loss = modified_huber penality = l1, accuracy: 0.672746 +/- (0.053867)\n",
      "alpha = 0.001842 loss = modified_huber penality = l2, accuracy: 0.672676 +/- (0.071782)\n",
      "alpha = 0.001842 loss = squared_hinge penality = l1, accuracy: 0.613138 +/- (0.074931)\n",
      "alpha = 0.001842 loss = squared_hinge penality = l2, accuracy: 0.642837 +/- (0.052541)\n",
      "alpha = 0.001842 loss = perceptron penality = l1, accuracy: 0.683857 +/- (0.073859)\n",
      "alpha = 0.001842 loss = perceptron penality = l2, accuracy: 0.657512 +/- (0.080977)\n",
      "alpha = 0.001842 loss = squared_loss penality = l1, accuracy: 0.687421 +/- (0.058709)\n",
      "alpha = 0.001842 loss = squared_loss penality = l2, accuracy: 0.654158 +/- (0.075164)\n",
      "alpha = 0.001842 loss = huber penality = l1, accuracy: 0.672816 +/- (0.047980)\n",
      "alpha = 0.001842 loss = huber penality = l2, accuracy: 0.698812 +/- (0.067989)\n",
      "alpha = 0.001842 loss = epsilon_insensitive penality = l1, accuracy: 0.654368 +/- (0.056325)\n",
      "alpha = 0.001842 loss = epsilon_insensitive penality = l2, accuracy: 0.706080 +/- (0.091173)\n",
      "alpha = 0.001842 loss = squared_epsilon_insensitive penality = l1, accuracy: 0.669113 +/- (0.134824)\n",
      "alpha = 0.001842 loss = squared_epsilon_insensitive penality = l2, accuracy: 0.587212 +/- (0.118459)\n",
      "alpha = 0.002024 loss = hinge penality = l1, accuracy: 0.732355 +/- (0.067811)\n",
      "alpha = 0.002024 loss = hinge penality = l2, accuracy: 0.732145 +/- (0.036052)\n",
      "alpha = 0.002024 loss = log penality = l1, accuracy: 0.728302 +/- (0.074286)\n",
      "alpha = 0.002024 loss = log penality = l2, accuracy: 0.735779 +/- (0.049326)\n",
      "alpha = 0.002024 loss = modified_huber penality = l1, accuracy: 0.657932 +/- (0.089861)\n",
      "alpha = 0.002024 loss = modified_huber penality = l2, accuracy: 0.672676 +/- (0.071782)\n",
      "alpha = 0.002024 loss = squared_hinge penality = l1, accuracy: 0.632006 +/- (0.055140)\n",
      "alpha = 0.002024 loss = squared_hinge penality = l2, accuracy: 0.702376 +/- (0.042434)\n",
      "alpha = 0.002024 loss = perceptron penality = l1, accuracy: 0.650664 +/- (0.053497)\n",
      "alpha = 0.002024 loss = perceptron penality = l2, accuracy: 0.650384 +/- (0.069620)\n",
      "alpha = 0.002024 loss = squared_loss penality = l1, accuracy: 0.694899 +/- (0.059738)\n",
      "alpha = 0.002024 loss = squared_loss penality = l2, accuracy: 0.624389 +/- (0.128416)\n",
      "alpha = 0.002024 loss = huber penality = l1, accuracy: 0.669043 +/- (0.049527)\n",
      "alpha = 0.002024 loss = huber penality = l2, accuracy: 0.695108 +/- (0.050828)\n",
      "alpha = 0.002024 loss = epsilon_insensitive penality = l1, accuracy: 0.698812 +/- (0.062742)\n",
      "alpha = 0.002024 loss = epsilon_insensitive penality = l2, accuracy: 0.643187 +/- (0.026290)\n",
      "alpha = 0.002024 loss = squared_epsilon_insensitive penality = l1, accuracy: 0.676590 +/- (0.125332)\n",
      "alpha = 0.002024 loss = squared_epsilon_insensitive penality = l2, accuracy: 0.676171 +/- (0.078659)\n",
      "alpha = 0.002223 loss = hinge penality = l1, accuracy: 0.694969 +/- (0.056877)\n",
      "alpha = 0.002223 loss = hinge penality = l2, accuracy: 0.728442 +/- (0.044461)\n",
      "alpha = 0.002223 loss = log penality = l1, accuracy: 0.735779 +/- (0.081764)\n",
      "alpha = 0.002223 loss = log penality = l2, accuracy: 0.739483 +/- (0.055438)\n",
      "alpha = 0.002223 loss = modified_huber penality = l1, accuracy: 0.661705 +/- (0.089487)\n",
      "alpha = 0.002223 loss = modified_huber penality = l2, accuracy: 0.672676 +/- (0.065800)\n",
      "alpha = 0.002223 loss = squared_hinge penality = l1, accuracy: 0.635709 +/- (0.056700)\n",
      "alpha = 0.002223 loss = squared_hinge penality = l2, accuracy: 0.654018 +/- (0.065295)\n",
      "alpha = 0.002223 loss = perceptron penality = l1, accuracy: 0.654368 +/- (0.040788)\n",
      "alpha = 0.002223 loss = perceptron penality = l2, accuracy: 0.646820 +/- (0.093000)\n",
      "alpha = 0.002223 loss = squared_loss penality = l1, accuracy: 0.654088 +/- (0.044773)\n",
      "alpha = 0.002223 loss = squared_loss penality = l2, accuracy: 0.642767 +/- (0.129182)\n",
      "alpha = 0.002223 loss = huber penality = l1, accuracy: 0.698882 +/- (0.039503)\n",
      "alpha = 0.002223 loss = huber penality = l2, accuracy: 0.702516 +/- (0.063464)\n",
      "alpha = 0.002223 loss = epsilon_insensitive penality = l1, accuracy: 0.668833 +/- (0.073341)\n",
      "alpha = 0.002223 loss = epsilon_insensitive penality = l2, accuracy: 0.624528 +/- (0.077142)\n",
      "alpha = 0.002223 loss = squared_epsilon_insensitive penality = l1, accuracy: 0.661775 +/- (0.125629)\n",
      "alpha = 0.002223 loss = squared_epsilon_insensitive penality = l2, accuracy: 0.635430 +/- (0.103539)\n",
      "alpha = 0.002442 loss = hinge penality = l1, accuracy: 0.739553 +/- (0.051057)\n",
      "alpha = 0.002442 loss = hinge penality = l2, accuracy: 0.761845 +/- (0.048859)\n",
      "alpha = 0.002442 loss = log penality = l1, accuracy: 0.728372 +/- (0.076624)\n",
      "alpha = 0.002442 loss = log penality = l2, accuracy: 0.732075 +/- (0.057220)\n",
      "alpha = 0.002442 loss = modified_huber penality = l1, accuracy: 0.632006 +/- (0.040849)\n",
      "alpha = 0.002442 loss = modified_huber penality = l2, accuracy: 0.676310 +/- (0.066346)\n",
      "alpha = 0.002442 loss = squared_hinge penality = l1, accuracy: 0.698812 +/- (0.041735)\n"
     ]
    },
    {
     "name": "stdout",
     "output_type": "stream",
     "text": [
      "alpha = 0.002442 loss = squared_hinge penality = l2, accuracy: 0.680294 +/- (0.041204)\n",
      "alpha = 0.002442 loss = perceptron penality = l1, accuracy: 0.691265 +/- (0.055570)\n",
      "alpha = 0.002442 loss = perceptron penality = l2, accuracy: 0.650524 +/- (0.029913)\n",
      "alpha = 0.002442 loss = squared_loss penality = l1, accuracy: 0.680014 +/- (0.064116)\n",
      "alpha = 0.002442 loss = squared_loss penality = l2, accuracy: 0.616841 +/- (0.131062)\n",
      "alpha = 0.002442 loss = huber penality = l1, accuracy: 0.691335 +/- (0.052537)\n",
      "alpha = 0.002442 loss = huber penality = l2, accuracy: 0.694969 +/- (0.067873)\n",
      "alpha = 0.002442 loss = epsilon_insensitive penality = l1, accuracy: 0.680224 +/- (0.032537)\n",
      "alpha = 0.002442 loss = epsilon_insensitive penality = l2, accuracy: 0.642977 +/- (0.056384)\n",
      "alpha = 0.002442 loss = squared_epsilon_insensitive penality = l1, accuracy: 0.657163 +/- (0.126303)\n",
      "alpha = 0.002442 loss = squared_epsilon_insensitive penality = l2, accuracy: 0.676380 +/- (0.063762)\n",
      "alpha = 0.002683 loss = hinge penality = l1, accuracy: 0.754437 +/- (0.079678)\n",
      "alpha = 0.002683 loss = hinge penality = l2, accuracy: 0.698812 +/- (0.051981)\n",
      "alpha = 0.002683 loss = log penality = l1, accuracy: 0.728372 +/- (0.076624)\n",
      "alpha = 0.002683 loss = log penality = l2, accuracy: 0.732075 +/- (0.059570)\n",
      "alpha = 0.002683 loss = modified_huber penality = l1, accuracy: 0.687631 +/- (0.057202)\n",
      "alpha = 0.002683 loss = modified_huber penality = l2, accuracy: 0.665269 +/- (0.067089)\n",
      "alpha = 0.002683 loss = squared_hinge penality = l1, accuracy: 0.698463 +/- (0.091382)\n",
      "alpha = 0.002683 loss = squared_hinge penality = l2, accuracy: 0.698882 +/- (0.048822)\n",
      "alpha = 0.002683 loss = perceptron penality = l1, accuracy: 0.650664 +/- (0.028361)\n",
      "alpha = 0.002683 loss = perceptron penality = l2, accuracy: 0.687631 +/- (0.095763)\n",
      "alpha = 0.002683 loss = squared_loss penality = l1, accuracy: 0.665199 +/- (0.065474)\n",
      "alpha = 0.002683 loss = squared_loss penality = l2, accuracy: 0.657722 +/- (0.092343)\n",
      "alpha = 0.002683 loss = huber penality = l1, accuracy: 0.687631 +/- (0.040324)\n",
      "alpha = 0.002683 loss = huber penality = l2, accuracy: 0.706219 +/- (0.061782)\n",
      "alpha = 0.002683 loss = epsilon_insensitive penality = l1, accuracy: 0.613697 +/- (0.072187)\n",
      "alpha = 0.002683 loss = epsilon_insensitive penality = l2, accuracy: 0.669043 +/- (0.023075)\n",
      "alpha = 0.002683 loss = squared_epsilon_insensitive penality = l1, accuracy: 0.732006 +/- (0.094644)\n",
      "alpha = 0.002683 loss = squared_epsilon_insensitive penality = l2, accuracy: 0.609504 +/- (0.123918)\n",
      "alpha = 0.002947 loss = hinge penality = l1, accuracy: 0.728372 +/- (0.058327)\n",
      "alpha = 0.002947 loss = hinge penality = l2, accuracy: 0.735919 +/- (0.058537)\n",
      "alpha = 0.002947 loss = log penality = l1, accuracy: 0.732145 +/- (0.073586)\n",
      "alpha = 0.002947 loss = log penality = l2, accuracy: 0.732075 +/- (0.059570)\n",
      "alpha = 0.002947 loss = modified_huber penality = l1, accuracy: 0.658071 +/- (0.066452)\n",
      "alpha = 0.002947 loss = modified_huber penality = l2, accuracy: 0.654158 +/- (0.072374)\n",
      "alpha = 0.002947 loss = squared_hinge penality = l1, accuracy: 0.732215 +/- (0.067403)\n",
      "alpha = 0.002947 loss = squared_hinge penality = l2, accuracy: 0.713627 +/- (0.049903)\n",
      "alpha = 0.002947 loss = perceptron penality = l1, accuracy: 0.657862 +/- (0.045753)\n",
      "alpha = 0.002947 loss = perceptron penality = l2, accuracy: 0.683788 +/- (0.073319)\n",
      "alpha = 0.002947 loss = squared_loss penality = l1, accuracy: 0.691125 +/- (0.062423)\n",
      "alpha = 0.002947 loss = squared_loss penality = l2, accuracy: 0.661426 +/- (0.080334)\n",
      "alpha = 0.002947 loss = huber penality = l1, accuracy: 0.687631 +/- (0.040324)\n",
      "alpha = 0.002947 loss = huber penality = l2, accuracy: 0.709923 +/- (0.057485)\n",
      "alpha = 0.002947 loss = epsilon_insensitive penality = l1, accuracy: 0.739623 +/- (0.100506)\n",
      "alpha = 0.002947 loss = epsilon_insensitive penality = l2, accuracy: 0.658071 +/- (0.031410)\n",
      "alpha = 0.002947 loss = squared_epsilon_insensitive penality = l1, accuracy: 0.721034 +/- (0.053265)\n",
      "alpha = 0.002947 loss = squared_epsilon_insensitive penality = l2, accuracy: 0.564990 +/- (0.122812)\n",
      "alpha = 0.003237 loss = hinge penality = l1, accuracy: 0.754368 +/- (0.065901)\n",
      "alpha = 0.003237 loss = hinge penality = l2, accuracy: 0.724808 +/- (0.046553)\n",
      "alpha = 0.003237 loss = log penality = l1, accuracy: 0.735849 +/- (0.069625)\n",
      "alpha = 0.003237 loss = log penality = l2, accuracy: 0.728372 +/- (0.061754)\n",
      "alpha = 0.003237 loss = modified_huber penality = l1, accuracy: 0.621034 +/- (0.062581)\n",
      "alpha = 0.003237 loss = modified_huber penality = l2, accuracy: 0.665269 +/- (0.052131)\n",
      "alpha = 0.003237 loss = squared_hinge penality = l1, accuracy: 0.683997 +/- (0.011951)\n",
      "alpha = 0.003237 loss = squared_hinge penality = l2, accuracy: 0.665479 +/- (0.115779)\n",
      "alpha = 0.003237 loss = perceptron penality = l1, accuracy: 0.706150 +/- (0.044124)\n",
      "alpha = 0.003237 loss = perceptron penality = l2, accuracy: 0.676660 +/- (0.033567)\n",
      "alpha = 0.003237 loss = squared_loss penality = l1, accuracy: 0.706150 +/- (0.042542)\n",
      "alpha = 0.003237 loss = squared_loss penality = l2, accuracy: 0.683857 +/- (0.052074)\n",
      "alpha = 0.003237 loss = huber penality = l1, accuracy: 0.683927 +/- (0.042851)\n",
      "alpha = 0.003237 loss = huber penality = l2, accuracy: 0.706219 +/- (0.059520)\n",
      "alpha = 0.003237 loss = epsilon_insensitive penality = l1, accuracy: 0.650594 +/- (0.042511)\n",
      "alpha = 0.003237 loss = epsilon_insensitive penality = l2, accuracy: 0.680224 +/- (0.015351)\n",
      "alpha = 0.003237 loss = squared_epsilon_insensitive penality = l1, accuracy: 0.628442 +/- (0.114203)\n",
      "alpha = 0.003237 loss = squared_epsilon_insensitive penality = l2, accuracy: 0.665409 +/- (0.067328)\n",
      "alpha = 0.003556 loss = hinge penality = l1, accuracy: 0.721034 +/- (0.081719)\n",
      "alpha = 0.003556 loss = hinge penality = l2, accuracy: 0.728372 +/- (0.066047)\n",
      "alpha = 0.003556 loss = log penality = l1, accuracy: 0.720964 +/- (0.080350)\n",
      "alpha = 0.003556 loss = log penality = l2, accuracy: 0.728372 +/- (0.066047)\n",
      "alpha = 0.003556 loss = modified_huber penality = l1, accuracy: 0.687561 +/- (0.048630)\n",
      "alpha = 0.003556 loss = modified_huber penality = l2, accuracy: 0.672816 +/- (0.043480)\n",
      "alpha = 0.003556 loss = squared_hinge penality = l1, accuracy: 0.687771 +/- (0.071430)\n",
      "alpha = 0.003556 loss = squared_hinge penality = l2, accuracy: 0.643047 +/- (0.119302)\n",
      "alpha = 0.003556 loss = perceptron penality = l1, accuracy: 0.609783 +/- (0.029477)\n",
      "alpha = 0.003556 loss = perceptron penality = l2, accuracy: 0.672607 +/- (0.097998)\n",
      "alpha = 0.003556 loss = squared_loss penality = l1, accuracy: 0.687561 +/- (0.052692)\n",
      "alpha = 0.003556 loss = squared_loss penality = l2, accuracy: 0.676310 +/- (0.059823)\n",
      "alpha = 0.003556 loss = huber penality = l1, accuracy: 0.676450 +/- (0.035573)\n",
      "alpha = 0.003556 loss = huber penality = l2, accuracy: 0.706289 +/- (0.051715)\n",
      "alpha = 0.003556 loss = epsilon_insensitive penality = l1, accuracy: 0.683997 +/- (0.069331)\n",
      "alpha = 0.003556 loss = epsilon_insensitive penality = l2, accuracy: 0.680294 +/- (0.021523)\n",
      "alpha = 0.003556 loss = squared_epsilon_insensitive penality = l1, accuracy: 0.683927 +/- (0.037745)\n",
      "alpha = 0.003556 loss = squared_epsilon_insensitive penality = l2, accuracy: 0.639553 +/- (0.127157)\n",
      "alpha = 0.003907 loss = hinge penality = l1, accuracy: 0.721034 +/- (0.062726)\n",
      "alpha = 0.003907 loss = hinge penality = l2, accuracy: 0.743326 +/- (0.051187)\n",
      "alpha = 0.003907 loss = log penality = l1, accuracy: 0.720964 +/- (0.080350)\n",
      "alpha = 0.003907 loss = log penality = l2, accuracy: 0.732075 +/- (0.064010)\n",
      "alpha = 0.003907 loss = modified_huber penality = l1, accuracy: 0.669043 +/- (0.072086)\n",
      "alpha = 0.003907 loss = modified_huber penality = l2, accuracy: 0.687631 +/- (0.038586)\n",
      "alpha = 0.003907 loss = squared_hinge penality = l1, accuracy: 0.680294 +/- (0.087940)\n",
      "alpha = 0.003907 loss = squared_hinge penality = l2, accuracy: 0.687561 +/- (0.096040)\n",
      "alpha = 0.003907 loss = perceptron penality = l1, accuracy: 0.665129 +/- (0.063860)\n",
      "alpha = 0.003907 loss = perceptron penality = l2, accuracy: 0.698742 +/- (0.074127)\n",
      "alpha = 0.003907 loss = squared_loss penality = l1, accuracy: 0.698463 +/- (0.070152)\n",
      "alpha = 0.003907 loss = squared_loss penality = l2, accuracy: 0.668833 +/- (0.058809)\n",
      "alpha = 0.003907 loss = huber penality = l1, accuracy: 0.680154 +/- (0.042385)\n",
      "alpha = 0.003907 loss = huber penality = l2, accuracy: 0.698812 +/- (0.046404)\n"
     ]
    },
    {
     "name": "stdout",
     "output_type": "stream",
     "text": [
      "alpha = 0.003907 loss = epsilon_insensitive penality = l1, accuracy: 0.669113 +/- (0.029892)\n",
      "alpha = 0.003907 loss = epsilon_insensitive penality = l2, accuracy: 0.695108 +/- (0.022932)\n",
      "alpha = 0.003907 loss = squared_epsilon_insensitive penality = l1, accuracy: 0.683718 +/- (0.062688)\n",
      "alpha = 0.003907 loss = squared_epsilon_insensitive penality = l2, accuracy: 0.624249 +/- (0.131574)\n",
      "alpha = 0.004292 loss = hinge penality = l1, accuracy: 0.750734 +/- (0.062439)\n",
      "alpha = 0.004292 loss = hinge penality = l2, accuracy: 0.732215 +/- (0.063202)\n",
      "alpha = 0.004292 loss = log penality = l1, accuracy: 0.728372 +/- (0.083478)\n",
      "alpha = 0.004292 loss = log penality = l2, accuracy: 0.732075 +/- (0.064010)\n",
      "alpha = 0.004292 loss = modified_huber penality = l1, accuracy: 0.669043 +/- (0.066131)\n",
      "alpha = 0.004292 loss = modified_huber penality = l2, accuracy: 0.713557 +/- (0.047617)\n",
      "alpha = 0.004292 loss = squared_hinge penality = l1, accuracy: 0.691055 +/- (0.071156)\n",
      "alpha = 0.004292 loss = squared_hinge penality = l2, accuracy: 0.698952 +/- (0.094493)\n",
      "alpha = 0.004292 loss = perceptron penality = l1, accuracy: 0.672956 +/- (0.089315)\n",
      "alpha = 0.004292 loss = perceptron penality = l2, accuracy: 0.680224 +/- (0.082583)\n",
      "alpha = 0.004292 loss = squared_loss penality = l1, accuracy: 0.698463 +/- (0.090628)\n",
      "alpha = 0.004292 loss = squared_loss penality = l2, accuracy: 0.687491 +/- (0.053241)\n",
      "alpha = 0.004292 loss = huber penality = l1, accuracy: 0.676450 +/- (0.035573)\n",
      "alpha = 0.004292 loss = huber penality = l2, accuracy: 0.691405 +/- (0.049371)\n",
      "alpha = 0.004292 loss = epsilon_insensitive penality = l1, accuracy: 0.672816 +/- (0.034708)\n",
      "alpha = 0.004292 loss = epsilon_insensitive penality = l2, accuracy: 0.717191 +/- (0.058342)\n",
      "alpha = 0.004292 loss = squared_epsilon_insensitive penality = l1, accuracy: 0.661495 +/- (0.060374)\n",
      "alpha = 0.004292 loss = squared_epsilon_insensitive penality = l2, accuracy: 0.602027 +/- (0.117039)\n",
      "alpha = 0.004715 loss = hinge penality = l1, accuracy: 0.739623 +/- (0.059306)\n",
      "alpha = 0.004715 loss = hinge penality = l2, accuracy: 0.754437 +/- (0.060043)\n",
      "alpha = 0.004715 loss = log penality = l1, accuracy: 0.732075 +/- (0.077574)\n",
      "alpha = 0.004715 loss = log penality = l2, accuracy: 0.732075 +/- (0.072074)\n",
      "alpha = 0.004715 loss = modified_huber penality = l1, accuracy: 0.669043 +/- (0.061844)\n",
      "alpha = 0.004715 loss = modified_huber penality = l2, accuracy: 0.717261 +/- (0.044440)\n",
      "alpha = 0.004715 loss = squared_hinge penality = l1, accuracy: 0.713417 +/- (0.065622)\n",
      "alpha = 0.004715 loss = squared_hinge penality = l2, accuracy: 0.661705 +/- (0.100327)\n",
      "alpha = 0.004715 loss = perceptron penality = l1, accuracy: 0.691405 +/- (0.074783)\n",
      "alpha = 0.004715 loss = perceptron penality = l2, accuracy: 0.668903 +/- (0.072889)\n",
      "alpha = 0.004715 loss = squared_loss penality = l1, accuracy: 0.691265 +/- (0.076364)\n",
      "alpha = 0.004715 loss = squared_loss penality = l2, accuracy: 0.713557 +/- (0.044643)\n",
      "alpha = 0.004715 loss = huber penality = l1, accuracy: 0.676520 +/- (0.036758)\n",
      "alpha = 0.004715 loss = huber penality = l2, accuracy: 0.695108 +/- (0.045109)\n",
      "alpha = 0.004715 loss = epsilon_insensitive penality = l1, accuracy: 0.691405 +/- (0.060598)\n",
      "alpha = 0.004715 loss = epsilon_insensitive penality = l2, accuracy: 0.683718 +/- (0.050577)\n",
      "alpha = 0.004715 loss = squared_epsilon_insensitive penality = l1, accuracy: 0.669113 +/- (0.059160)\n",
      "alpha = 0.004715 loss = squared_epsilon_insensitive penality = l2, accuracy: 0.654018 +/- (0.103492)\n",
      "alpha = 0.005179 loss = hinge penality = l1, accuracy: 0.747030 +/- (0.083937)\n",
      "alpha = 0.005179 loss = hinge penality = l2, accuracy: 0.739623 +/- (0.071856)\n",
      "alpha = 0.005179 loss = log penality = l1, accuracy: 0.732075 +/- (0.077574)\n",
      "alpha = 0.005179 loss = log penality = l2, accuracy: 0.732075 +/- (0.072074)\n",
      "alpha = 0.005179 loss = modified_huber penality = l1, accuracy: 0.698672 +/- (0.041334)\n",
      "alpha = 0.005179 loss = modified_huber penality = l2, accuracy: 0.680224 +/- (0.043379)\n",
      "alpha = 0.005179 loss = squared_hinge penality = l1, accuracy: 0.735849 +/- (0.044351)\n",
      "alpha = 0.005179 loss = squared_hinge penality = l2, accuracy: 0.709923 +/- (0.072284)\n",
      "alpha = 0.005179 loss = perceptron penality = l1, accuracy: 0.650524 +/- (0.055584)\n",
      "alpha = 0.005179 loss = perceptron penality = l2, accuracy: 0.672956 +/- (0.066413)\n",
      "alpha = 0.005179 loss = squared_loss penality = l1, accuracy: 0.650594 +/- (0.058765)\n",
      "alpha = 0.005179 loss = squared_loss penality = l2, accuracy: 0.713487 +/- (0.040474)\n",
      "alpha = 0.005179 loss = huber penality = l1, accuracy: 0.676450 +/- (0.035573)\n",
      "alpha = 0.005179 loss = huber penality = l2, accuracy: 0.683997 +/- (0.053724)\n",
      "alpha = 0.005179 loss = epsilon_insensitive penality = l1, accuracy: 0.695108 +/- (0.048053)\n",
      "alpha = 0.005179 loss = epsilon_insensitive penality = l2, accuracy: 0.676520 +/- (0.074857)\n",
      "alpha = 0.005179 loss = squared_epsilon_insensitive penality = l1, accuracy: 0.687561 +/- (0.056462)\n",
      "alpha = 0.005179 loss = squared_epsilon_insensitive penality = l2, accuracy: 0.650245 +/- (0.098895)\n",
      "alpha = 0.005690 loss = hinge penality = l1, accuracy: 0.750734 +/- (0.072598)\n",
      "alpha = 0.005690 loss = hinge penality = l2, accuracy: 0.735919 +/- (0.060835)\n",
      "alpha = 0.005690 loss = log penality = l1, accuracy: 0.732075 +/- (0.077574)\n",
      "alpha = 0.005690 loss = log penality = l2, accuracy: 0.735779 +/- (0.070015)\n",
      "alpha = 0.005690 loss = modified_huber penality = l1, accuracy: 0.702376 +/- (0.042434)\n",
      "alpha = 0.005690 loss = modified_huber penality = l2, accuracy: 0.669043 +/- (0.046675)\n",
      "alpha = 0.005690 loss = squared_hinge penality = l1, accuracy: 0.728442 +/- (0.039564)\n",
      "alpha = 0.005690 loss = squared_hinge penality = l2, accuracy: 0.698812 +/- (0.073794)\n",
      "alpha = 0.005690 loss = perceptron penality = l1, accuracy: 0.706219 +/- (0.073913)\n",
      "alpha = 0.005690 loss = perceptron penality = l2, accuracy: 0.680154 +/- (0.046990)\n",
      "alpha = 0.005690 loss = squared_loss penality = l1, accuracy: 0.687561 +/- (0.093139)\n",
      "alpha = 0.005690 loss = squared_loss penality = l2, accuracy: 0.739623 +/- (0.027815)\n",
      "alpha = 0.005690 loss = huber penality = l1, accuracy: 0.676450 +/- (0.035573)\n",
      "alpha = 0.005690 loss = huber penality = l2, accuracy: 0.683997 +/- (0.053724)\n",
      "alpha = 0.005690 loss = epsilon_insensitive penality = l1, accuracy: 0.695038 +/- (0.031404)\n",
      "alpha = 0.005690 loss = epsilon_insensitive penality = l2, accuracy: 0.676520 +/- (0.054747)\n",
      "alpha = 0.005690 loss = squared_epsilon_insensitive penality = l1, accuracy: 0.687491 +/- (0.067955)\n",
      "alpha = 0.005690 loss = squared_epsilon_insensitive penality = l2, accuracy: 0.642907 +/- (0.073732)\n",
      "alpha = 0.006251 loss = hinge penality = l1, accuracy: 0.739623 +/- (0.054484)\n",
      "alpha = 0.006251 loss = hinge penality = l2, accuracy: 0.750734 +/- (0.071647)\n",
      "alpha = 0.006251 loss = log penality = l1, accuracy: 0.735779 +/- (0.079208)\n",
      "alpha = 0.006251 loss = log penality = l2, accuracy: 0.739483 +/- (0.068698)\n",
      "alpha = 0.006251 loss = modified_huber penality = l1, accuracy: 0.698672 +/- (0.041334)\n",
      "alpha = 0.006251 loss = modified_huber penality = l2, accuracy: 0.713487 +/- (0.049610)\n",
      "alpha = 0.006251 loss = squared_hinge penality = l1, accuracy: 0.735849 +/- (0.047343)\n",
      "alpha = 0.006251 loss = squared_hinge penality = l2, accuracy: 0.669113 +/- (0.032105)\n",
      "alpha = 0.006251 loss = perceptron penality = l1, accuracy: 0.658001 +/- (0.075460)\n",
      "alpha = 0.006251 loss = perceptron penality = l2, accuracy: 0.672886 +/- (0.096188)\n",
      "alpha = 0.006251 loss = squared_loss penality = l1, accuracy: 0.706150 +/- (0.064356)\n",
      "alpha = 0.006251 loss = squared_loss penality = l2, accuracy: 0.743117 +/- (0.054074)\n",
      "alpha = 0.006251 loss = huber penality = l1, accuracy: 0.672746 +/- (0.037320)\n",
      "alpha = 0.006251 loss = huber penality = l2, accuracy: 0.691405 +/- (0.045011)\n",
      "alpha = 0.006251 loss = epsilon_insensitive penality = l1, accuracy: 0.672816 +/- (0.034708)\n",
      "alpha = 0.006251 loss = epsilon_insensitive penality = l2, accuracy: 0.713627 +/- (0.065373)\n",
      "alpha = 0.006251 loss = squared_epsilon_insensitive penality = l1, accuracy: 0.676380 +/- (0.066911)\n",
      "alpha = 0.006251 loss = squared_epsilon_insensitive penality = l2, accuracy: 0.665199 +/- (0.066514)\n",
      "alpha = 0.006866 loss = hinge penality = l1, accuracy: 0.743256 +/- (0.072641)\n",
      "alpha = 0.006866 loss = hinge penality = l2, accuracy: 0.739623 +/- (0.059306)\n",
      "alpha = 0.006866 loss = log penality = l1, accuracy: 0.735849 +/- (0.074388)\n",
      "alpha = 0.006866 loss = log penality = l2, accuracy: 0.739483 +/- (0.068698)\n",
      "alpha = 0.006866 loss = modified_huber penality = l1, accuracy: 0.717191 +/- (0.049433)\n",
      "alpha = 0.006866 loss = modified_huber penality = l2, accuracy: 0.706080 +/- (0.053156)\n",
      "alpha = 0.006866 loss = squared_hinge penality = l1, accuracy: 0.717331 +/- (0.035173)\n",
      "alpha = 0.006866 loss = squared_hinge penality = l2, accuracy: 0.676450 +/- (0.035573)\n"
     ]
    },
    {
     "name": "stdout",
     "output_type": "stream",
     "text": [
      "alpha = 0.006866 loss = perceptron penality = l1, accuracy: 0.639483 +/- (0.040860)\n",
      "alpha = 0.006866 loss = perceptron penality = l2, accuracy: 0.635779 +/- (0.071341)\n",
      "alpha = 0.006866 loss = squared_loss penality = l1, accuracy: 0.713627 +/- (0.063239)\n",
      "alpha = 0.006866 loss = squared_loss penality = l2, accuracy: 0.739483 +/- (0.050246)\n",
      "alpha = 0.006866 loss = huber penality = l1, accuracy: 0.665339 +/- (0.024595)\n",
      "alpha = 0.006866 loss = huber penality = l2, accuracy: 0.691405 +/- (0.045011)\n",
      "alpha = 0.006866 loss = epsilon_insensitive penality = l1, accuracy: 0.676450 +/- (0.040951)\n",
      "alpha = 0.006866 loss = epsilon_insensitive penality = l2, accuracy: 0.721034 +/- (0.049250)\n",
      "alpha = 0.006866 loss = squared_epsilon_insensitive penality = l1, accuracy: 0.661705 +/- (0.021527)\n",
      "alpha = 0.006866 loss = squared_epsilon_insensitive penality = l2, accuracy: 0.665129 +/- (0.064925)\n",
      "alpha = 0.007543 loss = hinge penality = l1, accuracy: 0.746960 +/- (0.083421)\n",
      "alpha = 0.007543 loss = hinge penality = l2, accuracy: 0.732215 +/- (0.057520)\n",
      "alpha = 0.007543 loss = log penality = l1, accuracy: 0.728442 +/- (0.079790)\n",
      "alpha = 0.007543 loss = log penality = l2, accuracy: 0.739483 +/- (0.068698)\n",
      "alpha = 0.007543 loss = modified_huber penality = l1, accuracy: 0.728372 +/- (0.052117)\n",
      "alpha = 0.007543 loss = modified_huber penality = l2, accuracy: 0.706080 +/- (0.053156)\n",
      "alpha = 0.007543 loss = squared_hinge penality = l1, accuracy: 0.713627 +/- (0.031327)\n",
      "alpha = 0.007543 loss = squared_hinge penality = l2, accuracy: 0.683857 +/- (0.032644)\n",
      "alpha = 0.007543 loss = perceptron penality = l1, accuracy: 0.639343 +/- (0.123885)\n",
      "alpha = 0.007543 loss = perceptron penality = l2, accuracy: 0.695178 +/- (0.075464)\n",
      "alpha = 0.007543 loss = squared_loss penality = l1, accuracy: 0.713627 +/- (0.045594)\n",
      "alpha = 0.007543 loss = squared_loss penality = l2, accuracy: 0.743256 +/- (0.039662)\n",
      "alpha = 0.007543 loss = huber penality = l1, accuracy: 0.669182 +/- (0.026668)\n",
      "alpha = 0.007543 loss = huber penality = l2, accuracy: 0.691405 +/- (0.045011)\n",
      "alpha = 0.007543 loss = epsilon_insensitive penality = l1, accuracy: 0.687701 +/- (0.039727)\n",
      "alpha = 0.007543 loss = epsilon_insensitive penality = l2, accuracy: 0.698882 +/- (0.055402)\n",
      "alpha = 0.007543 loss = squared_epsilon_insensitive penality = l1, accuracy: 0.687631 +/- (0.022992)\n",
      "alpha = 0.007543 loss = squared_epsilon_insensitive penality = l2, accuracy: 0.613277 +/- (0.075874)\n",
      "alpha = 0.008286 loss = hinge penality = l1, accuracy: 0.739553 +/- (0.080297)\n",
      "alpha = 0.008286 loss = hinge penality = l2, accuracy: 0.735849 +/- (0.077988)\n",
      "alpha = 0.008286 loss = log penality = l1, accuracy: 0.724738 +/- (0.078695)\n",
      "alpha = 0.008286 loss = log penality = l2, accuracy: 0.739483 +/- (0.068698)\n",
      "alpha = 0.008286 loss = modified_huber penality = l1, accuracy: 0.724458 +/- (0.078497)\n",
      "alpha = 0.008286 loss = modified_huber penality = l2, accuracy: 0.720964 +/- (0.053755)\n",
      "alpha = 0.008286 loss = squared_hinge penality = l1, accuracy: 0.721034 +/- (0.049250)\n",
      "alpha = 0.008286 loss = squared_hinge penality = l2, accuracy: 0.702376 +/- (0.077801)\n",
      "alpha = 0.008286 loss = perceptron penality = l1, accuracy: 0.646611 +/- (0.101642)\n",
      "alpha = 0.008286 loss = perceptron penality = l2, accuracy: 0.680014 +/- (0.076773)\n",
      "alpha = 0.008286 loss = squared_loss penality = l1, accuracy: 0.706219 +/- (0.046593)\n",
      "alpha = 0.008286 loss = squared_loss penality = l2, accuracy: 0.739553 +/- (0.035143)\n",
      "alpha = 0.008286 loss = huber penality = l1, accuracy: 0.665339 +/- (0.024595)\n",
      "alpha = 0.008286 loss = huber penality = l2, accuracy: 0.691405 +/- (0.045011)\n",
      "alpha = 0.008286 loss = epsilon_insensitive penality = l1, accuracy: 0.687701 +/- (0.039727)\n",
      "alpha = 0.008286 loss = epsilon_insensitive penality = l2, accuracy: 0.713697 +/- (0.061773)\n",
      "alpha = 0.008286 loss = squared_epsilon_insensitive penality = l1, accuracy: 0.672676 +/- (0.108969)\n",
      "alpha = 0.008286 loss = squared_epsilon_insensitive penality = l2, accuracy: 0.643187 +/- (0.085297)\n",
      "alpha = 0.009103 loss = hinge penality = l1, accuracy: 0.761845 +/- (0.072580)\n",
      "alpha = 0.009103 loss = hinge penality = l2, accuracy: 0.750664 +/- (0.068088)\n",
      "alpha = 0.009103 loss = log penality = l1, accuracy: 0.721034 +/- (0.082554)\n",
      "alpha = 0.009103 loss = log penality = l2, accuracy: 0.732075 +/- (0.073019)\n",
      "alpha = 0.009103 loss = modified_huber penality = l1, accuracy: 0.732075 +/- (0.066118)\n",
      "alpha = 0.009103 loss = modified_huber penality = l2, accuracy: 0.698812 +/- (0.022522)\n",
      "alpha = 0.009103 loss = squared_hinge penality = l1, accuracy: 0.695108 +/- (0.022932)\n",
      "alpha = 0.009103 loss = squared_hinge penality = l2, accuracy: 0.691265 +/- (0.032100)\n",
      "alpha = 0.009103 loss = perceptron penality = l1, accuracy: 0.679804 +/- (0.076409)\n",
      "alpha = 0.009103 loss = perceptron penality = l2, accuracy: 0.706010 +/- (0.072238)\n",
      "alpha = 0.009103 loss = squared_loss penality = l1, accuracy: 0.717331 +/- (0.058582)\n",
      "alpha = 0.009103 loss = squared_loss penality = l2, accuracy: 0.735849 +/- (0.039439)\n",
      "alpha = 0.009103 loss = huber penality = l1, accuracy: 0.665409 +/- (0.026310)\n",
      "alpha = 0.009103 loss = huber penality = l2, accuracy: 0.691405 +/- (0.045011)\n",
      "alpha = 0.009103 loss = epsilon_insensitive penality = l1, accuracy: 0.687561 +/- (0.052692)\n",
      "alpha = 0.009103 loss = epsilon_insensitive penality = l2, accuracy: 0.695038 +/- (0.055171)\n",
      "alpha = 0.009103 loss = squared_epsilon_insensitive penality = l1, accuracy: 0.706150 +/- (0.056405)\n",
      "alpha = 0.009103 loss = squared_epsilon_insensitive penality = l2, accuracy: 0.720964 +/- (0.052463)\n",
      "alpha = 0.010000 loss = hinge penality = l1, accuracy: 0.747030 +/- (0.074408)\n",
      "alpha = 0.010000 loss = hinge penality = l2, accuracy: 0.732145 +/- (0.076331)\n",
      "alpha = 0.010000 loss = log penality = l1, accuracy: 0.732145 +/- (0.085647)\n",
      "alpha = 0.010000 loss = log penality = l2, accuracy: 0.732075 +/- (0.073019)\n",
      "alpha = 0.010000 loss = modified_huber penality = l1, accuracy: 0.728372 +/- (0.067078)\n",
      "alpha = 0.010000 loss = modified_huber penality = l2, accuracy: 0.702516 +/- (0.029541)\n",
      "alpha = 0.010000 loss = squared_hinge penality = l1, accuracy: 0.691405 +/- (0.025578)\n",
      "alpha = 0.010000 loss = squared_hinge penality = l2, accuracy: 0.687491 +/- (0.038248)\n",
      "alpha = 0.010000 loss = perceptron penality = l1, accuracy: 0.561426 +/- (0.102777)\n",
      "alpha = 0.010000 loss = perceptron penality = l2, accuracy: 0.676660 +/- (0.052658)\n",
      "alpha = 0.010000 loss = squared_loss penality = l1, accuracy: 0.724738 +/- (0.064307)\n",
      "alpha = 0.010000 loss = squared_loss penality = l2, accuracy: 0.728372 +/- (0.043510)\n",
      "alpha = 0.010000 loss = huber penality = l1, accuracy: 0.665409 +/- (0.026310)\n",
      "alpha = 0.010000 loss = huber penality = l2, accuracy: 0.695108 +/- (0.045109)\n",
      "alpha = 0.010000 loss = epsilon_insensitive penality = l1, accuracy: 0.687701 +/- (0.039727)\n",
      "alpha = 0.010000 loss = epsilon_insensitive penality = l2, accuracy: 0.702586 +/- (0.045416)\n",
      "alpha = 0.010000 loss = squared_epsilon_insensitive penality = l1, accuracy: 0.698742 +/- (0.059786)\n",
      "alpha = 0.010000 loss = squared_epsilon_insensitive penality = l2, accuracy: 0.735779 +/- (0.050697)\n"
     ]
    }
   ],
   "source": [
    "score_model = []\n",
    "loss_name = []\n",
    "alphaVal = []\n",
    "l12 = []\n",
    "\n",
    "#alpha_values = np.logspace(-7,1, num=15)\n",
    "loss = ['hinge','log', 'modified_huber', 'squared_hinge', 'perceptron','squared_loss', 'huber', 'epsilon_insensitive','squared_epsilon_insensitive']    \n",
    "alpha_values = np.logspace(-4,-2,50)\n",
    "penal = ['l1','l2']\n",
    "for alpha_v in alpha_values:\n",
    "    for loss_v in loss:\n",
    "        for pena_v in penal:\n",
    "            model_cv=  SGDClassifier(penalty=pena_v, alpha=alpha_v , random_state=5 ,loss=loss_v , max_iter=5000)\n",
    "            kfold = KFold(n_splits=5)\n",
    "            cv_results = cross_val_score(model_cv, x_train, y_train, cv=kfold, scoring=monScoring)\n",
    "            msg = \"alpha = %f loss = %s penality = %s, accuracy: %f +/- (%f)\" % (alpha_v,loss_v,pena_v, cv_results.mean(), cv_results.std())\n",
    "            print(msg)\n",
    "            score_model.append((cv_results.mean())*100)\n",
    "            alphaVal.append(alpha_v)\n",
    "            loss_name.append(loss_v)\n",
    "            l12.append(pena_v)"
   ]
  },
  {
   "cell_type": "code",
   "execution_count": 288,
   "metadata": {},
   "outputs": [
    {
     "ename": "NameError",
     "evalue": "name 'sklearn' is not defined",
     "output_type": "error",
     "traceback": [
      "\u001b[1;31m---------------------------------------------------------------------------\u001b[0m",
      "\u001b[1;31mNameError\u001b[0m                                 Traceback (most recent call last)",
      "\u001b[1;32m<ipython-input-288-7db384d0067b>\u001b[0m in \u001b[0;36m<module>\u001b[1;34m\u001b[0m\n\u001b[1;32m----> 1\u001b[1;33m \u001b[0mmodel_svc\u001b[0m \u001b[1;33m=\u001b[0m \u001b[0msklearn\u001b[0m\u001b[1;33m.\u001b[0m\u001b[0msvm\u001b[0m\u001b[1;33m.\u001b[0m\u001b[0mLinearSVC\u001b[0m\u001b[1;33m(\u001b[0m\u001b[1;33m)\u001b[0m\u001b[1;33m\u001b[0m\u001b[1;33m\u001b[0m\u001b[0m\n\u001b[0m\u001b[0;32m      2\u001b[0m \u001b[0mmodel_svc\u001b[0m\u001b[1;33m.\u001b[0m\u001b[0mfit\u001b[0m\u001b[1;33m(\u001b[0m\u001b[0mx_train\u001b[0m\u001b[1;33m,\u001b[0m \u001b[0my_train\u001b[0m\u001b[1;33m)\u001b[0m\u001b[1;33m\u001b[0m\u001b[1;33m\u001b[0m\u001b[0m\n",
      "\u001b[1;31mNameError\u001b[0m: name 'sklearn' is not defined"
     ]
    }
   ],
   "source": [
    "from sklearn.svm import LinearSVC\n",
    "model_svc = sklearn.svm.LinearSVC()\n",
    "model_svc.fit(x_train, y_train)"
   ]
  },
  {
   "cell_type": "code",
   "execution_count": 286,
   "metadata": {
    "scrolled": false
   },
   "outputs": [
    {
     "data": {
      "text/plain": [
       "[<matplotlib.lines.Line2D at 0x1521dac9fa0>]"
      ]
     },
     "execution_count": 286,
     "metadata": {},
     "output_type": "execute_result"
    },
    {
     "data": {
      "image/png": "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\n",
      "text/plain": [
       "<Figure size 432x288 with 1 Axes>"
      ]
     },
     "metadata": {
      "needs_background": "light"
     },
     "output_type": "display_data"
    }
   ],
   "source": [
    "#plt.figure(1, figsize=(8, 8))\n",
    "plt.plot(alphaVal,score_model)"
   ]
  },
  {
   "cell_type": "code",
   "execution_count": 287,
   "metadata": {},
   "outputs": [
    {
     "name": "stdout",
     "output_type": "stream",
     "text": [
      "score =  76.18448637316561  alpha val =  0.0024420530945486497  loss val =  hinge  pena val =  l2\n"
     ]
    }
   ],
   "source": [
    "score_v2 = score_model.index(max(score_model))\n",
    "alphaWithMaxScore = alphaVal[score_v2]\n",
    "lossWithMaxScore = loss_name[score_v2]\n",
    "penaWithMaxScore = l12[score_v2]\n",
    "monScoreV2 = max(score_model)\n",
    "print(\"score = \", monScoreV2,  \" alpha val = \", alphaWithMaxScore, \" loss val = \", lossWithMaxScore, \" pena val = \", penaWithMaxScore)"
   ]
  },
  {
   "cell_type": "code",
   "execution_count": null,
   "metadata": {},
   "outputs": [],
   "source": []
  },
  {
   "cell_type": "code",
   "execution_count": null,
   "metadata": {},
   "outputs": [],
   "source": [
    "#TODO: Une boucle kfold qui optimise en même temps \n",
    "# Standardisation ou Normalisation ?"
   ]
  },
  {
   "cell_type": "code",
   "execution_count": null,
   "metadata": {},
   "outputs": [],
   "source": []
  }
 ],
 "metadata": {
  "kernelspec": {
   "display_name": "Python 3",
   "language": "python",
   "name": "python3"
  },
  "language_info": {
   "codemirror_mode": {
    "name": "ipython",
    "version": 3
   },
   "file_extension": ".py",
   "mimetype": "text/x-python",
   "name": "python",
   "nbconvert_exporter": "python",
   "pygments_lexer": "ipython3",
   "version": "3.8.5"
  }
 },
 "nbformat": 4,
 "nbformat_minor": 4
}
