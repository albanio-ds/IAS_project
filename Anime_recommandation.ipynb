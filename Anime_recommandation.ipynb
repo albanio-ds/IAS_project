{
 "cells": [
  {
   "cell_type": "raw",
   "metadata": {},
   "source": [
    "But: apprentissage non supervisé? "
   ]
  },
  {
   "cell_type": "code",
   "execution_count": 4,
   "metadata": {},
   "outputs": [],
   "source": [
    "import numpy as np\n",
    "import matplotlib.pyplot as plt\n",
    "import pandas as pd\n",
    "anime = pd.read_csv('Dataset/anime.csv')\n",
    "rating = pd.read_csv('Dataset/rating.csv')"
   ]
  },
  {
   "cell_type": "code",
   "execution_count": 9,
   "metadata": {},
   "outputs": [
    {
     "data": {
      "text/html": [
       "<div>\n",
       "<style scoped>\n",
       "    .dataframe tbody tr th:only-of-type {\n",
       "        vertical-align: middle;\n",
       "    }\n",
       "\n",
       "    .dataframe tbody tr th {\n",
       "        vertical-align: top;\n",
       "    }\n",
       "\n",
       "    .dataframe thead th {\n",
       "        text-align: right;\n",
       "    }\n",
       "</style>\n",
       "<table border=\"1\" class=\"dataframe\">\n",
       "  <thead>\n",
       "    <tr style=\"text-align: right;\">\n",
       "      <th></th>\n",
       "      <th>anime_id</th>\n",
       "      <th>name</th>\n",
       "      <th>genre</th>\n",
       "      <th>type</th>\n",
       "      <th>episodes</th>\n",
       "      <th>rating</th>\n",
       "      <th>members</th>\n",
       "    </tr>\n",
       "  </thead>\n",
       "  <tbody>\n",
       "    <tr>\n",
       "      <th>0</th>\n",
       "      <td>32281</td>\n",
       "      <td>Kimi no Na wa.</td>\n",
       "      <td>Drama, Romance, School, Supernatural</td>\n",
       "      <td>Movie</td>\n",
       "      <td>1</td>\n",
       "      <td>9.37</td>\n",
       "      <td>200630</td>\n",
       "    </tr>\n",
       "    <tr>\n",
       "      <th>1</th>\n",
       "      <td>5114</td>\n",
       "      <td>Fullmetal Alchemist: Brotherhood</td>\n",
       "      <td>Action, Adventure, Drama, Fantasy, Magic, Mili...</td>\n",
       "      <td>TV</td>\n",
       "      <td>64</td>\n",
       "      <td>9.26</td>\n",
       "      <td>793665</td>\n",
       "    </tr>\n",
       "    <tr>\n",
       "      <th>2</th>\n",
       "      <td>28977</td>\n",
       "      <td>Gintama°</td>\n",
       "      <td>Action, Comedy, Historical, Parody, Samurai, S...</td>\n",
       "      <td>TV</td>\n",
       "      <td>51</td>\n",
       "      <td>9.25</td>\n",
       "      <td>114262</td>\n",
       "    </tr>\n",
       "    <tr>\n",
       "      <th>3</th>\n",
       "      <td>9253</td>\n",
       "      <td>Steins;Gate</td>\n",
       "      <td>Sci-Fi, Thriller</td>\n",
       "      <td>TV</td>\n",
       "      <td>24</td>\n",
       "      <td>9.17</td>\n",
       "      <td>673572</td>\n",
       "    </tr>\n",
       "    <tr>\n",
       "      <th>4</th>\n",
       "      <td>9969</td>\n",
       "      <td>Gintama&amp;#039;</td>\n",
       "      <td>Action, Comedy, Historical, Parody, Samurai, S...</td>\n",
       "      <td>TV</td>\n",
       "      <td>51</td>\n",
       "      <td>9.16</td>\n",
       "      <td>151266</td>\n",
       "    </tr>\n",
       "    <tr>\n",
       "      <th>5</th>\n",
       "      <td>32935</td>\n",
       "      <td>Haikyuu!!: Karasuno Koukou VS Shiratorizawa Ga...</td>\n",
       "      <td>Comedy, Drama, School, Shounen, Sports</td>\n",
       "      <td>TV</td>\n",
       "      <td>10</td>\n",
       "      <td>9.15</td>\n",
       "      <td>93351</td>\n",
       "    </tr>\n",
       "    <tr>\n",
       "      <th>6</th>\n",
       "      <td>11061</td>\n",
       "      <td>Hunter x Hunter (2011)</td>\n",
       "      <td>Action, Adventure, Shounen, Super Power</td>\n",
       "      <td>TV</td>\n",
       "      <td>148</td>\n",
       "      <td>9.13</td>\n",
       "      <td>425855</td>\n",
       "    </tr>\n",
       "    <tr>\n",
       "      <th>7</th>\n",
       "      <td>820</td>\n",
       "      <td>Ginga Eiyuu Densetsu</td>\n",
       "      <td>Drama, Military, Sci-Fi, Space</td>\n",
       "      <td>OVA</td>\n",
       "      <td>110</td>\n",
       "      <td>9.11</td>\n",
       "      <td>80679</td>\n",
       "    </tr>\n",
       "    <tr>\n",
       "      <th>8</th>\n",
       "      <td>15335</td>\n",
       "      <td>Gintama Movie: Kanketsu-hen - Yorozuya yo Eien...</td>\n",
       "      <td>Action, Comedy, Historical, Parody, Samurai, S...</td>\n",
       "      <td>Movie</td>\n",
       "      <td>1</td>\n",
       "      <td>9.10</td>\n",
       "      <td>72534</td>\n",
       "    </tr>\n",
       "    <tr>\n",
       "      <th>9</th>\n",
       "      <td>15417</td>\n",
       "      <td>Gintama&amp;#039;: Enchousen</td>\n",
       "      <td>Action, Comedy, Historical, Parody, Samurai, S...</td>\n",
       "      <td>TV</td>\n",
       "      <td>13</td>\n",
       "      <td>9.11</td>\n",
       "      <td>81109</td>\n",
       "    </tr>\n",
       "  </tbody>\n",
       "</table>\n",
       "</div>"
      ],
      "text/plain": [
       "   anime_id                                               name  \\\n",
       "0     32281                                     Kimi no Na wa.   \n",
       "1      5114                   Fullmetal Alchemist: Brotherhood   \n",
       "2     28977                                           Gintama°   \n",
       "3      9253                                        Steins;Gate   \n",
       "4      9969                                      Gintama&#039;   \n",
       "5     32935  Haikyuu!!: Karasuno Koukou VS Shiratorizawa Ga...   \n",
       "6     11061                             Hunter x Hunter (2011)   \n",
       "7       820                               Ginga Eiyuu Densetsu   \n",
       "8     15335  Gintama Movie: Kanketsu-hen - Yorozuya yo Eien...   \n",
       "9     15417                           Gintama&#039;: Enchousen   \n",
       "\n",
       "                                               genre   type episodes  rating  \\\n",
       "0               Drama, Romance, School, Supernatural  Movie        1    9.37   \n",
       "1  Action, Adventure, Drama, Fantasy, Magic, Mili...     TV       64    9.26   \n",
       "2  Action, Comedy, Historical, Parody, Samurai, S...     TV       51    9.25   \n",
       "3                                   Sci-Fi, Thriller     TV       24    9.17   \n",
       "4  Action, Comedy, Historical, Parody, Samurai, S...     TV       51    9.16   \n",
       "5             Comedy, Drama, School, Shounen, Sports     TV       10    9.15   \n",
       "6            Action, Adventure, Shounen, Super Power     TV      148    9.13   \n",
       "7                     Drama, Military, Sci-Fi, Space    OVA      110    9.11   \n",
       "8  Action, Comedy, Historical, Parody, Samurai, S...  Movie        1    9.10   \n",
       "9  Action, Comedy, Historical, Parody, Samurai, S...     TV       13    9.11   \n",
       "\n",
       "   members  \n",
       "0   200630  \n",
       "1   793665  \n",
       "2   114262  \n",
       "3   673572  \n",
       "4   151266  \n",
       "5    93351  \n",
       "6   425855  \n",
       "7    80679  \n",
       "8    72534  \n",
       "9    81109  "
      ]
     },
     "execution_count": 9,
     "metadata": {},
     "output_type": "execute_result"
    }
   ],
   "source": [
    "anime.head(10)  # anime_id - myanimelist.net's unique id identifying an anime.\n",
    "                # name - full name of anime.\n",
    "                # genre - comma separated list of genres for this anime.\n",
    "                # type - movie, TV, OVA, etc.\n",
    "                # episodes - how many episodes in this show. (1 if movie).\n",
    "                # rating - average rating out of 10 for this anime.\n",
    "                # members - number of community members that are in this anime's \"group\"."
   ]
  },
  {
   "cell_type": "code",
   "execution_count": 100,
   "metadata": {},
   "outputs": [
    {
     "name": "stdout",
     "output_type": "stream",
     "text": [
      "<class 'pandas.core.frame.DataFrame'>\n",
      "RangeIndex: 12294 entries, 0 to 12293\n",
      "Data columns (total 7 columns):\n",
      " #   Column    Non-Null Count  Dtype  \n",
      "---  ------    --------------  -----  \n",
      " 0   anime_id  12294 non-null  int64  \n",
      " 1   name      12294 non-null  object \n",
      " 2   genre     12232 non-null  object \n",
      " 3   type      12269 non-null  object \n",
      " 4   episodes  12294 non-null  object \n",
      " 5   rating    12064 non-null  float64\n",
      " 6   members   12294 non-null  int64  \n",
      "dtypes: float64(1), int64(2), object(4)\n",
      "memory usage: 672.5+ KB\n"
     ]
    }
   ],
   "source": [
    "anime.info()"
   ]
  },
  {
   "cell_type": "code",
   "execution_count": 10,
   "metadata": {},
   "outputs": [
    {
     "data": {
      "text/html": [
       "<div>\n",
       "<style scoped>\n",
       "    .dataframe tbody tr th:only-of-type {\n",
       "        vertical-align: middle;\n",
       "    }\n",
       "\n",
       "    .dataframe tbody tr th {\n",
       "        vertical-align: top;\n",
       "    }\n",
       "\n",
       "    .dataframe thead th {\n",
       "        text-align: right;\n",
       "    }\n",
       "</style>\n",
       "<table border=\"1\" class=\"dataframe\">\n",
       "  <thead>\n",
       "    <tr style=\"text-align: right;\">\n",
       "      <th></th>\n",
       "      <th>user_id</th>\n",
       "      <th>anime_id</th>\n",
       "      <th>rating</th>\n",
       "    </tr>\n",
       "  </thead>\n",
       "  <tbody>\n",
       "    <tr>\n",
       "      <th>0</th>\n",
       "      <td>1</td>\n",
       "      <td>20</td>\n",
       "      <td>-1</td>\n",
       "    </tr>\n",
       "    <tr>\n",
       "      <th>1</th>\n",
       "      <td>1</td>\n",
       "      <td>24</td>\n",
       "      <td>-1</td>\n",
       "    </tr>\n",
       "    <tr>\n",
       "      <th>2</th>\n",
       "      <td>1</td>\n",
       "      <td>79</td>\n",
       "      <td>-1</td>\n",
       "    </tr>\n",
       "    <tr>\n",
       "      <th>3</th>\n",
       "      <td>1</td>\n",
       "      <td>226</td>\n",
       "      <td>-1</td>\n",
       "    </tr>\n",
       "    <tr>\n",
       "      <th>4</th>\n",
       "      <td>1</td>\n",
       "      <td>241</td>\n",
       "      <td>-1</td>\n",
       "    </tr>\n",
       "    <tr>\n",
       "      <th>5</th>\n",
       "      <td>1</td>\n",
       "      <td>355</td>\n",
       "      <td>-1</td>\n",
       "    </tr>\n",
       "    <tr>\n",
       "      <th>6</th>\n",
       "      <td>1</td>\n",
       "      <td>356</td>\n",
       "      <td>-1</td>\n",
       "    </tr>\n",
       "    <tr>\n",
       "      <th>7</th>\n",
       "      <td>1</td>\n",
       "      <td>442</td>\n",
       "      <td>-1</td>\n",
       "    </tr>\n",
       "    <tr>\n",
       "      <th>8</th>\n",
       "      <td>1</td>\n",
       "      <td>487</td>\n",
       "      <td>-1</td>\n",
       "    </tr>\n",
       "    <tr>\n",
       "      <th>9</th>\n",
       "      <td>1</td>\n",
       "      <td>846</td>\n",
       "      <td>-1</td>\n",
       "    </tr>\n",
       "  </tbody>\n",
       "</table>\n",
       "</div>"
      ],
      "text/plain": [
       "   user_id  anime_id  rating\n",
       "0        1        20      -1\n",
       "1        1        24      -1\n",
       "2        1        79      -1\n",
       "3        1       226      -1\n",
       "4        1       241      -1\n",
       "5        1       355      -1\n",
       "6        1       356      -1\n",
       "7        1       442      -1\n",
       "8        1       487      -1\n",
       "9        1       846      -1"
      ]
     },
     "execution_count": 10,
     "metadata": {},
     "output_type": "execute_result"
    }
   ],
   "source": [
    " rating.head(10) # user_id - non identifiable randomly generated user id.\n",
    "                 # anime_id - the anime that this user has rated.\n",
    "                 # rating - rating out of 10 this user has assigned (-1 if the user watched it but didn't assign a rating)."
   ]
  },
  {
   "cell_type": "code",
   "execution_count": 27,
   "metadata": {},
   "outputs": [
    {
     "data": {
      "text/plain": [
       "(anime_id      0\n",
       " name          0\n",
       " genre        62\n",
       " type         25\n",
       " episodes      0\n",
       " rating      230\n",
       " members       0\n",
       " dtype: int64,\n",
       " (12294, 7))"
      ]
     },
     "execution_count": 27,
     "metadata": {},
     "output_type": "execute_result"
    }
   ],
   "source": [
    "anime.isnull().sum() , anime.shape # Il y a des lignes null"
   ]
  },
  {
   "cell_type": "code",
   "execution_count": 28,
   "metadata": {},
   "outputs": [
    {
     "data": {
      "text/plain": [
       "(user_id     0\n",
       " anime_id    0\n",
       " rating      0\n",
       " dtype: int64,\n",
       " (7813737, 3))"
      ]
     },
     "execution_count": 28,
     "metadata": {},
     "output_type": "execute_result"
    }
   ],
   "source": [
    "rating.isnull().sum() , rating.shape  #ok"
   ]
  },
  {
   "cell_type": "code",
   "execution_count": 40,
   "metadata": {},
   "outputs": [
    {
     "data": {
      "text/plain": [
       "((12017, 7),\n",
       " anime_id    0\n",
       " name        0\n",
       " genre       0\n",
       " type        0\n",
       " episodes    0\n",
       " rating      0\n",
       " members     0\n",
       " dtype: int64)"
      ]
     },
     "execution_count": 40,
     "metadata": {},
     "output_type": "execute_result"
    }
   ],
   "source": [
    "# max 317 lignes null sur 12294 --> on enlève (Possible de mettre la médiane/moyenne pour rating à la limite)\n",
    "anime_notNull = anime[~anime.isnull().any(axis=1)]\n",
    "anime_notNull.shape , anime_notNull.isnull().sum()"
   ]
  },
  {
   "cell_type": "code",
   "execution_count": 41,
   "metadata": {},
   "outputs": [
    {
     "data": {
      "text/html": [
       "<div>\n",
       "<style scoped>\n",
       "    .dataframe tbody tr th:only-of-type {\n",
       "        vertical-align: middle;\n",
       "    }\n",
       "\n",
       "    .dataframe tbody tr th {\n",
       "        vertical-align: top;\n",
       "    }\n",
       "\n",
       "    .dataframe thead th {\n",
       "        text-align: right;\n",
       "    }\n",
       "</style>\n",
       "<table border=\"1\" class=\"dataframe\">\n",
       "  <thead>\n",
       "    <tr style=\"text-align: right;\">\n",
       "      <th></th>\n",
       "      <th>anime_id</th>\n",
       "      <th>name</th>\n",
       "      <th>genre</th>\n",
       "      <th>type</th>\n",
       "      <th>episodes</th>\n",
       "      <th>rating</th>\n",
       "      <th>members</th>\n",
       "    </tr>\n",
       "  </thead>\n",
       "  <tbody>\n",
       "    <tr>\n",
       "      <th>count</th>\n",
       "      <td>12017.000000</td>\n",
       "      <td>12017</td>\n",
       "      <td>12017</td>\n",
       "      <td>12017</td>\n",
       "      <td>12017</td>\n",
       "      <td>12017.000000</td>\n",
       "      <td>1.201700e+04</td>\n",
       "    </tr>\n",
       "    <tr>\n",
       "      <th>unique</th>\n",
       "      <td>NaN</td>\n",
       "      <td>12015</td>\n",
       "      <td>3229</td>\n",
       "      <td>6</td>\n",
       "      <td>187</td>\n",
       "      <td>NaN</td>\n",
       "      <td>NaN</td>\n",
       "    </tr>\n",
       "    <tr>\n",
       "      <th>top</th>\n",
       "      <td>NaN</td>\n",
       "      <td>Shi Wan Ge Leng Xiaohua</td>\n",
       "      <td>Hentai</td>\n",
       "      <td>TV</td>\n",
       "      <td>1</td>\n",
       "      <td>NaN</td>\n",
       "      <td>NaN</td>\n",
       "    </tr>\n",
       "    <tr>\n",
       "      <th>freq</th>\n",
       "      <td>NaN</td>\n",
       "      <td>2</td>\n",
       "      <td>816</td>\n",
       "      <td>3668</td>\n",
       "      <td>5571</td>\n",
       "      <td>NaN</td>\n",
       "      <td>NaN</td>\n",
       "    </tr>\n",
       "    <tr>\n",
       "      <th>mean</th>\n",
       "      <td>13638.001165</td>\n",
       "      <td>NaN</td>\n",
       "      <td>NaN</td>\n",
       "      <td>NaN</td>\n",
       "      <td>NaN</td>\n",
       "      <td>6.478264</td>\n",
       "      <td>1.834888e+04</td>\n",
       "    </tr>\n",
       "    <tr>\n",
       "      <th>std</th>\n",
       "      <td>11231.076675</td>\n",
       "      <td>NaN</td>\n",
       "      <td>NaN</td>\n",
       "      <td>NaN</td>\n",
       "      <td>NaN</td>\n",
       "      <td>1.023857</td>\n",
       "      <td>5.537250e+04</td>\n",
       "    </tr>\n",
       "    <tr>\n",
       "      <th>min</th>\n",
       "      <td>1.000000</td>\n",
       "      <td>NaN</td>\n",
       "      <td>NaN</td>\n",
       "      <td>NaN</td>\n",
       "      <td>NaN</td>\n",
       "      <td>1.670000</td>\n",
       "      <td>1.200000e+01</td>\n",
       "    </tr>\n",
       "    <tr>\n",
       "      <th>25%</th>\n",
       "      <td>3391.000000</td>\n",
       "      <td>NaN</td>\n",
       "      <td>NaN</td>\n",
       "      <td>NaN</td>\n",
       "      <td>NaN</td>\n",
       "      <td>5.890000</td>\n",
       "      <td>2.250000e+02</td>\n",
       "    </tr>\n",
       "    <tr>\n",
       "      <th>50%</th>\n",
       "      <td>9959.000000</td>\n",
       "      <td>NaN</td>\n",
       "      <td>NaN</td>\n",
       "      <td>NaN</td>\n",
       "      <td>NaN</td>\n",
       "      <td>6.570000</td>\n",
       "      <td>1.552000e+03</td>\n",
       "    </tr>\n",
       "    <tr>\n",
       "      <th>75%</th>\n",
       "      <td>23729.000000</td>\n",
       "      <td>NaN</td>\n",
       "      <td>NaN</td>\n",
       "      <td>NaN</td>\n",
       "      <td>NaN</td>\n",
       "      <td>7.180000</td>\n",
       "      <td>9.588000e+03</td>\n",
       "    </tr>\n",
       "    <tr>\n",
       "      <th>max</th>\n",
       "      <td>34519.000000</td>\n",
       "      <td>NaN</td>\n",
       "      <td>NaN</td>\n",
       "      <td>NaN</td>\n",
       "      <td>NaN</td>\n",
       "      <td>10.000000</td>\n",
       "      <td>1.013917e+06</td>\n",
       "    </tr>\n",
       "  </tbody>\n",
       "</table>\n",
       "</div>"
      ],
      "text/plain": [
       "            anime_id                     name   genre   type episodes  \\\n",
       "count   12017.000000                    12017   12017  12017    12017   \n",
       "unique           NaN                    12015    3229      6      187   \n",
       "top              NaN  Shi Wan Ge Leng Xiaohua  Hentai     TV        1   \n",
       "freq             NaN                        2     816   3668     5571   \n",
       "mean    13638.001165                      NaN     NaN    NaN      NaN   \n",
       "std     11231.076675                      NaN     NaN    NaN      NaN   \n",
       "min         1.000000                      NaN     NaN    NaN      NaN   \n",
       "25%      3391.000000                      NaN     NaN    NaN      NaN   \n",
       "50%      9959.000000                      NaN     NaN    NaN      NaN   \n",
       "75%     23729.000000                      NaN     NaN    NaN      NaN   \n",
       "max     34519.000000                      NaN     NaN    NaN      NaN   \n",
       "\n",
       "              rating       members  \n",
       "count   12017.000000  1.201700e+04  \n",
       "unique           NaN           NaN  \n",
       "top              NaN           NaN  \n",
       "freq             NaN           NaN  \n",
       "mean        6.478264  1.834888e+04  \n",
       "std         1.023857  5.537250e+04  \n",
       "min         1.670000  1.200000e+01  \n",
       "25%         5.890000  2.250000e+02  \n",
       "50%         6.570000  1.552000e+03  \n",
       "75%         7.180000  9.588000e+03  \n",
       "max        10.000000  1.013917e+06  "
      ]
     },
     "execution_count": 41,
     "metadata": {},
     "output_type": "execute_result"
    }
   ],
   "source": [
    "anime_notNull.describe(include = 'all')"
   ]
  },
  {
   "cell_type": "code",
   "execution_count": 42,
   "metadata": {},
   "outputs": [
    {
     "data": {
      "text/html": [
       "<div>\n",
       "<style scoped>\n",
       "    .dataframe tbody tr th:only-of-type {\n",
       "        vertical-align: middle;\n",
       "    }\n",
       "\n",
       "    .dataframe tbody tr th {\n",
       "        vertical-align: top;\n",
       "    }\n",
       "\n",
       "    .dataframe thead th {\n",
       "        text-align: right;\n",
       "    }\n",
       "</style>\n",
       "<table border=\"1\" class=\"dataframe\">\n",
       "  <thead>\n",
       "    <tr style=\"text-align: right;\">\n",
       "      <th></th>\n",
       "      <th>user_id</th>\n",
       "      <th>anime_id</th>\n",
       "      <th>rating</th>\n",
       "    </tr>\n",
       "  </thead>\n",
       "  <tbody>\n",
       "    <tr>\n",
       "      <th>count</th>\n",
       "      <td>7.813737e+06</td>\n",
       "      <td>7.813737e+06</td>\n",
       "      <td>7.813737e+06</td>\n",
       "    </tr>\n",
       "    <tr>\n",
       "      <th>mean</th>\n",
       "      <td>3.672796e+04</td>\n",
       "      <td>8.909072e+03</td>\n",
       "      <td>6.144030e+00</td>\n",
       "    </tr>\n",
       "    <tr>\n",
       "      <th>std</th>\n",
       "      <td>2.099795e+04</td>\n",
       "      <td>8.883950e+03</td>\n",
       "      <td>3.727800e+00</td>\n",
       "    </tr>\n",
       "    <tr>\n",
       "      <th>min</th>\n",
       "      <td>1.000000e+00</td>\n",
       "      <td>1.000000e+00</td>\n",
       "      <td>-1.000000e+00</td>\n",
       "    </tr>\n",
       "    <tr>\n",
       "      <th>25%</th>\n",
       "      <td>1.897400e+04</td>\n",
       "      <td>1.240000e+03</td>\n",
       "      <td>6.000000e+00</td>\n",
       "    </tr>\n",
       "    <tr>\n",
       "      <th>50%</th>\n",
       "      <td>3.679100e+04</td>\n",
       "      <td>6.213000e+03</td>\n",
       "      <td>7.000000e+00</td>\n",
       "    </tr>\n",
       "    <tr>\n",
       "      <th>75%</th>\n",
       "      <td>5.475700e+04</td>\n",
       "      <td>1.409300e+04</td>\n",
       "      <td>9.000000e+00</td>\n",
       "    </tr>\n",
       "    <tr>\n",
       "      <th>max</th>\n",
       "      <td>7.351600e+04</td>\n",
       "      <td>3.451900e+04</td>\n",
       "      <td>1.000000e+01</td>\n",
       "    </tr>\n",
       "  </tbody>\n",
       "</table>\n",
       "</div>"
      ],
      "text/plain": [
       "            user_id      anime_id        rating\n",
       "count  7.813737e+06  7.813737e+06  7.813737e+06\n",
       "mean   3.672796e+04  8.909072e+03  6.144030e+00\n",
       "std    2.099795e+04  8.883950e+03  3.727800e+00\n",
       "min    1.000000e+00  1.000000e+00 -1.000000e+00\n",
       "25%    1.897400e+04  1.240000e+03  6.000000e+00\n",
       "50%    3.679100e+04  6.213000e+03  7.000000e+00\n",
       "75%    5.475700e+04  1.409300e+04  9.000000e+00\n",
       "max    7.351600e+04  3.451900e+04  1.000000e+01"
      ]
     },
     "execution_count": 42,
     "metadata": {},
     "output_type": "execute_result"
    }
   ],
   "source": [
    "rating.describe(include = 'all')"
   ]
  },
  {
   "cell_type": "code",
   "execution_count": 45,
   "metadata": {},
   "outputs": [
    {
     "data": {
      "text/html": [
       "<div>\n",
       "<style scoped>\n",
       "    .dataframe tbody tr th:only-of-type {\n",
       "        vertical-align: middle;\n",
       "    }\n",
       "\n",
       "    .dataframe tbody tr th {\n",
       "        vertical-align: top;\n",
       "    }\n",
       "\n",
       "    .dataframe thead th {\n",
       "        text-align: right;\n",
       "    }\n",
       "</style>\n",
       "<table border=\"1\" class=\"dataframe\">\n",
       "  <thead>\n",
       "    <tr style=\"text-align: right;\">\n",
       "      <th></th>\n",
       "      <th>anime_id</th>\n",
       "      <th>name</th>\n",
       "      <th>genre</th>\n",
       "      <th>type</th>\n",
       "      <th>episodes</th>\n",
       "      <th>rating</th>\n",
       "      <th>members</th>\n",
       "    </tr>\n",
       "  </thead>\n",
       "  <tbody>\n",
       "  </tbody>\n",
       "</table>\n",
       "</div>"
      ],
      "text/plain": [
       "Empty DataFrame\n",
       "Columns: [anime_id, name, genre, type, episodes, rating, members]\n",
       "Index: []"
      ]
     },
     "execution_count": 45,
     "metadata": {},
     "output_type": "execute_result"
    }
   ],
   "source": [
    "anime_notNull[anime_notNull.duplicated(subset=['anime_id'],keep=False)] #Pas de duplicatat "
   ]
  },
  {
   "cell_type": "code",
   "execution_count": 47,
   "metadata": {},
   "outputs": [
    {
     "data": {
      "text/plain": [
       "array(['Movie', 'TV', 'OVA', 'Special', 'Music', 'ONA'], dtype=object)"
      ]
     },
     "execution_count": 47,
     "metadata": {},
     "output_type": "execute_result"
    }
   ],
   "source": [
    "types = (anime_notNull['type']).unique()\n",
    "types"
   ]
  },
  {
   "cell_type": "code",
   "execution_count": 48,
   "metadata": {},
   "outputs": [
    {
     "data": {
      "text/plain": [
       "array([ 9.37,  9.26,  9.25,  9.17,  9.16,  9.15,  9.13,  9.11,  9.1 ,\n",
       "        9.06,  9.05,  9.04,  8.98,  8.93,  8.92,  8.88,  8.84,  8.83,\n",
       "        8.82,  8.81,  8.8 ,  8.78,  8.77,  8.76,  8.75,  8.74,  8.73,\n",
       "        8.72,  8.71,  8.69,  8.68,  8.67,  8.66,  8.65,  8.64,  8.62,\n",
       "        8.61,  8.6 ,  8.59,  8.58,  8.57,  8.56,  8.55,  8.54,  8.53,\n",
       "        8.52,  8.51,  8.5 ,  8.49,  8.48,  8.47,  8.46,  8.45,  8.44,\n",
       "        8.43,  8.42,  8.41,  8.4 ,  8.39,  8.38,  8.37,  8.36,  8.35,\n",
       "        8.34,  8.33,  8.32,  8.31,  8.3 ,  8.29,  8.28,  8.27,  8.26,\n",
       "        8.25,  8.24,  8.23,  8.22,  8.21,  8.2 ,  8.19,  8.18,  8.17,\n",
       "        8.16,  8.15,  8.14,  8.13,  8.12,  8.11,  8.1 ,  8.09,  8.08,\n",
       "        8.07,  8.06,  8.05,  8.04,  8.03,  8.02,  8.01,  8.  ,  7.99,\n",
       "        7.98,  7.97,  7.96,  7.95,  7.94,  7.93,  7.92,  7.91,  7.9 ,\n",
       "        7.89,  7.88,  7.87,  7.86,  7.85,  7.84,  7.83,  7.82,  7.81,\n",
       "        7.8 ,  7.79,  7.78,  7.77,  7.76,  7.75,  7.74,  7.73,  7.72,\n",
       "        7.71,  7.7 ,  7.69,  7.68,  7.67,  7.66,  7.65,  7.64,  7.63,\n",
       "        7.62,  7.61,  7.6 ,  7.59,  7.58,  7.57,  7.56,  7.55,  7.54,\n",
       "        7.53,  7.52,  7.51,  7.5 ,  7.49,  7.48,  7.47,  7.46,  7.45,\n",
       "        7.44,  7.43,  7.42,  7.41,  7.4 ,  7.39,  7.38,  7.37,  7.36,\n",
       "        7.35,  7.34,  7.33,  7.32,  7.31,  7.3 ,  7.29,  7.28,  7.27,\n",
       "        7.25,  7.26,  7.24,  7.23,  7.22,  7.21,  7.2 ,  7.19,  7.18,\n",
       "        7.17,  7.16,  7.14,  7.15,  7.13,  7.12,  7.11,  7.1 ,  7.09,\n",
       "        7.08,  7.07,  7.06,  7.05,  7.04,  7.03,  7.02,  7.01,  7.  ,\n",
       "        6.99,  6.98,  6.97,  6.96,  6.95,  6.94,  6.93,  6.92,  6.91,\n",
       "        6.9 ,  6.89,  6.88,  6.87,  6.86,  6.85,  6.84,  6.83,  6.82,\n",
       "        6.81,  6.8 ,  6.79,  6.78,  6.75,  6.77,  6.76,  6.74,  6.73,\n",
       "        6.72,  6.71,  6.7 ,  6.69,  6.68,  6.67,  6.66,  6.65,  6.64,\n",
       "        6.63,  6.62,  6.61,  6.6 ,  6.59,  6.58,  6.57,  6.56,  6.55,\n",
       "        6.54,  6.53,  6.52,  6.51,  6.47,  6.5 ,  6.49,  6.48,  6.46,\n",
       "        6.45,  6.42,  6.44,  6.43,  6.39,  6.41,  6.4 ,  6.38,  6.37,\n",
       "        6.35,  6.36,  6.34,  6.33,  6.32,  6.31,  6.3 ,  6.29,  6.28,\n",
       "        6.27,  6.26,  6.25,  6.22,  6.24,  6.23,  6.21,  6.2 ,  6.19,\n",
       "        6.18,  6.17,  6.16,  6.15,  6.14,  6.13,  6.12,  6.1 ,  6.11,\n",
       "        6.09,  6.08,  6.06,  6.07,  6.05,  6.04,  6.03,  6.01,  6.02,\n",
       "        6.  ,  5.99,  5.98,  5.97,  5.96,  5.95,  5.94,  5.93,  5.92,\n",
       "        5.91,  5.89,  5.9 ,  5.88,  5.87,  5.86,  5.85,  5.84,  5.83,\n",
       "        5.82,  5.81,  5.8 ,  5.79,  5.78,  5.77,  5.76,  5.75,  5.74,\n",
       "        5.73,  5.72,  5.7 ,  5.71,  5.69,  5.68,  5.67,  5.66,  5.65,\n",
       "        5.64,  5.63,  5.62,  5.61,  5.6 ,  5.59,  5.58,  5.57,  5.56,\n",
       "        5.55,  5.53,  5.54,  5.52,  5.51,  5.5 ,  5.49,  5.48,  5.46,\n",
       "        5.47,  5.45,  5.44,  5.43,  5.42,  5.41,  5.4 ,  5.39,  5.38,\n",
       "        5.37,  5.36,  5.35,  5.34,  5.33,  5.32,  5.31,  5.3 ,  5.29,\n",
       "        5.28,  5.27,  5.26,  5.24,  5.25,  5.23,  5.22,  5.21,  5.2 ,\n",
       "        5.19,  5.14,  5.18,  5.17,  5.16,  5.15,  5.13,  5.11,  5.12,\n",
       "        5.1 ,  5.09,  5.07,  5.08,  5.06,  5.04,  5.05,  5.03,  5.02,\n",
       "        5.01,  5.  ,  4.99,  4.98,  4.97,  4.96,  4.95,  4.94,  4.93,\n",
       "        4.92,  4.91,  4.9 ,  4.89,  4.88,  4.84,  4.87,  4.86,  4.85,\n",
       "        4.83,  4.82,  4.81,  4.8 ,  4.79,  4.78,  4.77,  4.76,  4.75,\n",
       "        4.74,  4.73,  4.72,  4.71,  4.7 ,  4.69,  4.68,  4.66,  4.67,\n",
       "        4.65,  4.64,  4.63,  4.62,  4.6 ,  4.59,  4.58,  4.57,  4.56,\n",
       "        4.55,  4.54,  4.53,  4.52,  4.49,  4.5 ,  4.48,  4.46,  4.45,\n",
       "        4.44,  4.43,  4.42,  4.4 ,  4.39,  4.38,  4.36,  4.35,  4.34,\n",
       "        4.32,  4.31,  4.3 ,  4.28,  4.27,  4.26,  4.25,  4.24,  4.23,\n",
       "        4.22,  4.21,  4.19,  4.17,  4.16,  4.15,  4.11,  4.08,  4.04,\n",
       "        4.03,  4.02,  4.  ,  3.99,  3.98,  3.96,  3.91,  3.9 ,  3.88,\n",
       "        3.87,  3.86,  3.84,  3.83,  3.82,  3.8 ,  3.78,  3.76,  3.75,\n",
       "        3.74,  3.73,  3.71,  3.7 ,  3.68,  3.65,  3.63,  3.62,  3.6 ,\n",
       "        3.58,  3.59,  3.56,  3.47,  3.46,  3.41,  3.36,  3.33,  3.32,\n",
       "        3.27,  2.95,  2.93,  2.78,  2.67,  2.37,  2.14,  2.  ,  4.06,\n",
       "        4.18,  4.09,  3.67,  3.  ,  4.33,  3.89,  4.2 ,  3.61,  4.13,\n",
       "        3.11,  2.58,  4.29,  3.43,  3.57,  4.05,  4.51,  3.4 ,  3.79,\n",
       "        3.81,  3.92,  3.48,  3.38,  3.95,  4.61,  3.34,  3.02,  2.69,\n",
       "        3.5 ,  3.97,  3.85,  3.77,  3.53,  9.33,  4.14,  4.12,  3.2 ,\n",
       "        3.93,  3.52,  2.55,  9.  ,  2.97,  4.1 ,  3.39,  3.17,  9.5 ,\n",
       "        3.25,  2.8 ,  2.91,  2.75,  4.41,  3.72,  3.94,  1.67,  4.37,\n",
       "        3.69,  3.26,  3.49,  2.49,  2.84,  4.07,  3.35,  3.54,  3.21,\n",
       "        3.42,  9.6 ,  3.28, 10.  ,  3.51,  3.29,  3.64,  2.72,  2.98,\n",
       "        3.44,  1.92,  2.86,  3.14])"
      ]
     },
     "execution_count": 48,
     "metadata": {},
     "output_type": "execute_result"
    }
   ],
   "source": [
    "rating = (anime_notNull['rating']).unique()\n",
    "rating"
   ]
  },
  {
   "cell_type": "code",
   "execution_count": 49,
   "metadata": {},
   "outputs": [
    {
     "data": {
      "text/plain": [
       "array(['1', '64', '51', '24', '10', '148', '110', '13', '201', '25', '22',\n",
       "       '75', '4', '26', '12', '27', '43', '74', '37', '2', '11', '99',\n",
       "       'Unknown', '39', '101', '47', '50', '62', '33', '112', '23', '3',\n",
       "       '94', '6', '8', '14', '7', '40', '15', '203', '77', '291', '120',\n",
       "       '102', '96', '38', '79', '175', '103', '70', '153', '45', '5',\n",
       "       '21', '63', '52', '28', '145', '36', '69', '60', '178', '114',\n",
       "       '35', '61', '34', '109', '20', '9', '49', '366', '97', '48', '78',\n",
       "       '358', '155', '104', '113', '54', '167', '161', '42', '142', '31',\n",
       "       '373', '220', '46', '195', '17', '1787', '73', '147', '127', '16',\n",
       "       '19', '98', '150', '76', '53', '124', '29', '115', '224', '44',\n",
       "       '58', '93', '154', '92', '67', '172', '86', '30', '276', '59',\n",
       "       '72', '330', '41', '105', '128', '137', '56', '55', '65', '243',\n",
       "       '193', '18', '191', '180', '91', '192', '66', '182', '32', '164',\n",
       "       '100', '296', '694', '95', '68', '117', '151', '130', '87', '170',\n",
       "       '119', '84', '108', '156', '140', '331', '305', '300', '510',\n",
       "       '200', '88', '1471', '526', '143', '726', '136', '1818', '237',\n",
       "       '1428', '365', '163', '283', '71', '260', '199', '225', '312',\n",
       "       '240', '1306', '1565', '773', '1274', '90', '475', '263', '83',\n",
       "       '85', '1006', '80', '162', '132', '141', '125'], dtype=object)"
      ]
     },
     "execution_count": 49,
     "metadata": {},
     "output_type": "execute_result"
    }
   ],
   "source": [
    "episodes = (anime_notNull['episodes']).unique()  #Il y a encore des valeurs penibles --> Unknown\n",
    "episodes "
   ]
  },
  {
   "cell_type": "code",
   "execution_count": 58,
   "metadata": {},
   "outputs": [
    {
     "data": {
      "text/plain": [
       "anime_id    187\n",
       "name        187\n",
       "genre       187\n",
       "type        187\n",
       "episodes    187\n",
       "rating      187\n",
       "members     187\n",
       "dtype: int64"
      ]
     },
     "execution_count": 58,
     "metadata": {},
     "output_type": "execute_result"
    }
   ],
   "source": [
    "anime_notNull[anime_notNull['episodes']=='Unknown'].count() #187 lignes à virer plus tard ?"
   ]
  },
  {
   "cell_type": "code",
   "execution_count": 75,
   "metadata": {},
   "outputs": [
    {
     "data": {
      "text/plain": [
       "(array([     12,      13,      17, ...,  893100,  896229, 1013917],\n",
       "       dtype=int64),\n",
       " 1013917,\n",
       " 12)"
      ]
     },
     "execution_count": 75,
     "metadata": {},
     "output_type": "execute_result"
    }
   ],
   "source": [
    "members = (anime_notNull['members']).unique()\n",
    "np.sort(members) , members.max(), members.min()"
   ]
  },
  {
   "cell_type": "code",
   "execution_count": 133,
   "metadata": {},
   "outputs": [
    {
     "data": {
      "text/plain": [
       "((43,),\n",
       " array(['Action', 'Adventure', 'Cars', 'Comedy', 'Dementia', 'Demons',\n",
       "        'Drama', 'Ecchi', 'Fantasy', 'Game', 'Harem', 'Hentai',\n",
       "        'Historical', 'Horror', 'Josei', 'Kids', 'Magic', 'Martial Arts',\n",
       "        'Mecha', 'Military', 'Music', 'Mystery', 'Parody', 'Police',\n",
       "        'Psychological', 'Romance', 'Samurai', 'School', 'Sci-Fi',\n",
       "        'Seinen', 'Shoujo', 'Shoujo Ai', 'Shounen', 'Shounen Ai',\n",
       "        'Slice of Life', 'Space', 'Sports', 'Super Power', 'Supernatural',\n",
       "        'Thriller', 'Vampire', 'Yaoi', 'Yuri'], dtype='<U13'))"
      ]
     },
     "execution_count": 133,
     "metadata": {},
     "output_type": "execute_result"
    }
   ],
   "source": [
    "genreList = [] \n",
    "for csv in anime_notNull['genre'].unique():  #Grosse niaiserie, à changer en calcul matriciel si possible\n",
    "    for g in csv.split(', '):\n",
    "        genreList.append(g)\n",
    "genre = np.unique(np.asarray(genreList))\n",
    "genre.shape ,genre  # A encoder en one-hot ou truc du genre ? \n",
    "                    # Pour pouvoir comparer efficacement ?"
   ]
  },
  {
   "cell_type": "code",
   "execution_count": null,
   "metadata": {},
   "outputs": [],
   "source": [
    "# La colonne name ne semble servir à rien pour l'apprentissage, à peu de chose près un C+V de anime_id\n",
    "# Probablement nécessaire de joindre les deux Dataframmes en un seul"
   ]
  },
  {
   "cell_type": "code",
   "execution_count": null,
   "metadata": {},
   "outputs": [],
   "source": []
  }
 ],
 "metadata": {
  "kernelspec": {
   "display_name": "Python 3",
   "language": "python",
   "name": "python3"
  },
  "language_info": {
   "codemirror_mode": {
    "name": "ipython",
    "version": 3
   },
   "file_extension": ".py",
   "mimetype": "text/x-python",
   "name": "python",
   "nbconvert_exporter": "python",
   "pygments_lexer": "ipython3",
   "version": "3.8.5"
  }
 },
 "nbformat": 4,
 "nbformat_minor": 4
}
