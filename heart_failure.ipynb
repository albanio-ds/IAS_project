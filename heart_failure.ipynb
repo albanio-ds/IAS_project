{
 "cells": [
  {
   "cell_type": "code",
   "execution_count": 100,
   "metadata": {},
   "outputs": [],
   "source": [
    "import numpy as np\n",
    "import matplotlib.pyplot as plt\n",
    "import pandas as pd\n",
    "import seaborn as sns\n",
    "from sklearn.model_selection import train_test_split\n",
    "\n",
    "from sklearn.linear_model import SGDClassifier\n",
    "from sklearn.model_selection import cross_val_score\n",
    "from sklearn.model_selection import KFold\n",
    "'''\n",
    "sujet: [classification] Déterminer si une personne atteintes de maladies cardiovasculaire  va  \n",
    "mourir ou pas en fonction de ses antécédent (fumeur ou pas, diabète ou pas, hyper-tension ou pas...)\n",
    "\n",
    "'time' très corrélé avec 'DEATH_EVENT' => a supprimer \n",
    "\n",
    "11 features => 2 labels : DEAD / SURVIVE\n",
    "'''\n",
    "\n",
    "dataset = pd.read_csv('heart_failure_clinical_records_dataset.csv')\n"
   ]
  },
  {
   "cell_type": "code",
   "execution_count": 101,
   "metadata": {},
   "outputs": [
    {
     "data": {
      "text/plain": [
       "Index(['age', 'anaemia', 'creatinine_phosphokinase', 'diabetes',\n",
       "       'ejection_fraction', 'high_blood_pressure', 'platelets',\n",
       "       'serum_creatinine', 'serum_sodium', 'sex', 'smoking', 'time',\n",
       "       'DEATH_EVENT'],\n",
       "      dtype='object')"
      ]
     },
     "execution_count": 101,
     "metadata": {},
     "output_type": "execute_result"
    }
   ],
   "source": [
    "dataset.columns"
   ]
  },
  {
   "cell_type": "code",
   "execution_count": 102,
   "metadata": {},
   "outputs": [
    {
     "data": {
      "text/html": [
       "<div>\n",
       "<style scoped>\n",
       "    .dataframe tbody tr th:only-of-type {\n",
       "        vertical-align: middle;\n",
       "    }\n",
       "\n",
       "    .dataframe tbody tr th {\n",
       "        vertical-align: top;\n",
       "    }\n",
       "\n",
       "    .dataframe thead th {\n",
       "        text-align: right;\n",
       "    }\n",
       "</style>\n",
       "<table border=\"1\" class=\"dataframe\">\n",
       "  <thead>\n",
       "    <tr style=\"text-align: right;\">\n",
       "      <th></th>\n",
       "      <th>age</th>\n",
       "      <th>anaemia</th>\n",
       "      <th>creatinine_phosphokinase</th>\n",
       "      <th>diabetes</th>\n",
       "      <th>ejection_fraction</th>\n",
       "      <th>high_blood_pressure</th>\n",
       "      <th>platelets</th>\n",
       "      <th>serum_creatinine</th>\n",
       "      <th>serum_sodium</th>\n",
       "      <th>sex</th>\n",
       "      <th>smoking</th>\n",
       "      <th>time</th>\n",
       "      <th>DEATH_EVENT</th>\n",
       "    </tr>\n",
       "  </thead>\n",
       "  <tbody>\n",
       "    <tr>\n",
       "      <th>0</th>\n",
       "      <td>75.0</td>\n",
       "      <td>0</td>\n",
       "      <td>582</td>\n",
       "      <td>0</td>\n",
       "      <td>20</td>\n",
       "      <td>1</td>\n",
       "      <td>265000.00</td>\n",
       "      <td>1.9</td>\n",
       "      <td>130</td>\n",
       "      <td>1</td>\n",
       "      <td>0</td>\n",
       "      <td>4</td>\n",
       "      <td>1</td>\n",
       "    </tr>\n",
       "    <tr>\n",
       "      <th>1</th>\n",
       "      <td>55.0</td>\n",
       "      <td>0</td>\n",
       "      <td>7861</td>\n",
       "      <td>0</td>\n",
       "      <td>38</td>\n",
       "      <td>0</td>\n",
       "      <td>263358.03</td>\n",
       "      <td>1.1</td>\n",
       "      <td>136</td>\n",
       "      <td>1</td>\n",
       "      <td>0</td>\n",
       "      <td>6</td>\n",
       "      <td>1</td>\n",
       "    </tr>\n",
       "    <tr>\n",
       "      <th>2</th>\n",
       "      <td>65.0</td>\n",
       "      <td>0</td>\n",
       "      <td>146</td>\n",
       "      <td>0</td>\n",
       "      <td>20</td>\n",
       "      <td>0</td>\n",
       "      <td>162000.00</td>\n",
       "      <td>1.3</td>\n",
       "      <td>129</td>\n",
       "      <td>1</td>\n",
       "      <td>1</td>\n",
       "      <td>7</td>\n",
       "      <td>1</td>\n",
       "    </tr>\n",
       "    <tr>\n",
       "      <th>3</th>\n",
       "      <td>50.0</td>\n",
       "      <td>1</td>\n",
       "      <td>111</td>\n",
       "      <td>0</td>\n",
       "      <td>20</td>\n",
       "      <td>0</td>\n",
       "      <td>210000.00</td>\n",
       "      <td>1.9</td>\n",
       "      <td>137</td>\n",
       "      <td>1</td>\n",
       "      <td>0</td>\n",
       "      <td>7</td>\n",
       "      <td>1</td>\n",
       "    </tr>\n",
       "    <tr>\n",
       "      <th>4</th>\n",
       "      <td>65.0</td>\n",
       "      <td>1</td>\n",
       "      <td>160</td>\n",
       "      <td>1</td>\n",
       "      <td>20</td>\n",
       "      <td>0</td>\n",
       "      <td>327000.00</td>\n",
       "      <td>2.7</td>\n",
       "      <td>116</td>\n",
       "      <td>0</td>\n",
       "      <td>0</td>\n",
       "      <td>8</td>\n",
       "      <td>1</td>\n",
       "    </tr>\n",
       "    <tr>\n",
       "      <th>...</th>\n",
       "      <td>...</td>\n",
       "      <td>...</td>\n",
       "      <td>...</td>\n",
       "      <td>...</td>\n",
       "      <td>...</td>\n",
       "      <td>...</td>\n",
       "      <td>...</td>\n",
       "      <td>...</td>\n",
       "      <td>...</td>\n",
       "      <td>...</td>\n",
       "      <td>...</td>\n",
       "      <td>...</td>\n",
       "      <td>...</td>\n",
       "    </tr>\n",
       "    <tr>\n",
       "      <th>294</th>\n",
       "      <td>62.0</td>\n",
       "      <td>0</td>\n",
       "      <td>61</td>\n",
       "      <td>1</td>\n",
       "      <td>38</td>\n",
       "      <td>1</td>\n",
       "      <td>155000.00</td>\n",
       "      <td>1.1</td>\n",
       "      <td>143</td>\n",
       "      <td>1</td>\n",
       "      <td>1</td>\n",
       "      <td>270</td>\n",
       "      <td>0</td>\n",
       "    </tr>\n",
       "    <tr>\n",
       "      <th>295</th>\n",
       "      <td>55.0</td>\n",
       "      <td>0</td>\n",
       "      <td>1820</td>\n",
       "      <td>0</td>\n",
       "      <td>38</td>\n",
       "      <td>0</td>\n",
       "      <td>270000.00</td>\n",
       "      <td>1.2</td>\n",
       "      <td>139</td>\n",
       "      <td>0</td>\n",
       "      <td>0</td>\n",
       "      <td>271</td>\n",
       "      <td>0</td>\n",
       "    </tr>\n",
       "    <tr>\n",
       "      <th>296</th>\n",
       "      <td>45.0</td>\n",
       "      <td>0</td>\n",
       "      <td>2060</td>\n",
       "      <td>1</td>\n",
       "      <td>60</td>\n",
       "      <td>0</td>\n",
       "      <td>742000.00</td>\n",
       "      <td>0.8</td>\n",
       "      <td>138</td>\n",
       "      <td>0</td>\n",
       "      <td>0</td>\n",
       "      <td>278</td>\n",
       "      <td>0</td>\n",
       "    </tr>\n",
       "    <tr>\n",
       "      <th>297</th>\n",
       "      <td>45.0</td>\n",
       "      <td>0</td>\n",
       "      <td>2413</td>\n",
       "      <td>0</td>\n",
       "      <td>38</td>\n",
       "      <td>0</td>\n",
       "      <td>140000.00</td>\n",
       "      <td>1.4</td>\n",
       "      <td>140</td>\n",
       "      <td>1</td>\n",
       "      <td>1</td>\n",
       "      <td>280</td>\n",
       "      <td>0</td>\n",
       "    </tr>\n",
       "    <tr>\n",
       "      <th>298</th>\n",
       "      <td>50.0</td>\n",
       "      <td>0</td>\n",
       "      <td>196</td>\n",
       "      <td>0</td>\n",
       "      <td>45</td>\n",
       "      <td>0</td>\n",
       "      <td>395000.00</td>\n",
       "      <td>1.6</td>\n",
       "      <td>136</td>\n",
       "      <td>1</td>\n",
       "      <td>1</td>\n",
       "      <td>285</td>\n",
       "      <td>0</td>\n",
       "    </tr>\n",
       "  </tbody>\n",
       "</table>\n",
       "<p>299 rows × 13 columns</p>\n",
       "</div>"
      ],
      "text/plain": [
       "      age  anaemia  creatinine_phosphokinase  diabetes  ejection_fraction  \\\n",
       "0    75.0        0                       582         0                 20   \n",
       "1    55.0        0                      7861         0                 38   \n",
       "2    65.0        0                       146         0                 20   \n",
       "3    50.0        1                       111         0                 20   \n",
       "4    65.0        1                       160         1                 20   \n",
       "..    ...      ...                       ...       ...                ...   \n",
       "294  62.0        0                        61         1                 38   \n",
       "295  55.0        0                      1820         0                 38   \n",
       "296  45.0        0                      2060         1                 60   \n",
       "297  45.0        0                      2413         0                 38   \n",
       "298  50.0        0                       196         0                 45   \n",
       "\n",
       "     high_blood_pressure  platelets  serum_creatinine  serum_sodium  sex  \\\n",
       "0                      1  265000.00               1.9           130    1   \n",
       "1                      0  263358.03               1.1           136    1   \n",
       "2                      0  162000.00               1.3           129    1   \n",
       "3                      0  210000.00               1.9           137    1   \n",
       "4                      0  327000.00               2.7           116    0   \n",
       "..                   ...        ...               ...           ...  ...   \n",
       "294                    1  155000.00               1.1           143    1   \n",
       "295                    0  270000.00               1.2           139    0   \n",
       "296                    0  742000.00               0.8           138    0   \n",
       "297                    0  140000.00               1.4           140    1   \n",
       "298                    0  395000.00               1.6           136    1   \n",
       "\n",
       "     smoking  time  DEATH_EVENT  \n",
       "0          0     4            1  \n",
       "1          0     6            1  \n",
       "2          1     7            1  \n",
       "3          0     7            1  \n",
       "4          0     8            1  \n",
       "..       ...   ...          ...  \n",
       "294        1   270            0  \n",
       "295        0   271            0  \n",
       "296        0   278            0  \n",
       "297        1   280            0  \n",
       "298        1   285            0  \n",
       "\n",
       "[299 rows x 13 columns]"
      ]
     },
     "execution_count": 102,
     "metadata": {},
     "output_type": "execute_result"
    }
   ],
   "source": [
    "dataset.head(300) "
   ]
  },
  {
   "cell_type": "code",
   "execution_count": 103,
   "metadata": {},
   "outputs": [
    {
     "data": {
      "text/plain": [
       "age                         float64\n",
       "anaemia                       int64\n",
       "creatinine_phosphokinase      int64\n",
       "diabetes                      int64\n",
       "ejection_fraction             int64\n",
       "high_blood_pressure           int64\n",
       "platelets                   float64\n",
       "serum_creatinine            float64\n",
       "serum_sodium                  int64\n",
       "sex                           int64\n",
       "smoking                       int64\n",
       "time                          int64\n",
       "DEATH_EVENT                   int64\n",
       "dtype: object"
      ]
     },
     "execution_count": 103,
     "metadata": {},
     "output_type": "execute_result"
    }
   ],
   "source": [
    "dataset.dtypes"
   ]
  },
  {
   "cell_type": "code",
   "execution_count": 104,
   "metadata": {},
   "outputs": [
    {
     "data": {
      "image/png": "[encoded data removed]",
      "text/plain": [
       "<Figure size 864x720 with 16 Axes>"
      ]
     },
     "metadata": {
      "needs_background": "light"
     },
     "output_type": "display_data"
    }
   ],
   "source": [
    "dataset.hist(bins=10,figsize=(12,10),grid=False);"
   ]
  },
  {
   "cell_type": "code",
   "execution_count": 105,
   "metadata": {},
   "outputs": [
    {
     "name": "stdout",
     "output_type": "stream",
     "text": [
      "<class 'pandas.core.frame.DataFrame'>\n",
      "RangeIndex: 299 entries, 0 to 298\n",
      "Data columns (total 13 columns):\n",
      "age                         299 non-null float64\n",
      "anaemia                     299 non-null int64\n",
      "creatinine_phosphokinase    299 non-null int64\n",
      "diabetes                    299 non-null int64\n",
      "ejection_fraction           299 non-null int64\n",
      "high_blood_pressure         299 non-null int64\n",
      "platelets                   299 non-null float64\n",
      "serum_creatinine            299 non-null float64\n",
      "serum_sodium                299 non-null int64\n",
      "sex                         299 non-null int64\n",
      "smoking                     299 non-null int64\n",
      "time                        299 non-null int64\n",
      "DEATH_EVENT                 299 non-null int64\n",
      "dtypes: float64(3), int64(10)\n",
      "memory usage: 30.5 KB\n"
     ]
    }
   ],
   "source": [
    "dataset.info()  #aucune valeur null"
   ]
  },
  {
   "cell_type": "code",
   "execution_count": 106,
   "metadata": {},
   "outputs": [
    {
     "data": {
      "text/plain": [
       "(299, 13)"
      ]
     },
     "execution_count": 106,
     "metadata": {},
     "output_type": "execute_result"
    }
   ],
   "source": [
    "dataset.shape "
   ]
  },
  {
   "cell_type": "code",
   "execution_count": 107,
   "metadata": {},
   "outputs": [
    {
     "data": {
      "text/html": [
       "<div>\n",
       "<style scoped>\n",
       "    .dataframe tbody tr th:only-of-type {\n",
       "        vertical-align: middle;\n",
       "    }\n",
       "\n",
       "    .dataframe tbody tr th {\n",
       "        vertical-align: top;\n",
       "    }\n",
       "\n",
       "    .dataframe thead th {\n",
       "        text-align: right;\n",
       "    }\n",
       "</style>\n",
       "<table border=\"1\" class=\"dataframe\">\n",
       "  <thead>\n",
       "    <tr style=\"text-align: right;\">\n",
       "      <th></th>\n",
       "      <th>age</th>\n",
       "      <th>anaemia</th>\n",
       "      <th>creatinine_phosphokinase</th>\n",
       "      <th>diabetes</th>\n",
       "      <th>ejection_fraction</th>\n",
       "      <th>high_blood_pressure</th>\n",
       "      <th>platelets</th>\n",
       "      <th>serum_creatinine</th>\n",
       "      <th>serum_sodium</th>\n",
       "      <th>sex</th>\n",
       "      <th>smoking</th>\n",
       "      <th>time</th>\n",
       "      <th>DEATH_EVENT</th>\n",
       "    </tr>\n",
       "  </thead>\n",
       "  <tbody>\n",
       "    <tr>\n",
       "      <th>count</th>\n",
       "      <td>299.000000</td>\n",
       "      <td>299.000000</td>\n",
       "      <td>299.000000</td>\n",
       "      <td>299.000000</td>\n",
       "      <td>299.000000</td>\n",
       "      <td>299.000000</td>\n",
       "      <td>299.000000</td>\n",
       "      <td>299.00000</td>\n",
       "      <td>299.000000</td>\n",
       "      <td>299.000000</td>\n",
       "      <td>299.00000</td>\n",
       "      <td>299.000000</td>\n",
       "      <td>299.00000</td>\n",
       "    </tr>\n",
       "    <tr>\n",
       "      <th>mean</th>\n",
       "      <td>60.833893</td>\n",
       "      <td>0.431438</td>\n",
       "      <td>581.839465</td>\n",
       "      <td>0.418060</td>\n",
       "      <td>38.083612</td>\n",
       "      <td>0.351171</td>\n",
       "      <td>263358.029264</td>\n",
       "      <td>1.39388</td>\n",
       "      <td>136.625418</td>\n",
       "      <td>0.648829</td>\n",
       "      <td>0.32107</td>\n",
       "      <td>130.260870</td>\n",
       "      <td>0.32107</td>\n",
       "    </tr>\n",
       "    <tr>\n",
       "      <th>std</th>\n",
       "      <td>11.894809</td>\n",
       "      <td>0.496107</td>\n",
       "      <td>970.287881</td>\n",
       "      <td>0.494067</td>\n",
       "      <td>11.834841</td>\n",
       "      <td>0.478136</td>\n",
       "      <td>97804.236869</td>\n",
       "      <td>1.03451</td>\n",
       "      <td>4.412477</td>\n",
       "      <td>0.478136</td>\n",
       "      <td>0.46767</td>\n",
       "      <td>77.614208</td>\n",
       "      <td>0.46767</td>\n",
       "    </tr>\n",
       "    <tr>\n",
       "      <th>min</th>\n",
       "      <td>40.000000</td>\n",
       "      <td>0.000000</td>\n",
       "      <td>23.000000</td>\n",
       "      <td>0.000000</td>\n",
       "      <td>14.000000</td>\n",
       "      <td>0.000000</td>\n",
       "      <td>25100.000000</td>\n",
       "      <td>0.50000</td>\n",
       "      <td>113.000000</td>\n",
       "      <td>0.000000</td>\n",
       "      <td>0.00000</td>\n",
       "      <td>4.000000</td>\n",
       "      <td>0.00000</td>\n",
       "    </tr>\n",
       "    <tr>\n",
       "      <th>25%</th>\n",
       "      <td>51.000000</td>\n",
       "      <td>0.000000</td>\n",
       "      <td>116.500000</td>\n",
       "      <td>0.000000</td>\n",
       "      <td>30.000000</td>\n",
       "      <td>0.000000</td>\n",
       "      <td>212500.000000</td>\n",
       "      <td>0.90000</td>\n",
       "      <td>134.000000</td>\n",
       "      <td>0.000000</td>\n",
       "      <td>0.00000</td>\n",
       "      <td>73.000000</td>\n",
       "      <td>0.00000</td>\n",
       "    </tr>\n",
       "    <tr>\n",
       "      <th>50%</th>\n",
       "      <td>60.000000</td>\n",
       "      <td>0.000000</td>\n",
       "      <td>250.000000</td>\n",
       "      <td>0.000000</td>\n",
       "      <td>38.000000</td>\n",
       "      <td>0.000000</td>\n",
       "      <td>262000.000000</td>\n",
       "      <td>1.10000</td>\n",
       "      <td>137.000000</td>\n",
       "      <td>1.000000</td>\n",
       "      <td>0.00000</td>\n",
       "      <td>115.000000</td>\n",
       "      <td>0.00000</td>\n",
       "    </tr>\n",
       "    <tr>\n",
       "      <th>75%</th>\n",
       "      <td>70.000000</td>\n",
       "      <td>1.000000</td>\n",
       "      <td>582.000000</td>\n",
       "      <td>1.000000</td>\n",
       "      <td>45.000000</td>\n",
       "      <td>1.000000</td>\n",
       "      <td>303500.000000</td>\n",
       "      <td>1.40000</td>\n",
       "      <td>140.000000</td>\n",
       "      <td>1.000000</td>\n",
       "      <td>1.00000</td>\n",
       "      <td>203.000000</td>\n",
       "      <td>1.00000</td>\n",
       "    </tr>\n",
       "    <tr>\n",
       "      <th>max</th>\n",
       "      <td>95.000000</td>\n",
       "      <td>1.000000</td>\n",
       "      <td>7861.000000</td>\n",
       "      <td>1.000000</td>\n",
       "      <td>80.000000</td>\n",
       "      <td>1.000000</td>\n",
       "      <td>850000.000000</td>\n",
       "      <td>9.40000</td>\n",
       "      <td>148.000000</td>\n",
       "      <td>1.000000</td>\n",
       "      <td>1.00000</td>\n",
       "      <td>285.000000</td>\n",
       "      <td>1.00000</td>\n",
       "    </tr>\n",
       "  </tbody>\n",
       "</table>\n",
       "</div>"
      ],
      "text/plain": [
       "              age     anaemia  creatinine_phosphokinase    diabetes  \\\n",
       "count  299.000000  299.000000                299.000000  299.000000   \n",
       "mean    60.833893    0.431438                581.839465    0.418060   \n",
       "std     11.894809    0.496107                970.287881    0.494067   \n",
       "min     40.000000    0.000000                 23.000000    0.000000   \n",
       "25%     51.000000    0.000000                116.500000    0.000000   \n",
       "50%     60.000000    0.000000                250.000000    0.000000   \n",
       "75%     70.000000    1.000000                582.000000    1.000000   \n",
       "max     95.000000    1.000000               7861.000000    1.000000   \n",
       "\n",
       "       ejection_fraction  high_blood_pressure      platelets  \\\n",
       "count         299.000000           299.000000     299.000000   \n",
       "mean           38.083612             0.351171  263358.029264   \n",
       "std            11.834841             0.478136   97804.236869   \n",
       "min            14.000000             0.000000   25100.000000   \n",
       "25%            30.000000             0.000000  212500.000000   \n",
       "50%            38.000000             0.000000  262000.000000   \n",
       "75%            45.000000             1.000000  303500.000000   \n",
       "max            80.000000             1.000000  850000.000000   \n",
       "\n",
       "       serum_creatinine  serum_sodium         sex    smoking        time  \\\n",
       "count         299.00000    299.000000  299.000000  299.00000  299.000000   \n",
       "mean            1.39388    136.625418    0.648829    0.32107  130.260870   \n",
       "std             1.03451      4.412477    0.478136    0.46767   77.614208   \n",
       "min             0.50000    113.000000    0.000000    0.00000    4.000000   \n",
       "25%             0.90000    134.000000    0.000000    0.00000   73.000000   \n",
       "50%             1.10000    137.000000    1.000000    0.00000  115.000000   \n",
       "75%             1.40000    140.000000    1.000000    1.00000  203.000000   \n",
       "max             9.40000    148.000000    1.000000    1.00000  285.000000   \n",
       "\n",
       "       DEATH_EVENT  \n",
       "count    299.00000  \n",
       "mean       0.32107  \n",
       "std        0.46767  \n",
       "min        0.00000  \n",
       "25%        0.00000  \n",
       "50%        0.00000  \n",
       "75%        1.00000  \n",
       "max        1.00000  "
      ]
     },
     "execution_count": 107,
     "metadata": {},
     "output_type": "execute_result"
    }
   ],
   "source": [
    "dataset.describe(include = 'all') # age: Age\n",
    "                                # anaemia: Decrease of red blood cells or hemoglobin (boolean)\n",
    "                                # creatinine_phosphokinase : Level of the CPK enzyme in the blood (mcg/L)\n",
    "                                # diabetes : If the patient has diabetes (boolean)\n",
    "                                # ejection_fraction : Percentage of blood leaving the heart at each contraction (percentage)\n",
    "                                # high_blood_pressure : If the patient has hypertension (boolean)\n",
    "                                # platelets : Platelets in the blood (kiloplatelets/mL)\n",
    "                                # serum_creatinine : Level of serum creatinine in the blood (mg/dL)\n",
    "                                # serum_sodium : Level of serum sodium in the blood (mEq/L)\n",
    "                                # sex : Woman or man (binary)\n",
    "                                # smoking : If the patient smokes or not (boolean)\n",
    "                                # time : Follow-up period (days)\n",
    "                                # DEATH_EVENT : If the patient deceased during the follow-up period (boolean)"
   ]
  },
  {
   "cell_type": "code",
   "execution_count": 108,
   "metadata": {},
   "outputs": [],
   "source": [
    "#Probablement besoin d'uniformiser les données car il y a des ratio de 0 à 1 et des valeurs énormes à coté"
   ]
  },
  {
   "cell_type": "code",
   "execution_count": 109,
   "metadata": {},
   "outputs": [
    {
     "data": {
      "text/plain": [
       "\"\\n'time' et 'death_event'  :  tres corrélé\\n'sex' et 'smoking'       :  corrélé\\n\\n\""
      ]
     },
     "execution_count": 109,
     "metadata": {},
     "output_type": "execute_result"
    },
    {
     "data": {
      "image/png": "[encoded data removed]",
      "text/plain": [
       "<Figure size 1080x1080 with 2 Axes>"
      ]
     },
     "metadata": {
      "needs_background": "light"
     },
     "output_type": "display_data"
    }
   ],
   "source": [
    "plt.figure(figsize=(15,15))\n",
    "sns.heatmap(dataset.corr(), vmin=-1, annot=True);\n",
    "'''\n",
    "'time' et 'death_event'  :  tres corrélé\n",
    "'sex' et 'smoking'       :  corrélé\n",
    "\n",
    "'''\n",
    "## mais 'sex' et 'smoking' reste une information importante car \n",
    "## fumer peut avoir des conséquences sur la santé d'un patient"
   ]
  },
  {
   "cell_type": "code",
   "execution_count": 110,
   "metadata": {},
   "outputs": [
    {
     "name": "stdout",
     "output_type": "stream",
     "text": [
      "4 : 67.89\n",
      "5 : 68.23\n",
      "6 : 68.23\n",
      "7 : 68.56\n",
      "8 : 69.23\n",
      "9 : 69.90\n",
      "10 : 69.90\n",
      "11 : 71.91\n",
      "12 : 72.58\n",
      "13 : 72.24\n",
      "14 : 72.58\n",
      "15 : 73.24\n",
      "16 : 73.91\n",
      "17 : 73.58\n",
      "18 : 73.58\n",
      "19 : 73.58\n",
      "20 : 73.58\n",
      "21 : 74.25\n",
      "22 : 74.25\n",
      "23 : 73.91\n",
      "24 : 74.58\n",
      "25 : 74.92\n",
      "26 : 74.92\n",
      "27 : 75.92\n",
      "28 : 76.25\n",
      "29 : 76.92\n",
      "30 : 76.92\n",
      "31 : 77.93\n",
      "32 : 78.26\n",
      "33 : 78.60\n",
      "34 : 78.93\n",
      "35 : 78.93\n",
      "36 : 79.26\n",
      "37 : 79.26\n",
      "38 : 79.26\n",
      "39 : 79.60\n",
      "40 : 79.60\n",
      "41 : 79.93\n",
      "42 : 80.27\n",
      "43 : 80.60\n",
      "44 : 81.61\n",
      "45 : 81.94\n",
      "46 : 82.27\n",
      "47 : 82.27\n",
      "48 : 82.27\n",
      "49 : 82.27\n",
      "50 : 82.27\n",
      "51 : 82.61\n",
      "52 : 82.61\n",
      "53 : 82.61\n",
      "54 : 82.61\n",
      "55 : 81.94\n",
      "56 : 82.27\n",
      "57 : 82.27\n",
      "58 : 82.27\n",
      "59 : 82.27\n",
      "60 : 82.61\n",
      "61 : 82.94\n",
      "62 : 83.28\n",
      "63 : 83.28\n",
      "64 : 82.94\n",
      "65 : 83.28\n",
      "66 : 83.95\n",
      "67 : 84.28\n",
      "68 : 84.62\n",
      "69 : 84.28\n",
      "70 : 84.28\n",
      "71 : 84.28\n",
      "72 : 83.95\n",
      "73 : 83.95\n",
      "74 : 84.62\n",
      "75 : 83.28\n",
      "76 : 82.94\n",
      "77 : 82.61\n",
      "78 : 82.94\n",
      "79 : 82.94\n",
      "80 : 81.27\n",
      "81 : 80.60\n",
      "82 : 80.60\n",
      "83 : 80.60\n",
      "84 : 79.60\n",
      "85 : 79.60\n",
      "86 : 78.93\n",
      "87 : 78.60\n",
      "88 : 76.92\n",
      "89 : 75.92\n",
      "90 : 75.92\n",
      "91 : 75.92\n",
      "92 : 75.25\n",
      "93 : 75.25\n",
      "94 : 75.25\n",
      "95 : 74.25\n",
      "96 : 73.24\n",
      "97 : 73.58\n",
      "98 : 73.24\n",
      "99 : 73.24\n",
      "100 : 73.24\n",
      "101 : 73.58\n",
      "102 : 73.58\n",
      "103 : 73.58\n",
      "104 : 73.58\n",
      "105 : 72.91\n",
      "106 : 72.58\n",
      "107 : 72.24\n",
      "108 : 70.23\n",
      "109 : 69.23\n",
      "110 : 68.90\n",
      "111 : 68.56\n",
      "112 : 68.90\n",
      "113 : 68.23\n",
      "114 : 68.23\n",
      "115 : 68.23\n",
      "116 : 68.23\n",
      "117 : 68.23\n",
      "118 : 67.89\n",
      "119 : 67.56\n",
      "120 : 67.22\n",
      "121 : 65.89\n",
      "122 : 64.55\n",
      "123 : 64.55\n",
      "124 : 64.21\n",
      "125 : 64.21\n",
      "126 : 64.21\n",
      "127 : 64.55\n",
      "128 : 64.55\n",
      "129 : 64.55\n",
      "130 : 64.88\n",
      "131 : 65.22\n",
      "132 : 65.22\n",
      "133 : 65.22\n",
      "134 : 65.22\n",
      "135 : 64.88\n",
      "136 : 65.22\n",
      "137 : 65.22\n",
      "138 : 65.22\n",
      "139 : 65.22\n",
      "140 : 65.22\n",
      "141 : 64.88\n",
      "142 : 64.88\n",
      "143 : 64.88\n",
      "144 : 64.88\n",
      "145 : 64.88\n",
      "146 : 64.21\n",
      "147 : 62.54\n",
      "148 : 61.20\n",
      "149 : 60.87\n",
      "150 : 60.87\n",
      "151 : 61.20\n",
      "152 : 61.20\n",
      "153 : 61.20\n",
      "154 : 61.20\n",
      "155 : 61.54\n",
      "156 : 61.54\n",
      "157 : 61.54\n",
      "158 : 61.54\n",
      "159 : 61.54\n",
      "160 : 61.54\n",
      "161 : 61.54\n",
      "162 : 61.54\n",
      "163 : 61.87\n",
      "164 : 61.87\n",
      "165 : 61.87\n",
      "166 : 61.87\n",
      "167 : 61.87\n",
      "168 : 61.87\n",
      "169 : 61.87\n",
      "170 : 61.87\n",
      "171 : 62.21\n",
      "172 : 62.54\n",
      "173 : 62.88\n",
      "174 : 62.88\n",
      "175 : 61.87\n",
      "176 : 61.54\n",
      "177 : 61.54\n",
      "178 : 61.54\n",
      "179 : 61.54\n",
      "180 : 61.54\n",
      "181 : 61.87\n",
      "182 : 61.87\n",
      "183 : 61.87\n",
      "184 : 61.87\n",
      "185 : 61.87\n",
      "186 : 61.54\n",
      "187 : 59.53\n",
      "188 : 57.19\n",
      "189 : 56.86\n",
      "190 : 56.86\n",
      "191 : 56.86\n",
      "192 : 56.86\n",
      "193 : 56.19\n",
      "194 : 56.52\n",
      "195 : 56.19\n",
      "196 : 55.85\n",
      "197 : 55.85\n",
      "198 : 55.18\n",
      "199 : 55.52\n",
      "200 : 55.52\n",
      "201 : 55.18\n",
      "202 : 54.52\n",
      "203 : 54.52\n",
      "204 : 54.52\n",
      "205 : 54.52\n",
      "206 : 53.51\n",
      "207 : 53.18\n",
      "208 : 52.84\n",
      "209 : 52.51\n",
      "210 : 50.84\n",
      "211 : 50.17\n",
      "212 : 49.83\n",
      "213 : 48.83\n",
      "214 : 47.83\n",
      "215 : 46.82\n",
      "216 : 45.48\n",
      "217 : 45.15\n",
      "218 : 45.15\n",
      "219 : 45.15\n",
      "220 : 45.15\n",
      "221 : 44.82\n",
      "222 : 44.82\n",
      "223 : 44.82\n",
      "224 : 44.82\n",
      "225 : 44.82\n",
      "226 : 44.82\n",
      "227 : 44.82\n",
      "228 : 44.82\n",
      "229 : 44.82\n",
      "230 : 44.82\n",
      "231 : 44.15\n",
      "232 : 43.81\n",
      "233 : 43.81\n",
      "234 : 43.14\n",
      "235 : 43.14\n",
      "236 : 43.48\n",
      "237 : 43.48\n",
      "238 : 42.81\n",
      "239 : 42.81\n",
      "240 : 42.81\n",
      "241 : 42.47\n",
      "242 : 42.81\n",
      "243 : 42.81\n",
      "244 : 42.81\n",
      "245 : 41.14\n",
      "246 : 39.46\n",
      "247 : 38.46\n",
      "248 : 38.13\n",
      "249 : 38.13\n",
      "250 : 38.13\n",
      "251 : 35.79\n",
      "252 : 35.79\n",
      "253 : 35.79\n",
      "254 : 35.79\n",
      "255 : 35.79\n",
      "256 : 35.79\n",
      "257 : 35.12\n",
      "258 : 34.78\n",
      "259 : 34.11\n",
      "260 : 34.11\n",
      "261 : 34.11\n",
      "262 : 34.11\n",
      "263 : 34.11\n",
      "264 : 34.11\n",
      "265 : 34.11\n",
      "266 : 34.11\n",
      "267 : 34.11\n",
      "268 : 34.11\n",
      "269 : 34.11\n",
      "270 : 34.11\n",
      "271 : 33.44\n",
      "272 : 33.11\n",
      "273 : 33.11\n",
      "274 : 33.11\n",
      "275 : 33.11\n",
      "276 : 33.11\n",
      "277 : 33.11\n",
      "278 : 33.11\n",
      "279 : 32.78\n",
      "280 : 32.78\n",
      "281 : 32.44\n",
      "282 : 32.44\n",
      "283 : 32.44\n",
      "284 : 32.44\n",
      "285 : 32.44\n"
     ]
    }
   ],
   "source": [
    "#'TIME' corréleé avec 'DEATH_EVENT' ?  => verifions  \n",
    "le_temps = []\n",
    "score_temps = []\n",
    "for i in range(dataset['time'].min(),dataset['time'].max()+1):\n",
    "    score_res= 100*np.mean((dataset['time'].to_numpy() < i) == dataset['DEATH_EVENT'].to_numpy())\n",
    "    print('%i : %.2f'%(i,score_res))\n",
    "    le_temps.append(i)\n",
    "    score_temps.append(score_res)\n"
   ]
  },
  {
   "cell_type": "code",
   "execution_count": 111,
   "metadata": {},
   "outputs": [
    {
     "data": {
      "text/plain": [
       "[<matplotlib.lines.Line2D at 0x7fa3f8c8e7f0>]"
      ]
     },
     "execution_count": 111,
     "metadata": {},
     "output_type": "execute_result"
    },
    {
     "data": {
      "image/png": "[encoded data removed]",
      "text/plain": [
       "<Figure size 432x288 with 1 Axes>"
      ]
     },
     "metadata": {
      "needs_background": "light"
     },
     "output_type": "display_data"
    }
   ],
   "source": [
    "plt.plot(le_temps,score_temps)\n",
    "## on voit la courbe atteint un pic à 84% ce qui signifie que la majorité \n",
    "## des patients sont mort avant le 'time' (jour) 74.\n",
    "## le feature 'time' et bien corrélé à notre label 'DEATH_EVENT'\n",
    "## De plus on ne cheche pas à prédire le jour où le patient est mort\n",
    "## mais prédire si il va mourir où pas\n"
   ]
  },
  {
   "cell_type": "code",
   "execution_count": 112,
   "metadata": {
    "scrolled": true
   },
   "outputs": [
    {
     "data": {
      "text/html": [
       "<div>\n",
       "<style scoped>\n",
       "    .dataframe tbody tr th:only-of-type {\n",
       "        vertical-align: middle;\n",
       "    }\n",
       "\n",
       "    .dataframe tbody tr th {\n",
       "        vertical-align: top;\n",
       "    }\n",
       "\n",
       "    .dataframe thead th {\n",
       "        text-align: right;\n",
       "    }\n",
       "</style>\n",
       "<table border=\"1\" class=\"dataframe\">\n",
       "  <thead>\n",
       "    <tr style=\"text-align: right;\">\n",
       "      <th></th>\n",
       "      <th>age</th>\n",
       "      <th>anaemia</th>\n",
       "      <th>creatinine_phosphokinase</th>\n",
       "      <th>diabetes</th>\n",
       "      <th>ejection_fraction</th>\n",
       "      <th>high_blood_pressure</th>\n",
       "      <th>platelets</th>\n",
       "      <th>serum_creatinine</th>\n",
       "      <th>serum_sodium</th>\n",
       "      <th>sex</th>\n",
       "      <th>smoking</th>\n",
       "      <th>DEATH_EVENT</th>\n",
       "    </tr>\n",
       "  </thead>\n",
       "  <tbody>\n",
       "    <tr>\n",
       "      <th>0</th>\n",
       "      <td>75.0</td>\n",
       "      <td>0</td>\n",
       "      <td>582</td>\n",
       "      <td>0</td>\n",
       "      <td>20</td>\n",
       "      <td>1</td>\n",
       "      <td>265000.00</td>\n",
       "      <td>1.9</td>\n",
       "      <td>130</td>\n",
       "      <td>1</td>\n",
       "      <td>0</td>\n",
       "      <td>1</td>\n",
       "    </tr>\n",
       "    <tr>\n",
       "      <th>1</th>\n",
       "      <td>55.0</td>\n",
       "      <td>0</td>\n",
       "      <td>7861</td>\n",
       "      <td>0</td>\n",
       "      <td>38</td>\n",
       "      <td>0</td>\n",
       "      <td>263358.03</td>\n",
       "      <td>1.1</td>\n",
       "      <td>136</td>\n",
       "      <td>1</td>\n",
       "      <td>0</td>\n",
       "      <td>1</td>\n",
       "    </tr>\n",
       "    <tr>\n",
       "      <th>2</th>\n",
       "      <td>65.0</td>\n",
       "      <td>0</td>\n",
       "      <td>146</td>\n",
       "      <td>0</td>\n",
       "      <td>20</td>\n",
       "      <td>0</td>\n",
       "      <td>162000.00</td>\n",
       "      <td>1.3</td>\n",
       "      <td>129</td>\n",
       "      <td>1</td>\n",
       "      <td>1</td>\n",
       "      <td>1</td>\n",
       "    </tr>\n",
       "    <tr>\n",
       "      <th>3</th>\n",
       "      <td>50.0</td>\n",
       "      <td>1</td>\n",
       "      <td>111</td>\n",
       "      <td>0</td>\n",
       "      <td>20</td>\n",
       "      <td>0</td>\n",
       "      <td>210000.00</td>\n",
       "      <td>1.9</td>\n",
       "      <td>137</td>\n",
       "      <td>1</td>\n",
       "      <td>0</td>\n",
       "      <td>1</td>\n",
       "    </tr>\n",
       "    <tr>\n",
       "      <th>4</th>\n",
       "      <td>65.0</td>\n",
       "      <td>1</td>\n",
       "      <td>160</td>\n",
       "      <td>1</td>\n",
       "      <td>20</td>\n",
       "      <td>0</td>\n",
       "      <td>327000.00</td>\n",
       "      <td>2.7</td>\n",
       "      <td>116</td>\n",
       "      <td>0</td>\n",
       "      <td>0</td>\n",
       "      <td>1</td>\n",
       "    </tr>\n",
       "  </tbody>\n",
       "</table>\n",
       "</div>"
      ],
      "text/plain": [
       "    age  anaemia  creatinine_phosphokinase  diabetes  ejection_fraction  \\\n",
       "0  75.0        0                       582         0                 20   \n",
       "1  55.0        0                      7861         0                 38   \n",
       "2  65.0        0                       146         0                 20   \n",
       "3  50.0        1                       111         0                 20   \n",
       "4  65.0        1                       160         1                 20   \n",
       "\n",
       "   high_blood_pressure  platelets  serum_creatinine  serum_sodium  sex  \\\n",
       "0                    1  265000.00               1.9           130    1   \n",
       "1                    0  263358.03               1.1           136    1   \n",
       "2                    0  162000.00               1.3           129    1   \n",
       "3                    0  210000.00               1.9           137    1   \n",
       "4                    0  327000.00               2.7           116    0   \n",
       "\n",
       "   smoking  DEATH_EVENT  \n",
       "0        0            1  \n",
       "1        0            1  \n",
       "2        1            1  \n",
       "3        0            1  \n",
       "4        0            1  "
      ]
     },
     "execution_count": 112,
     "metadata": {},
     "output_type": "execute_result"
    }
   ],
   "source": [
    "# On decide donc de supprimer time \n",
    "\n",
    "dataset.drop('time', axis=1, inplace=True)\n",
    "\n",
    "dataset.head(5)"
   ]
  },
  {
   "cell_type": "markdown",
   "metadata": {},
   "source": [
    "<h2> L'AGE un indicateur de mort </h2>"
   ]
  },
  {
   "cell_type": "code",
   "execution_count": 113,
   "metadata": {},
   "outputs": [],
   "source": [
    "\n",
    "dataset['age']= dataset['age'].astype(int) # convertit age floattant en int\n",
    "mort_l=dataset[\"DEATH_EVENT\"]\n",
    "age_l = dataset[\"age\"]  \n",
    "sex_l = dataset[\"sex\"]\n",
    "diabete_l = dataset[\"diabetes\"]\n",
    "anemie_l = dataset[\"anaemia\"]\n",
    "#dataset['age']"
   ]
  },
  {
   "cell_type": "code",
   "execution_count": 114,
   "metadata": {},
   "outputs": [
    {
     "data": {
      "text/plain": [
       "[<matplotlib.lines.Line2D at 0x7fa3f8c4dd60>]"
      ]
     },
     "execution_count": 114,
     "metadata": {},
     "output_type": "execute_result"
    },
    {
     "data": {
      "image/png": "[encoded data removed]",
      "text/plain": [
       "<Figure size 432x288 with 1 Axes>"
      ]
     },
     "metadata": {
      "needs_background": "light"
     },
     "output_type": "display_data"
    }
   ],
   "source": [
    "l_age_res = []\n",
    "l_moy_res= []\n",
    "for i in range(age_l.min(), age_l.max()): \n",
    "    if(np.sum(dataset['age'] ==i) !=0): # prend pas en compte valeur NaN\n",
    "        age = dataset['age'] ==i\n",
    "        moy = round(100*np.mean(dataset['DEATH_EVENT'][age]))\n",
    "        l_age_res.append(i)\n",
    "        l_moy_res.append(moy)\n",
    "        #print(\"age = \", i ,\" score Mort= \", moy, \"nb pers = \", np.sum(age))\n",
    "plt.plot(l_age_res, l_moy_res)\n",
    "\n",
    "## pas vraiment significatif car le nombre de patient\n",
    "## n'est pas le meme pour deux ages différents\n",
    "#ex: 2 patients qui ont 48 ans et les 2 sont mort\n",
    "##  vs 35 patients pour 60 ans\n",
    "\n",
    "\n",
    "\n"
   ]
  },
  {
   "cell_type": "markdown",
   "metadata": {},
   "source": [
    "<h2> Verifions si le SEX un indicateur de mort </h2>"
   ]
  },
  {
   "cell_type": "code",
   "execution_count": 115,
   "metadata": {},
   "outputs": [],
   "source": [
    "homme = dataset['sex']==1\n",
    "femme = dataset['sex'] ==0\n",
    "homme_morts = dataset['DEATH_EVENT'][homme] ==1\n",
    "femme_morts= dataset['DEATH_EVENT'][femme] ==1\n",
    "#print(\"nb Homme =\", np.sum(homme) ,\"nb Femme = \", np.sum(femme))\n",
    "#print(\"nb Homme morts =\", np.sum(homme_morts) ,\"nb Femme morts = \", np.sum(femme_morts))\n"
   ]
  },
  {
   "cell_type": "code",
   "execution_count": 116,
   "metadata": {},
   "outputs": [
    {
     "data": {
      "image/png": "[encoded data removed]",
      "text/plain": [
       "<Figure size 432x288 with 1 Axes>"
      ]
     },
     "metadata": {},
     "output_type": "display_data"
    }
   ],
   "source": [
    "#petite représentation\n",
    "labels = 'homme', 'femme', 'homme_dead', 'femme_dead'\n",
    "sizes = [np.sum(homme), np.sum(femme),np.sum(homme_morts),np.sum(femme_morts)]\n",
    "\n",
    "plt.pie(sizes, labels=labels, autopct='%1.1f%%', shadow=True, startangle=90)\n",
    "\n",
    "plt.axis('equal')\n",
    "\n",
    "plt.show()\n",
    "\n",
    "#A commenter"
   ]
  },
  {
   "cell_type": "markdown",
   "metadata": {},
   "source": [
    "<h2> Verifions si le DIABETE un indicateur de mort </h2>"
   ]
  },
  {
   "cell_type": "code",
   "execution_count": 117,
   "metadata": {},
   "outputs": [],
   "source": [
    "les_diabetiques = dataset['diabetes'] == 1\n",
    "les_non_diabetiques = dataset['diabetes'] == 0\n",
    "diabetes_mort = dataset['DEATH_EVENT'][les_diabetiques]\n",
    "non_diabetique_mort = dataset['DEATH_EVENT'][les_non_diabetiques]\n"
   ]
  },
  {
   "cell_type": "code",
   "execution_count": 118,
   "metadata": {},
   "outputs": [
    {
     "data": {
      "image/png": "[encoded data removed]",
      "text/plain": [
       "<Figure size 432x288 with 1 Axes>"
      ]
     },
     "metadata": {},
     "output_type": "display_data"
    }
   ],
   "source": [
    "#petite représentation\n",
    "labels = 'diabetiques', 'non-diabetiques', 'diabetiques mort', 'non diabetiques mort'\n",
    "sizes = [np.sum(les_diabetiques), np.sum(les_non_diabetiques),np.sum(diabetes_mort),np.sum(non_diabetique_mort)]\n",
    "\n",
    "plt.pie(sizes, labels=labels,  autopct='%1.1f%%', shadow=True, startangle=90)\n",
    "\n",
    "plt.axis('equal')\n",
    "\n",
    "plt.show()\n",
    "\n",
    "#A commenter\n"
   ]
  },
  {
   "cell_type": "markdown",
   "metadata": {},
   "source": [
    "<h2> Verifions si l'anémie est indicateur de mort</h2>"
   ]
  },
  {
   "cell_type": "code",
   "execution_count": 119,
   "metadata": {},
   "outputs": [],
   "source": [
    "anemie_true = dataset[\"anaemia\"] ==1\n",
    "anemie_false = dataset[\"anaemia\"]  ==0\n",
    "anemia_mort = dataset['DEATH_EVENT'][anemie_true]\n",
    "non_anemia_mort = dataset['DEATH_EVENT'][anemie_false]\n"
   ]
  },
  {
   "cell_type": "code",
   "execution_count": 120,
   "metadata": {},
   "outputs": [
    {
     "data": {
      "image/png": "[encoded data removed]",
      "text/plain": [
       "<Figure size 432x288 with 1 Axes>"
      ]
     },
     "metadata": {},
     "output_type": "display_data"
    }
   ],
   "source": [
    "#petite représentation\n",
    "labels = 'atteint anemie', 'non-atteint', 'anemie mort', 'non anemie mort'\n",
    "sizes = [np.sum(anemie_true), np.sum(anemie_false),np.sum(anemia_mort),np.sum(non_anemia_mort)]\n",
    "\n",
    "plt.pie(sizes, labels=labels,  autopct='%1.1f%%', shadow=True, startangle=90)\n",
    "\n",
    "plt.axis('equal')\n",
    "\n",
    "plt.show()\n",
    "\n",
    "#A commenter\n",
    "## 11.6 % des 32.7% sont mort atteint d'anemie\n",
    "## 12.7 % des 43.0% sont mort non atteint d'anemie"
   ]
  },
  {
   "cell_type": "markdown",
   "metadata": {},
   "source": [
    "<h2>Autre visualisation à faire </h2>"
   ]
  },
  {
   "cell_type": "code",
   "execution_count": 121,
   "metadata": {},
   "outputs": [
    {
     "name": "stdout",
     "output_type": "stream",
     "text": [
      "------Hommes qui fummes ------\n",
      " 47.42268041237113\n",
      "------Femmes qui fumme------\n",
      " 3.8095238095238098\n"
     ]
    }
   ],
   "source": [
    "#idee\n",
    "print(\"------Hommes qui fummes ------\")\n",
    "print(\"\" ,dataset[\"smoking\"][dataset[\"sex\"] == 1].value_counts(normalize = True)[1]*100)\n",
    "\n",
    "print(\"------Femmes qui fumme------\")\n",
    "print(\"\" ,dataset[\"smoking\"][dataset[\"sex\"] == 0].value_counts(normalize = True)[1]*100)"
   ]
  },
  {
   "cell_type": "markdown",
   "metadata": {},
   "source": [
    "<h2>Normalisation/Standardisation (à faire) </h2>"
   ]
  },
  {
   "cell_type": "code",
   "execution_count": null,
   "metadata": {},
   "outputs": [],
   "source": [
    "#StandardScaler or MinMaxScaler "
   ]
  },
  {
   "cell_type": "code",
   "execution_count": null,
   "metadata": {},
   "outputs": [],
   "source": [
    " "
   ]
  },
  {
   "cell_type": "code",
   "execution_count": 123,
   "metadata": {},
   "outputs": [],
   "source": [
    "features= dataset.columns[:-1] # toutes les colonnes sauf la derniere\n",
    "label = dataset.columns[-1] #derniere colonnes 'DEATH EVENT'\n",
    "\n",
    "X = dataset[features].values\n",
    "y = dataset[label].values\n"
   ]
  },
  {
   "cell_type": "code",
   "execution_count": 124,
   "metadata": {},
   "outputs": [],
   "source": [
    "\n",
    "x_train, x_test, y_train, y_test = train_test_split(X, y, test_size = 0.3, random_state =5)"
   ]
  },
  {
   "cell_type": "code",
   "execution_count": null,
   "metadata": {},
   "outputs": [],
   "source": []
  },
  {
   "cell_type": "code",
   "execution_count": 125,
   "metadata": {},
   "outputs": [
    {
     "name": "stdout",
     "output_type": "stream",
     "text": [
      "0.3253588516746411\n"
     ]
    }
   ],
   "source": [
    "model=  SGDClassifier()\n",
    "model.fit(x_train,y_train)\n",
    "print(model.score(x_train,y_train))  ## on pas d'overfitting sinon on aurait eu 100% \n",
    "                                "
   ]
  },
  {
   "cell_type": "code",
   "execution_count": 219,
   "metadata": {},
   "outputs": [
    {
     "name": "stdout",
     "output_type": "stream",
     "text": [
      "loss :   hinge  score =  0.6666666666666666\n",
      "loss :   log  score =  0.6888888888888889\n",
      "loss :   modified_huber  score =  0.6888888888888889\n",
      "loss :   squared_hinge  score =  0.6888888888888889\n",
      "loss :   perceptron  score =  0.6666666666666666\n",
      "loss :   squared_loss  score =  0.3111111111111111\n",
      "loss :   huber  score =  0.6888888888888889\n",
      "loss :   epsilon_insensitive  score =  0.6888888888888889\n",
      "loss :   squared_epsilon_insensitive  score =  0.6888888888888889\n"
     ]
    }
   ],
   "source": [
    "#fonction cout \n",
    "score_model = []\n",
    "loss_name =[]\n",
    "loss_l = ['hinge','log', 'modified_huber', 'squared_hinge', 'perceptron','squared_loss', 'huber', 'epsilon_insensitive','squared_epsilon_insensitive']    \n",
    "for i in loss_l:\n",
    "    model_1 = SGDClassifier(loss=i,random_state=5, penalty='l1')\n",
    "    model_1.fit(x_train,y_train)\n",
    "    print(\"loss :  \" , i , \" score = \", model_1.score(x_test,y_test))\n",
    "    loss_name.append(i)\n",
    "    score_model.append(model_1.score(x_test,y_test))\n",
    "\n",
    "    \n",
    "##hinge  \n",
    "##log \n",
    "##modified_huber  \n",
    "##squared_hinge  \n",
    "##perceptron   \n",
    "##squared_loss"
   ]
  },
  {
   "cell_type": "code",
   "execution_count": null,
   "metadata": {},
   "outputs": [],
   "source": []
  },
  {
   "cell_type": "code",
   "execution_count": 127,
   "metadata": {},
   "outputs": [],
   "source": [
    "monScoring = 'neg_mean_squared_error' # (RMS=Root Mean Squared)"
   ]
  },
  {
   "cell_type": "code",
   "execution_count": 220,
   "metadata": {
    "scrolled": true
   },
   "outputs": [
    {
     "name": "stdout",
     "output_type": "stream",
     "text": [
      "0.6016666666666667 1e+18\n"
     ]
    },
    {
     "data": {
      "text/plain": [
       "[<matplotlib.lines.Line2D at 0x7fa3f924de80>]"
      ]
     },
     "execution_count": 220,
     "metadata": {},
     "output_type": "execute_result"
    },
    {
     "data": {
      "image/png": "[encoded data removed]",
      "text/plain": [
       "<Figure size 432x288 with 1 Axes>"
      ]
     },
     "metadata": {
      "needs_background": "light"
     },
     "output_type": "display_data"
    }
   ],
   "source": [
    "score_cv_l = []\n",
    "alpha_values = np.logspace(-5,18, num=7)\n",
    "\n",
    "#alpha_values = np.arange(0.1,15,1)\n",
    "max_val=0\n",
    "for alpha_l in alpha_values:\n",
    "    model_cv=  SGDClassifier(penalty='l2', alpha=alpha_l ,random_state=0, loss='log')\n",
    "    kfold = KFold(n_splits=10)\n",
    "    cv_results = cross_val_score(model_cv, x_train, y_train, cv=kfold, scoring=monScoring)\n",
    "    msg = \"%s %f, erreur quad. moyenne: %f +/- (%f)\" % (\"regression lineaire:, alpha=\",alpha_l, -cv_results.mean(), cv_results.std())\n",
    "   # print(msg)\n",
    "    score_cv_l.append((-cv_results.mean())*100)\n",
    "    if( -cv_results.mean() > max_val):\n",
    "        max_val= -cv_results.mean()\n",
    "        alpha_max= alpha_l\n",
    "print(max_val, alpha_l)\n",
    "plt.plot(alpha_values,score_cv_l)"
   ]
  },
  {
   "cell_type": "code",
   "execution_count": null,
   "metadata": {},
   "outputs": [],
   "source": []
  },
  {
   "cell_type": "code",
   "execution_count": null,
   "metadata": {},
   "outputs": [],
   "source": []
  }
 ],
 "metadata": {
  "kernelspec": {
   "display_name": "Python 3",
   "language": "python",
   "name": "python3"
  },
  "language_info": {
   "codemirror_mode": {
    "name": "ipython",
    "version": 3
   },
   "file_extension": ".py",
   "mimetype": "text/x-python",
   "name": "python",
   "nbconvert_exporter": "python",
   "pygments_lexer": "ipython3",
   "version": "3.8.5"
  }
 },
 "nbformat": 4,
 "nbformat_minor": 4
}
