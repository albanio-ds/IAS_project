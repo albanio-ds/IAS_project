{
 "cells": [
  {
   "cell_type": "code",
   "execution_count": 1,
   "metadata": {},
   "outputs": [],
   "source": [
    "import numpy as np\n",
    "import matplotlib.pyplot as plt\n",
    "import pandas as pd\n",
    "import seaborn as sns\n",
    "from sklearn.model_selection import train_test_split\n",
    "\n",
    "from sklearn.linear_model import SGDClassifier\n",
    "from sklearn.model_selection import cross_val_score\n",
    "from sklearn.model_selection import KFold\n",
    "\n",
    "from sklearn.metrics import accuracy_score\n",
    "from sklearn.preprocessing import StandardScaler\n",
    "'''\n",
    "sujet: [classification] Déterminer si une personne atteintes de maladies cardiovasculaire  va  \n",
    "mourir ou pas en fonction de ses antécédent (fumeur ou pas, diabète ou pas, hyper-tension ou pas...)\n",
    "\n",
    "'time' très corrélé avec 'DEATH_EVENT' => a supprimer \n",
    "\n",
    "11 features => 2 labels : DEAD / SURVIVE\n",
    "'''\n",
    "\n",
    "dataset = pd.read_csv('heart_failure_clinical_records_dataset.csv')\n"
   ]
  },
  {
   "cell_type": "code",
   "execution_count": 2,
   "metadata": {},
   "outputs": [
    {
     "data": {
      "text/plain": [
       "Index(['age', 'anaemia', 'creatinine_phosphokinase', 'diabetes',\n",
       "       'ejection_fraction', 'high_blood_pressure', 'platelets',\n",
       "       'serum_creatinine', 'serum_sodium', 'sex', 'smoking', 'time',\n",
       "       'DEATH_EVENT'],\n",
       "      dtype='object')"
      ]
     },
     "execution_count": 2,
     "metadata": {},
     "output_type": "execute_result"
    }
   ],
   "source": [
    "dataset.columns"
   ]
  },
  {
   "cell_type": "code",
   "execution_count": 3,
   "metadata": {},
   "outputs": [
    {
     "data": {
      "text/html": [
       "<div>\n",
       "<style scoped>\n",
       "    .dataframe tbody tr th:only-of-type {\n",
       "        vertical-align: middle;\n",
       "    }\n",
       "\n",
       "    .dataframe tbody tr th {\n",
       "        vertical-align: top;\n",
       "    }\n",
       "\n",
       "    .dataframe thead th {\n",
       "        text-align: right;\n",
       "    }\n",
       "</style>\n",
       "<table border=\"1\" class=\"dataframe\">\n",
       "  <thead>\n",
       "    <tr style=\"text-align: right;\">\n",
       "      <th></th>\n",
       "      <th>age</th>\n",
       "      <th>anaemia</th>\n",
       "      <th>creatinine_phosphokinase</th>\n",
       "      <th>diabetes</th>\n",
       "      <th>ejection_fraction</th>\n",
       "      <th>high_blood_pressure</th>\n",
       "      <th>platelets</th>\n",
       "      <th>serum_creatinine</th>\n",
       "      <th>serum_sodium</th>\n",
       "      <th>sex</th>\n",
       "      <th>smoking</th>\n",
       "      <th>time</th>\n",
       "      <th>DEATH_EVENT</th>\n",
       "    </tr>\n",
       "  </thead>\n",
       "  <tbody>\n",
       "    <tr>\n",
       "      <th>0</th>\n",
       "      <td>75.0</td>\n",
       "      <td>0</td>\n",
       "      <td>582</td>\n",
       "      <td>0</td>\n",
       "      <td>20</td>\n",
       "      <td>1</td>\n",
       "      <td>265000.00</td>\n",
       "      <td>1.9</td>\n",
       "      <td>130</td>\n",
       "      <td>1</td>\n",
       "      <td>0</td>\n",
       "      <td>4</td>\n",
       "      <td>1</td>\n",
       "    </tr>\n",
       "    <tr>\n",
       "      <th>1</th>\n",
       "      <td>55.0</td>\n",
       "      <td>0</td>\n",
       "      <td>7861</td>\n",
       "      <td>0</td>\n",
       "      <td>38</td>\n",
       "      <td>0</td>\n",
       "      <td>263358.03</td>\n",
       "      <td>1.1</td>\n",
       "      <td>136</td>\n",
       "      <td>1</td>\n",
       "      <td>0</td>\n",
       "      <td>6</td>\n",
       "      <td>1</td>\n",
       "    </tr>\n",
       "    <tr>\n",
       "      <th>2</th>\n",
       "      <td>65.0</td>\n",
       "      <td>0</td>\n",
       "      <td>146</td>\n",
       "      <td>0</td>\n",
       "      <td>20</td>\n",
       "      <td>0</td>\n",
       "      <td>162000.00</td>\n",
       "      <td>1.3</td>\n",
       "      <td>129</td>\n",
       "      <td>1</td>\n",
       "      <td>1</td>\n",
       "      <td>7</td>\n",
       "      <td>1</td>\n",
       "    </tr>\n",
       "    <tr>\n",
       "      <th>3</th>\n",
       "      <td>50.0</td>\n",
       "      <td>1</td>\n",
       "      <td>111</td>\n",
       "      <td>0</td>\n",
       "      <td>20</td>\n",
       "      <td>0</td>\n",
       "      <td>210000.00</td>\n",
       "      <td>1.9</td>\n",
       "      <td>137</td>\n",
       "      <td>1</td>\n",
       "      <td>0</td>\n",
       "      <td>7</td>\n",
       "      <td>1</td>\n",
       "    </tr>\n",
       "    <tr>\n",
       "      <th>4</th>\n",
       "      <td>65.0</td>\n",
       "      <td>1</td>\n",
       "      <td>160</td>\n",
       "      <td>1</td>\n",
       "      <td>20</td>\n",
       "      <td>0</td>\n",
       "      <td>327000.00</td>\n",
       "      <td>2.7</td>\n",
       "      <td>116</td>\n",
       "      <td>0</td>\n",
       "      <td>0</td>\n",
       "      <td>8</td>\n",
       "      <td>1</td>\n",
       "    </tr>\n",
       "    <tr>\n",
       "      <th>...</th>\n",
       "      <td>...</td>\n",
       "      <td>...</td>\n",
       "      <td>...</td>\n",
       "      <td>...</td>\n",
       "      <td>...</td>\n",
       "      <td>...</td>\n",
       "      <td>...</td>\n",
       "      <td>...</td>\n",
       "      <td>...</td>\n",
       "      <td>...</td>\n",
       "      <td>...</td>\n",
       "      <td>...</td>\n",
       "      <td>...</td>\n",
       "    </tr>\n",
       "    <tr>\n",
       "      <th>294</th>\n",
       "      <td>62.0</td>\n",
       "      <td>0</td>\n",
       "      <td>61</td>\n",
       "      <td>1</td>\n",
       "      <td>38</td>\n",
       "      <td>1</td>\n",
       "      <td>155000.00</td>\n",
       "      <td>1.1</td>\n",
       "      <td>143</td>\n",
       "      <td>1</td>\n",
       "      <td>1</td>\n",
       "      <td>270</td>\n",
       "      <td>0</td>\n",
       "    </tr>\n",
       "    <tr>\n",
       "      <th>295</th>\n",
       "      <td>55.0</td>\n",
       "      <td>0</td>\n",
       "      <td>1820</td>\n",
       "      <td>0</td>\n",
       "      <td>38</td>\n",
       "      <td>0</td>\n",
       "      <td>270000.00</td>\n",
       "      <td>1.2</td>\n",
       "      <td>139</td>\n",
       "      <td>0</td>\n",
       "      <td>0</td>\n",
       "      <td>271</td>\n",
       "      <td>0</td>\n",
       "    </tr>\n",
       "    <tr>\n",
       "      <th>296</th>\n",
       "      <td>45.0</td>\n",
       "      <td>0</td>\n",
       "      <td>2060</td>\n",
       "      <td>1</td>\n",
       "      <td>60</td>\n",
       "      <td>0</td>\n",
       "      <td>742000.00</td>\n",
       "      <td>0.8</td>\n",
       "      <td>138</td>\n",
       "      <td>0</td>\n",
       "      <td>0</td>\n",
       "      <td>278</td>\n",
       "      <td>0</td>\n",
       "    </tr>\n",
       "    <tr>\n",
       "      <th>297</th>\n",
       "      <td>45.0</td>\n",
       "      <td>0</td>\n",
       "      <td>2413</td>\n",
       "      <td>0</td>\n",
       "      <td>38</td>\n",
       "      <td>0</td>\n",
       "      <td>140000.00</td>\n",
       "      <td>1.4</td>\n",
       "      <td>140</td>\n",
       "      <td>1</td>\n",
       "      <td>1</td>\n",
       "      <td>280</td>\n",
       "      <td>0</td>\n",
       "    </tr>\n",
       "    <tr>\n",
       "      <th>298</th>\n",
       "      <td>50.0</td>\n",
       "      <td>0</td>\n",
       "      <td>196</td>\n",
       "      <td>0</td>\n",
       "      <td>45</td>\n",
       "      <td>0</td>\n",
       "      <td>395000.00</td>\n",
       "      <td>1.6</td>\n",
       "      <td>136</td>\n",
       "      <td>1</td>\n",
       "      <td>1</td>\n",
       "      <td>285</td>\n",
       "      <td>0</td>\n",
       "    </tr>\n",
       "  </tbody>\n",
       "</table>\n",
       "<p>299 rows × 13 columns</p>\n",
       "</div>"
      ],
      "text/plain": [
       "      age  anaemia  creatinine_phosphokinase  diabetes  ejection_fraction  \\\n",
       "0    75.0        0                       582         0                 20   \n",
       "1    55.0        0                      7861         0                 38   \n",
       "2    65.0        0                       146         0                 20   \n",
       "3    50.0        1                       111         0                 20   \n",
       "4    65.0        1                       160         1                 20   \n",
       "..    ...      ...                       ...       ...                ...   \n",
       "294  62.0        0                        61         1                 38   \n",
       "295  55.0        0                      1820         0                 38   \n",
       "296  45.0        0                      2060         1                 60   \n",
       "297  45.0        0                      2413         0                 38   \n",
       "298  50.0        0                       196         0                 45   \n",
       "\n",
       "     high_blood_pressure  platelets  serum_creatinine  serum_sodium  sex  \\\n",
       "0                      1  265000.00               1.9           130    1   \n",
       "1                      0  263358.03               1.1           136    1   \n",
       "2                      0  162000.00               1.3           129    1   \n",
       "3                      0  210000.00               1.9           137    1   \n",
       "4                      0  327000.00               2.7           116    0   \n",
       "..                   ...        ...               ...           ...  ...   \n",
       "294                    1  155000.00               1.1           143    1   \n",
       "295                    0  270000.00               1.2           139    0   \n",
       "296                    0  742000.00               0.8           138    0   \n",
       "297                    0  140000.00               1.4           140    1   \n",
       "298                    0  395000.00               1.6           136    1   \n",
       "\n",
       "     smoking  time  DEATH_EVENT  \n",
       "0          0     4            1  \n",
       "1          0     6            1  \n",
       "2          1     7            1  \n",
       "3          0     7            1  \n",
       "4          0     8            1  \n",
       "..       ...   ...          ...  \n",
       "294        1   270            0  \n",
       "295        0   271            0  \n",
       "296        0   278            0  \n",
       "297        1   280            0  \n",
       "298        1   285            0  \n",
       "\n",
       "[299 rows x 13 columns]"
      ]
     },
     "execution_count": 3,
     "metadata": {},
     "output_type": "execute_result"
    }
   ],
   "source": [
    "dataset.head(300) "
   ]
  },
  {
   "cell_type": "code",
   "execution_count": 4,
   "metadata": {},
   "outputs": [
    {
     "data": {
      "text/plain": [
       "age                         float64\n",
       "anaemia                       int64\n",
       "creatinine_phosphokinase      int64\n",
       "diabetes                      int64\n",
       "ejection_fraction             int64\n",
       "high_blood_pressure           int64\n",
       "platelets                   float64\n",
       "serum_creatinine            float64\n",
       "serum_sodium                  int64\n",
       "sex                           int64\n",
       "smoking                       int64\n",
       "time                          int64\n",
       "DEATH_EVENT                   int64\n",
       "dtype: object"
      ]
     },
     "execution_count": 4,
     "metadata": {},
     "output_type": "execute_result"
    }
   ],
   "source": [
    "dataset.dtypes"
   ]
  },
  {
   "cell_type": "code",
   "execution_count": 5,
   "metadata": {},
   "outputs": [
    {
     "data": {
      "image/png": "[encoded data removed]",
      "text/plain": [
       "<Figure size 864x720 with 16 Axes>"
      ]
     },
     "metadata": {
      "needs_background": "light"
     },
     "output_type": "display_data"
    }
   ],
   "source": [
    "dataset.hist(bins=10,figsize=(12,10),grid=False);"
   ]
  },
  {
   "cell_type": "code",
   "execution_count": 6,
   "metadata": {},
   "outputs": [
    {
     "name": "stdout",
     "output_type": "stream",
     "text": [
      "<class 'pandas.core.frame.DataFrame'>\n",
      "RangeIndex: 299 entries, 0 to 298\n",
      "Data columns (total 13 columns):\n",
      "age                         299 non-null float64\n",
      "anaemia                     299 non-null int64\n",
      "creatinine_phosphokinase    299 non-null int64\n",
      "diabetes                    299 non-null int64\n",
      "ejection_fraction           299 non-null int64\n",
      "high_blood_pressure         299 non-null int64\n",
      "platelets                   299 non-null float64\n",
      "serum_creatinine            299 non-null float64\n",
      "serum_sodium                299 non-null int64\n",
      "sex                         299 non-null int64\n",
      "smoking                     299 non-null int64\n",
      "time                        299 non-null int64\n",
      "DEATH_EVENT                 299 non-null int64\n",
      "dtypes: float64(3), int64(10)\n",
      "memory usage: 30.5 KB\n"
     ]
    }
   ],
   "source": [
    "dataset.info()  #aucune valeur null"
   ]
  },
  {
   "cell_type": "code",
   "execution_count": 7,
   "metadata": {},
   "outputs": [
    {
     "data": {
      "text/plain": [
       "(299, 13)"
      ]
     },
     "execution_count": 7,
     "metadata": {},
     "output_type": "execute_result"
    }
   ],
   "source": [
    "dataset.shape"
   ]
  },
  {
   "cell_type": "code",
   "execution_count": 8,
   "metadata": {},
   "outputs": [
    {
     "data": {
      "text/html": [
       "<div>\n",
       "<style scoped>\n",
       "    .dataframe tbody tr th:only-of-type {\n",
       "        vertical-align: middle;\n",
       "    }\n",
       "\n",
       "    .dataframe tbody tr th {\n",
       "        vertical-align: top;\n",
       "    }\n",
       "\n",
       "    .dataframe thead th {\n",
       "        text-align: right;\n",
       "    }\n",
       "</style>\n",
       "<table border=\"1\" class=\"dataframe\">\n",
       "  <thead>\n",
       "    <tr style=\"text-align: right;\">\n",
       "      <th></th>\n",
       "      <th>age</th>\n",
       "      <th>anaemia</th>\n",
       "      <th>creatinine_phosphokinase</th>\n",
       "      <th>diabetes</th>\n",
       "      <th>ejection_fraction</th>\n",
       "      <th>high_blood_pressure</th>\n",
       "      <th>platelets</th>\n",
       "      <th>serum_creatinine</th>\n",
       "      <th>serum_sodium</th>\n",
       "      <th>sex</th>\n",
       "      <th>smoking</th>\n",
       "      <th>time</th>\n",
       "      <th>DEATH_EVENT</th>\n",
       "    </tr>\n",
       "  </thead>\n",
       "  <tbody>\n",
       "    <tr>\n",
       "      <th>count</th>\n",
       "      <td>299.000000</td>\n",
       "      <td>299.000000</td>\n",
       "      <td>299.000000</td>\n",
       "      <td>299.000000</td>\n",
       "      <td>299.000000</td>\n",
       "      <td>299.000000</td>\n",
       "      <td>299.000000</td>\n",
       "      <td>299.00000</td>\n",
       "      <td>299.000000</td>\n",
       "      <td>299.000000</td>\n",
       "      <td>299.00000</td>\n",
       "      <td>299.000000</td>\n",
       "      <td>299.00000</td>\n",
       "    </tr>\n",
       "    <tr>\n",
       "      <th>mean</th>\n",
       "      <td>60.833893</td>\n",
       "      <td>0.431438</td>\n",
       "      <td>581.839465</td>\n",
       "      <td>0.418060</td>\n",
       "      <td>38.083612</td>\n",
       "      <td>0.351171</td>\n",
       "      <td>263358.029264</td>\n",
       "      <td>1.39388</td>\n",
       "      <td>136.625418</td>\n",
       "      <td>0.648829</td>\n",
       "      <td>0.32107</td>\n",
       "      <td>130.260870</td>\n",
       "      <td>0.32107</td>\n",
       "    </tr>\n",
       "    <tr>\n",
       "      <th>std</th>\n",
       "      <td>11.894809</td>\n",
       "      <td>0.496107</td>\n",
       "      <td>970.287881</td>\n",
       "      <td>0.494067</td>\n",
       "      <td>11.834841</td>\n",
       "      <td>0.478136</td>\n",
       "      <td>97804.236869</td>\n",
       "      <td>1.03451</td>\n",
       "      <td>4.412477</td>\n",
       "      <td>0.478136</td>\n",
       "      <td>0.46767</td>\n",
       "      <td>77.614208</td>\n",
       "      <td>0.46767</td>\n",
       "    </tr>\n",
       "    <tr>\n",
       "      <th>min</th>\n",
       "      <td>40.000000</td>\n",
       "      <td>0.000000</td>\n",
       "      <td>23.000000</td>\n",
       "      <td>0.000000</td>\n",
       "      <td>14.000000</td>\n",
       "      <td>0.000000</td>\n",
       "      <td>25100.000000</td>\n",
       "      <td>0.50000</td>\n",
       "      <td>113.000000</td>\n",
       "      <td>0.000000</td>\n",
       "      <td>0.00000</td>\n",
       "      <td>4.000000</td>\n",
       "      <td>0.00000</td>\n",
       "    </tr>\n",
       "    <tr>\n",
       "      <th>25%</th>\n",
       "      <td>51.000000</td>\n",
       "      <td>0.000000</td>\n",
       "      <td>116.500000</td>\n",
       "      <td>0.000000</td>\n",
       "      <td>30.000000</td>\n",
       "      <td>0.000000</td>\n",
       "      <td>212500.000000</td>\n",
       "      <td>0.90000</td>\n",
       "      <td>134.000000</td>\n",
       "      <td>0.000000</td>\n",
       "      <td>0.00000</td>\n",
       "      <td>73.000000</td>\n",
       "      <td>0.00000</td>\n",
       "    </tr>\n",
       "    <tr>\n",
       "      <th>50%</th>\n",
       "      <td>60.000000</td>\n",
       "      <td>0.000000</td>\n",
       "      <td>250.000000</td>\n",
       "      <td>0.000000</td>\n",
       "      <td>38.000000</td>\n",
       "      <td>0.000000</td>\n",
       "      <td>262000.000000</td>\n",
       "      <td>1.10000</td>\n",
       "      <td>137.000000</td>\n",
       "      <td>1.000000</td>\n",
       "      <td>0.00000</td>\n",
       "      <td>115.000000</td>\n",
       "      <td>0.00000</td>\n",
       "    </tr>\n",
       "    <tr>\n",
       "      <th>75%</th>\n",
       "      <td>70.000000</td>\n",
       "      <td>1.000000</td>\n",
       "      <td>582.000000</td>\n",
       "      <td>1.000000</td>\n",
       "      <td>45.000000</td>\n",
       "      <td>1.000000</td>\n",
       "      <td>303500.000000</td>\n",
       "      <td>1.40000</td>\n",
       "      <td>140.000000</td>\n",
       "      <td>1.000000</td>\n",
       "      <td>1.00000</td>\n",
       "      <td>203.000000</td>\n",
       "      <td>1.00000</td>\n",
       "    </tr>\n",
       "    <tr>\n",
       "      <th>max</th>\n",
       "      <td>95.000000</td>\n",
       "      <td>1.000000</td>\n",
       "      <td>7861.000000</td>\n",
       "      <td>1.000000</td>\n",
       "      <td>80.000000</td>\n",
       "      <td>1.000000</td>\n",
       "      <td>850000.000000</td>\n",
       "      <td>9.40000</td>\n",
       "      <td>148.000000</td>\n",
       "      <td>1.000000</td>\n",
       "      <td>1.00000</td>\n",
       "      <td>285.000000</td>\n",
       "      <td>1.00000</td>\n",
       "    </tr>\n",
       "  </tbody>\n",
       "</table>\n",
       "</div>"
      ],
      "text/plain": [
       "              age     anaemia  creatinine_phosphokinase    diabetes  \\\n",
       "count  299.000000  299.000000                299.000000  299.000000   \n",
       "mean    60.833893    0.431438                581.839465    0.418060   \n",
       "std     11.894809    0.496107                970.287881    0.494067   \n",
       "min     40.000000    0.000000                 23.000000    0.000000   \n",
       "25%     51.000000    0.000000                116.500000    0.000000   \n",
       "50%     60.000000    0.000000                250.000000    0.000000   \n",
       "75%     70.000000    1.000000                582.000000    1.000000   \n",
       "max     95.000000    1.000000               7861.000000    1.000000   \n",
       "\n",
       "       ejection_fraction  high_blood_pressure      platelets  \\\n",
       "count         299.000000           299.000000     299.000000   \n",
       "mean           38.083612             0.351171  263358.029264   \n",
       "std            11.834841             0.478136   97804.236869   \n",
       "min            14.000000             0.000000   25100.000000   \n",
       "25%            30.000000             0.000000  212500.000000   \n",
       "50%            38.000000             0.000000  262000.000000   \n",
       "75%            45.000000             1.000000  303500.000000   \n",
       "max            80.000000             1.000000  850000.000000   \n",
       "\n",
       "       serum_creatinine  serum_sodium         sex    smoking        time  \\\n",
       "count         299.00000    299.000000  299.000000  299.00000  299.000000   \n",
       "mean            1.39388    136.625418    0.648829    0.32107  130.260870   \n",
       "std             1.03451      4.412477    0.478136    0.46767   77.614208   \n",
       "min             0.50000    113.000000    0.000000    0.00000    4.000000   \n",
       "25%             0.90000    134.000000    0.000000    0.00000   73.000000   \n",
       "50%             1.10000    137.000000    1.000000    0.00000  115.000000   \n",
       "75%             1.40000    140.000000    1.000000    1.00000  203.000000   \n",
       "max             9.40000    148.000000    1.000000    1.00000  285.000000   \n",
       "\n",
       "       DEATH_EVENT  \n",
       "count    299.00000  \n",
       "mean       0.32107  \n",
       "std        0.46767  \n",
       "min        0.00000  \n",
       "25%        0.00000  \n",
       "50%        0.00000  \n",
       "75%        1.00000  \n",
       "max        1.00000  "
      ]
     },
     "execution_count": 8,
     "metadata": {},
     "output_type": "execute_result"
    }
   ],
   "source": [
    "dataset.describe(include = 'all') # age: Age\n",
    "                                # anaemia: Decrease of red blood cells or hemoglobin (boolean)\n",
    "                                # creatinine_phosphokinase : Level of the CPK enzyme in the blood (mcg/L)\n",
    "                                # diabetes : If the patient has diabetes (boolean)\n",
    "                                # ejection_fraction : Percentage of blood leaving the heart at each contraction (percentage)\n",
    "                                # high_blood_pressure : If the patient has hypertension (boolean)\n",
    "                                # platelets : Platelets in the blood (kiloplatelets/mL)\n",
    "                                # serum_creatinine : Level of serum creatinine in the blood (mg/dL)\n",
    "                                # serum_sodium : Level of serum sodium in the blood (mEq/L)\n",
    "                                # sex : Woman or man (binary)\n",
    "                                # smoking : If the patient smokes or not (boolean)\n",
    "                                # time : Follow-up period (days)\n",
    "                                # DEATH_EVENT : If the patient deceased during the follow-up period (boolean)"
   ]
  },
  {
   "cell_type": "code",
   "execution_count": 9,
   "metadata": {},
   "outputs": [],
   "source": [
    "#Probablement besoin d'uniformiser les données car il y a des ratio de 0 à 1 et des valeurs énormes à coté"
   ]
  },
  {
   "cell_type": "code",
   "execution_count": 10,
   "metadata": {
    "scrolled": true
   },
   "outputs": [
    {
     "data": {
      "text/plain": [
       "\"\\n'time' et 'death_event'  :  tres corrélé\\n'sex' et 'smoking'       :  corrélé\\n\\n\""
      ]
     },
     "execution_count": 10,
     "metadata": {},
     "output_type": "execute_result"
    },
    {
     "data": {
      "image/png": "[encoded data removed]",
      "text/plain": [
       "<Figure size 1080x1080 with 2 Axes>"
      ]
     },
     "metadata": {
      "needs_background": "light"
     },
     "output_type": "display_data"
    }
   ],
   "source": [
    "plt.figure(figsize=(15,15))\n",
    "sns.heatmap(dataset.corr(), vmin=-1, annot=True);\n",
    "'''\n",
    "'time' et 'death_event'  :  tres corrélé\n",
    "'sex' et 'smoking'       :  corrélé\n",
    "\n",
    "'''\n",
    "## mais 'sex' et 'smoking' reste une information importante car \n",
    "## fumer peut avoir des conséquences sur la santé d'un patient"
   ]
  },
  {
   "cell_type": "code",
   "execution_count": 11,
   "metadata": {},
   "outputs": [
    {
     "name": "stdout",
     "output_type": "stream",
     "text": [
      "4 : 67.89\n",
      "5 : 68.23\n",
      "6 : 68.23\n",
      "7 : 68.56\n",
      "8 : 69.23\n",
      "9 : 69.90\n",
      "10 : 69.90\n",
      "11 : 71.91\n",
      "12 : 72.58\n",
      "13 : 72.24\n",
      "14 : 72.58\n",
      "15 : 73.24\n",
      "16 : 73.91\n",
      "17 : 73.58\n",
      "18 : 73.58\n",
      "19 : 73.58\n",
      "20 : 73.58\n",
      "21 : 74.25\n",
      "22 : 74.25\n",
      "23 : 73.91\n",
      "24 : 74.58\n",
      "25 : 74.92\n",
      "26 : 74.92\n",
      "27 : 75.92\n",
      "28 : 76.25\n",
      "29 : 76.92\n",
      "30 : 76.92\n",
      "31 : 77.93\n",
      "32 : 78.26\n",
      "33 : 78.60\n",
      "34 : 78.93\n",
      "35 : 78.93\n",
      "36 : 79.26\n",
      "37 : 79.26\n",
      "38 : 79.26\n",
      "39 : 79.60\n",
      "40 : 79.60\n",
      "41 : 79.93\n",
      "42 : 80.27\n",
      "43 : 80.60\n",
      "44 : 81.61\n",
      "45 : 81.94\n",
      "46 : 82.27\n",
      "47 : 82.27\n",
      "48 : 82.27\n",
      "49 : 82.27\n",
      "50 : 82.27\n",
      "51 : 82.61\n",
      "52 : 82.61\n",
      "53 : 82.61\n",
      "54 : 82.61\n",
      "55 : 81.94\n",
      "56 : 82.27\n",
      "57 : 82.27\n",
      "58 : 82.27\n",
      "59 : 82.27\n",
      "60 : 82.61\n",
      "61 : 82.94\n",
      "62 : 83.28\n",
      "63 : 83.28\n",
      "64 : 82.94\n",
      "65 : 83.28\n",
      "66 : 83.95\n",
      "67 : 84.28\n",
      "68 : 84.62\n",
      "69 : 84.28\n",
      "70 : 84.28\n",
      "71 : 84.28\n",
      "72 : 83.95\n",
      "73 : 83.95\n",
      "74 : 84.62\n",
      "75 : 83.28\n",
      "76 : 82.94\n",
      "77 : 82.61\n",
      "78 : 82.94\n",
      "79 : 82.94\n",
      "80 : 81.27\n",
      "81 : 80.60\n",
      "82 : 80.60\n",
      "83 : 80.60\n",
      "84 : 79.60\n",
      "85 : 79.60\n",
      "86 : 78.93\n",
      "87 : 78.60\n",
      "88 : 76.92\n",
      "89 : 75.92\n",
      "90 : 75.92\n",
      "91 : 75.92\n",
      "92 : 75.25\n",
      "93 : 75.25\n",
      "94 : 75.25\n",
      "95 : 74.25\n",
      "96 : 73.24\n",
      "97 : 73.58\n",
      "98 : 73.24\n",
      "99 : 73.24\n",
      "100 : 73.24\n",
      "101 : 73.58\n",
      "102 : 73.58\n",
      "103 : 73.58\n",
      "104 : 73.58\n",
      "105 : 72.91\n",
      "106 : 72.58\n",
      "107 : 72.24\n",
      "108 : 70.23\n",
      "109 : 69.23\n",
      "110 : 68.90\n",
      "111 : 68.56\n",
      "112 : 68.90\n",
      "113 : 68.23\n",
      "114 : 68.23\n",
      "115 : 68.23\n",
      "116 : 68.23\n",
      "117 : 68.23\n",
      "118 : 67.89\n",
      "119 : 67.56\n",
      "120 : 67.22\n",
      "121 : 65.89\n",
      "122 : 64.55\n",
      "123 : 64.55\n",
      "124 : 64.21\n",
      "125 : 64.21\n",
      "126 : 64.21\n",
      "127 : 64.55\n",
      "128 : 64.55\n",
      "129 : 64.55\n",
      "130 : 64.88\n",
      "131 : 65.22\n",
      "132 : 65.22\n",
      "133 : 65.22\n",
      "134 : 65.22\n",
      "135 : 64.88\n",
      "136 : 65.22\n",
      "137 : 65.22\n",
      "138 : 65.22\n",
      "139 : 65.22\n",
      "140 : 65.22\n",
      "141 : 64.88\n",
      "142 : 64.88\n",
      "143 : 64.88\n",
      "144 : 64.88\n",
      "145 : 64.88\n",
      "146 : 64.21\n",
      "147 : 62.54\n",
      "148 : 61.20\n",
      "149 : 60.87\n",
      "150 : 60.87\n",
      "151 : 61.20\n",
      "152 : 61.20\n",
      "153 : 61.20\n",
      "154 : 61.20\n",
      "155 : 61.54\n",
      "156 : 61.54\n",
      "157 : 61.54\n",
      "158 : 61.54\n",
      "159 : 61.54\n",
      "160 : 61.54\n",
      "161 : 61.54\n",
      "162 : 61.54\n",
      "163 : 61.87\n",
      "164 : 61.87\n",
      "165 : 61.87\n",
      "166 : 61.87\n",
      "167 : 61.87\n",
      "168 : 61.87\n",
      "169 : 61.87\n",
      "170 : 61.87\n",
      "171 : 62.21\n",
      "172 : 62.54\n",
      "173 : 62.88\n",
      "174 : 62.88\n",
      "175 : 61.87\n",
      "176 : 61.54\n",
      "177 : 61.54\n",
      "178 : 61.54\n",
      "179 : 61.54\n",
      "180 : 61.54\n",
      "181 : 61.87\n",
      "182 : 61.87\n",
      "183 : 61.87\n",
      "184 : 61.87\n",
      "185 : 61.87\n",
      "186 : 61.54\n",
      "187 : 59.53\n",
      "188 : 57.19\n",
      "189 : 56.86\n",
      "190 : 56.86\n",
      "191 : 56.86\n",
      "192 : 56.86\n",
      "193 : 56.19\n",
      "194 : 56.52\n",
      "195 : 56.19\n",
      "196 : 55.85\n",
      "197 : 55.85\n",
      "198 : 55.18\n",
      "199 : 55.52\n",
      "200 : 55.52\n",
      "201 : 55.18\n",
      "202 : 54.52\n",
      "203 : 54.52\n",
      "204 : 54.52\n",
      "205 : 54.52\n",
      "206 : 53.51\n",
      "207 : 53.18\n",
      "208 : 52.84\n",
      "209 : 52.51\n",
      "210 : 50.84\n",
      "211 : 50.17\n",
      "212 : 49.83\n",
      "213 : 48.83\n",
      "214 : 47.83\n",
      "215 : 46.82\n",
      "216 : 45.48\n",
      "217 : 45.15\n",
      "218 : 45.15\n",
      "219 : 45.15\n",
      "220 : 45.15\n",
      "221 : 44.82\n",
      "222 : 44.82\n",
      "223 : 44.82\n",
      "224 : 44.82\n",
      "225 : 44.82\n",
      "226 : 44.82\n",
      "227 : 44.82\n",
      "228 : 44.82\n",
      "229 : 44.82\n",
      "230 : 44.82\n",
      "231 : 44.15\n",
      "232 : 43.81\n",
      "233 : 43.81\n",
      "234 : 43.14\n",
      "235 : 43.14\n",
      "236 : 43.48\n",
      "237 : 43.48\n",
      "238 : 42.81\n",
      "239 : 42.81\n",
      "240 : 42.81\n",
      "241 : 42.47\n",
      "242 : 42.81\n",
      "243 : 42.81\n",
      "244 : 42.81\n",
      "245 : 41.14\n",
      "246 : 39.46\n",
      "247 : 38.46\n",
      "248 : 38.13\n",
      "249 : 38.13\n",
      "250 : 38.13\n",
      "251 : 35.79\n",
      "252 : 35.79\n",
      "253 : 35.79\n",
      "254 : 35.79\n",
      "255 : 35.79\n",
      "256 : 35.79\n",
      "257 : 35.12\n",
      "258 : 34.78\n",
      "259 : 34.11\n",
      "260 : 34.11\n",
      "261 : 34.11\n",
      "262 : 34.11\n",
      "263 : 34.11\n",
      "264 : 34.11\n",
      "265 : 34.11\n",
      "266 : 34.11\n",
      "267 : 34.11\n",
      "268 : 34.11\n",
      "269 : 34.11\n",
      "270 : 34.11\n",
      "271 : 33.44\n",
      "272 : 33.11\n",
      "273 : 33.11\n",
      "274 : 33.11\n",
      "275 : 33.11\n",
      "276 : 33.11\n",
      "277 : 33.11\n",
      "278 : 33.11\n",
      "279 : 32.78\n",
      "280 : 32.78\n",
      "281 : 32.44\n",
      "282 : 32.44\n",
      "283 : 32.44\n",
      "284 : 32.44\n",
      "285 : 32.44\n"
     ]
    }
   ],
   "source": [
    "#'TIME' corréleé avec 'DEATH_EVENT' ?  => verifions  \n",
    "le_temps = []\n",
    "score_temps = []\n",
    "for i in range(dataset['time'].min(),dataset['time'].max()+1):\n",
    "    score_res= 100*np.mean((dataset['time'].to_numpy() < i) == dataset['DEATH_EVENT'].to_numpy())\n",
    "    print('%i : %.2f'%(i,score_res))\n",
    "    le_temps.append(i)\n",
    "    score_temps.append(score_res)\n"
   ]
  },
  {
   "cell_type": "code",
   "execution_count": 12,
   "metadata": {},
   "outputs": [
    {
     "data": {
      "text/plain": [
       "[<matplotlib.lines.Line2D at 0x7f850316b7c0>]"
      ]
     },
     "execution_count": 12,
     "metadata": {},
     "output_type": "execute_result"
    },
    {
     "data": {
      "image/png": "[encoded data removed]",
      "text/plain": [
       "<Figure size 432x288 with 1 Axes>"
      ]
     },
     "metadata": {
      "needs_background": "light"
     },
     "output_type": "display_data"
    }
   ],
   "source": [
    "plt.plot(le_temps,score_temps)\n",
    "## on voit la courbe atteint un pic à 84% ce qui signifie que la majorité \n",
    "## des patients sont mort avant le 'time' (jour) 74.\n",
    "## le feature 'time' et bien corrélé à notre label 'DEATH_EVENT'\n",
    "## De plus on ne cheche pas à prédire le jour où le patient est mort\n",
    "## mais prédire si il va mourir où pas\n"
   ]
  },
  {
   "cell_type": "code",
   "execution_count": 13,
   "metadata": {
    "scrolled": true
   },
   "outputs": [
    {
     "data": {
      "text/html": [
       "<div>\n",
       "<style scoped>\n",
       "    .dataframe tbody tr th:only-of-type {\n",
       "        vertical-align: middle;\n",
       "    }\n",
       "\n",
       "    .dataframe tbody tr th {\n",
       "        vertical-align: top;\n",
       "    }\n",
       "\n",
       "    .dataframe thead th {\n",
       "        text-align: right;\n",
       "    }\n",
       "</style>\n",
       "<table border=\"1\" class=\"dataframe\">\n",
       "  <thead>\n",
       "    <tr style=\"text-align: right;\">\n",
       "      <th></th>\n",
       "      <th>age</th>\n",
       "      <th>anaemia</th>\n",
       "      <th>creatinine_phosphokinase</th>\n",
       "      <th>diabetes</th>\n",
       "      <th>ejection_fraction</th>\n",
       "      <th>high_blood_pressure</th>\n",
       "      <th>platelets</th>\n",
       "      <th>serum_creatinine</th>\n",
       "      <th>serum_sodium</th>\n",
       "      <th>sex</th>\n",
       "      <th>smoking</th>\n",
       "      <th>DEATH_EVENT</th>\n",
       "    </tr>\n",
       "  </thead>\n",
       "  <tbody>\n",
       "    <tr>\n",
       "      <th>0</th>\n",
       "      <td>75.0</td>\n",
       "      <td>0</td>\n",
       "      <td>582</td>\n",
       "      <td>0</td>\n",
       "      <td>20</td>\n",
       "      <td>1</td>\n",
       "      <td>265000.00</td>\n",
       "      <td>1.9</td>\n",
       "      <td>130</td>\n",
       "      <td>1</td>\n",
       "      <td>0</td>\n",
       "      <td>1</td>\n",
       "    </tr>\n",
       "    <tr>\n",
       "      <th>1</th>\n",
       "      <td>55.0</td>\n",
       "      <td>0</td>\n",
       "      <td>7861</td>\n",
       "      <td>0</td>\n",
       "      <td>38</td>\n",
       "      <td>0</td>\n",
       "      <td>263358.03</td>\n",
       "      <td>1.1</td>\n",
       "      <td>136</td>\n",
       "      <td>1</td>\n",
       "      <td>0</td>\n",
       "      <td>1</td>\n",
       "    </tr>\n",
       "    <tr>\n",
       "      <th>2</th>\n",
       "      <td>65.0</td>\n",
       "      <td>0</td>\n",
       "      <td>146</td>\n",
       "      <td>0</td>\n",
       "      <td>20</td>\n",
       "      <td>0</td>\n",
       "      <td>162000.00</td>\n",
       "      <td>1.3</td>\n",
       "      <td>129</td>\n",
       "      <td>1</td>\n",
       "      <td>1</td>\n",
       "      <td>1</td>\n",
       "    </tr>\n",
       "    <tr>\n",
       "      <th>3</th>\n",
       "      <td>50.0</td>\n",
       "      <td>1</td>\n",
       "      <td>111</td>\n",
       "      <td>0</td>\n",
       "      <td>20</td>\n",
       "      <td>0</td>\n",
       "      <td>210000.00</td>\n",
       "      <td>1.9</td>\n",
       "      <td>137</td>\n",
       "      <td>1</td>\n",
       "      <td>0</td>\n",
       "      <td>1</td>\n",
       "    </tr>\n",
       "    <tr>\n",
       "      <th>4</th>\n",
       "      <td>65.0</td>\n",
       "      <td>1</td>\n",
       "      <td>160</td>\n",
       "      <td>1</td>\n",
       "      <td>20</td>\n",
       "      <td>0</td>\n",
       "      <td>327000.00</td>\n",
       "      <td>2.7</td>\n",
       "      <td>116</td>\n",
       "      <td>0</td>\n",
       "      <td>0</td>\n",
       "      <td>1</td>\n",
       "    </tr>\n",
       "  </tbody>\n",
       "</table>\n",
       "</div>"
      ],
      "text/plain": [
       "    age  anaemia  creatinine_phosphokinase  diabetes  ejection_fraction  \\\n",
       "0  75.0        0                       582         0                 20   \n",
       "1  55.0        0                      7861         0                 38   \n",
       "2  65.0        0                       146         0                 20   \n",
       "3  50.0        1                       111         0                 20   \n",
       "4  65.0        1                       160         1                 20   \n",
       "\n",
       "   high_blood_pressure  platelets  serum_creatinine  serum_sodium  sex  \\\n",
       "0                    1  265000.00               1.9           130    1   \n",
       "1                    0  263358.03               1.1           136    1   \n",
       "2                    0  162000.00               1.3           129    1   \n",
       "3                    0  210000.00               1.9           137    1   \n",
       "4                    0  327000.00               2.7           116    0   \n",
       "\n",
       "   smoking  DEATH_EVENT  \n",
       "0        0            1  \n",
       "1        0            1  \n",
       "2        1            1  \n",
       "3        0            1  \n",
       "4        0            1  "
      ]
     },
     "execution_count": 13,
     "metadata": {},
     "output_type": "execute_result"
    }
   ],
   "source": [
    "# On decide donc de supprimer time \n",
    "\n",
    "dataset.drop('time', axis=1, inplace=True)\n",
    "\n",
    "dataset.head(5)"
   ]
  },
  {
   "cell_type": "markdown",
   "metadata": {},
   "source": [
    "<h2> L'AGE un indicateur de mort </h2>"
   ]
  },
  {
   "cell_type": "code",
   "execution_count": 14,
   "metadata": {},
   "outputs": [],
   "source": [
    "\n",
    "dataset['age']= dataset['age'].astype(int) # convertit age floattant en int\n",
    "mort_l=dataset[\"DEATH_EVENT\"]\n",
    "age_l = dataset[\"age\"]  \n",
    "sex_l = dataset[\"sex\"]\n",
    "diabete_l = dataset[\"diabetes\"]\n",
    "anemie_l = dataset[\"anaemia\"]\n",
    "tout_les_ages= dataset['age']"
   ]
  },
  {
   "cell_type": "code",
   "execution_count": 15,
   "metadata": {},
   "outputs": [
    {
     "data": {
      "text/plain": [
       "[<matplotlib.lines.Line2D at 0x7f8505569a60>]"
      ]
     },
     "execution_count": 15,
     "metadata": {},
     "output_type": "execute_result"
    },
    {
     "data": {
      "image/png": "[encoded data removed]",
      "text/plain": [
       "<Figure size 432x288 with 1 Axes>"
      ]
     },
     "metadata": {
      "needs_background": "light"
     },
     "output_type": "display_data"
    }
   ],
   "source": [
    "l_age_res = []\n",
    "l_moy_res= []\n",
    "for i in np.unique(tout_les_ages): \n",
    "    age_t = dataset['age'] ==i\n",
    "    moy = round(100*np.mean(dataset['DEATH_EVENT'][age_t]))\n",
    "    l_age_res.append(i)\n",
    "    l_moy_res.append(moy)\n",
    "    #print(\"age = \", i ,\" score Mort= \", moy, \"nb pers = \", np.sum(age_t))\n",
    "plt.plot(l_age_res, l_moy_res)\n",
    "\n",
    "## pas vraiment significatif car le nombre de patient\n",
    "## n'est pas le meme pour deux ages différents\n",
    "#ex: 2 patients qui ont 48 ans et les 2 sont mort\n",
    "##  vs 35 patients pour 60 ans\n"
   ]
  },
  {
   "cell_type": "markdown",
   "metadata": {},
   "source": [
    "<h2> Verifions si le SEX un indicateur de mort </h2>"
   ]
  },
  {
   "cell_type": "code",
   "execution_count": 17,
   "metadata": {},
   "outputs": [],
   "source": [
    "homme = dataset['sex']==1\n",
    "femme = dataset['sex'] ==0\n",
    "homme_morts = dataset['DEATH_EVENT'][homme] == 1\n",
    "femme_morts= dataset['DEATH_EVENT'][femme] == 1\n",
    "homme_vivants = dataset['DEATH_EVENT'][homme] == 0\n",
    "femme_vivantes = dataset['DEATH_EVENT'][femme] == 0\n",
    "#print(\"nb Homme =\", np.sum(homme) ,\"nb Femme = \", np.sum(femme))\n",
    "#print(\"nb Homme morts =\", np.sum(homme_morts) ,\"nb Femme morts = \", np.sum(femme_morts))\n",
    "\n",
    "#print(\"nb Homme =\", np.sum(homme) ,\"nb Femme = \", np.sum(femme))\n",
    "#print(\"nb Homme morts =\", np.sum(homme_morts) ,\"nb Femme morts = \", np.sum(femme_morts))\n"
   ]
  },
  {
   "cell_type": "code",
   "execution_count": 18,
   "metadata": {},
   "outputs": [
    {
     "data": {
      "image/png": "[encoded data removed]",
      "text/plain": [
       "<Figure size 432x288 with 1 Axes>"
      ]
     },
     "metadata": {},
     "output_type": "display_data"
    }
   ],
   "source": [
    "#petite représentation\n",
    "labels = 'homme en vie', 'homme_dead', 'femme en vie', 'femme_dead' \n",
    "sizes = [np.sum(homme_vivants), np.sum(homme_morts),np.sum(femme_vivantes),np.sum(femme_morts)]\n",
    "\n",
    "plt.pie(sizes, labels=labels, autopct='%1.1f%%', shadow=True, startangle=90)\n",
    "\n",
    "plt.axis('equal')\n",
    "\n",
    "plt.show()\n",
    "\n",
    "#A commenter"
   ]
  },
  {
   "cell_type": "markdown",
   "metadata": {},
   "source": [
    "<h2> Verifions si le DIABETE un indicateur de mort </h2>"
   ]
  },
  {
   "cell_type": "code",
   "execution_count": 19,
   "metadata": {},
   "outputs": [],
   "source": [
    "les_diabetiques = dataset['diabetes'] == 1\n",
    "les_non_diabetiques = dataset['diabetes'] == 0\n",
    "diabetes_mort = dataset['DEATH_EVENT'][les_diabetiques]  == 1 \n",
    "non_diabetique_mort = dataset['DEATH_EVENT'][les_non_diabetiques]  == 1\n",
    "diabetes_vivant = dataset['DEATH_EVENT'][les_diabetiques]  == 0\n",
    "non_diabetique_vivant = dataset['DEATH_EVENT'][les_non_diabetiques]  == 0\n",
    "\n"
   ]
  },
  {
   "cell_type": "code",
   "execution_count": 20,
   "metadata": {},
   "outputs": [
    {
     "data": {
      "image/png": "[encoded data removed]",
      "text/plain": [
       "<Figure size 432x288 with 1 Axes>"
      ]
     },
     "metadata": {},
     "output_type": "display_data"
    },
    {
     "data": {
      "text/plain": [
       "(2.125, 2.107142857142857)"
      ]
     },
     "execution_count": 20,
     "metadata": {},
     "output_type": "execute_result"
    }
   ],
   "source": [
    "#petite représentation\n",
    "labels = 'diabetiques vivants', 'non-diabetiques vivants', 'non diabetiques mort' , 'diabetiques mort'\n",
    "sizes = [np.sum(diabetes_vivant), np.sum(non_diabetique_vivant),np.sum(non_diabetique_mort),np.sum(diabetes_mort)]\n",
    "\n",
    "plt.pie(sizes, labels=labels,  autopct='%1.1f%%', shadow=True, startangle=90)\n",
    "\n",
    "plt.axis('equal')\n",
    "\n",
    "plt.show()\n",
    "\n",
    "#A commenter\n",
    "np.sum(diabetes_vivant)/np.sum(diabetes_mort),np.sum(non_diabetique_vivant)/ np.sum(non_diabetique_mort)"
   ]
  },
  {
   "cell_type": "markdown",
   "metadata": {},
   "source": [
    "<h2> Verifions si l'anémie est indicateur de mort</h2>"
   ]
  },
  {
   "cell_type": "code",
   "execution_count": 21,
   "metadata": {},
   "outputs": [],
   "source": [
    "anemie_true = dataset[\"anaemia\"] ==1\n",
    "anemie_false = dataset[\"anaemia\"]  ==0\n",
    "anemia_mort = dataset['DEATH_EVENT'][anemie_true] == 1\n",
    "non_anemia_mort = dataset['DEATH_EVENT'][anemie_false] == 1\n",
    "anemia_vivant = dataset['DEATH_EVENT'][anemie_true] == 0\n",
    "non_anemia_vivant = dataset['DEATH_EVENT'][anemie_false] == 0"
   ]
  },
  {
   "cell_type": "code",
   "execution_count": 22,
   "metadata": {},
   "outputs": [
    {
     "data": {
      "image/png": "[encoded data removed]",
      "text/plain": [
       "<Figure size 432x288 with 1 Axes>"
      ]
     },
     "metadata": {},
     "output_type": "display_data"
    },
    {
     "data": {
      "text/plain": [
       "(1.8043478260869565, 2.4)"
      ]
     },
     "execution_count": 22,
     "metadata": {},
     "output_type": "execute_result"
    }
   ],
   "source": [
    "#petite représentation\n",
    "labels = 'atteint anemie', 'anemie mort', 'non-atteint','non anemie mort'\n",
    "sizes = [np.sum(anemia_vivant), np.sum(anemia_mort),np.sum(non_anemia_vivant),np.sum(non_anemia_mort)]\n",
    "\n",
    "plt.pie(sizes, labels=labels,  autopct='%1.1f%%', shadow=True, startangle=90)\n",
    "\n",
    "plt.axis('equal')\n",
    "\n",
    "plt.show()\n",
    "\n",
    "#A commenter\n",
    "## 11.6 % des 32.7% sont mort atteint d'anemie\n",
    "## 12.7 % des 43.0% sont mort non atteint d'anemie\n",
    "np.sum(anemia_vivant)/np.sum(anemia_mort),np.sum(non_anemia_vivant)/ np.sum(non_anemia_mort)"
   ]
  },
  {
   "cell_type": "markdown",
   "metadata": {},
   "source": [
    "\n"
   ]
  },
  {
   "cell_type": "markdown",
   "metadata": {},
   "source": [
    "<h2> Avoir une pression artériel élévé (high_blood_pressure) indicateur de mort :  </h2>"
   ]
  },
  {
   "cell_type": "code",
   "execution_count": 23,
   "metadata": {},
   "outputs": [],
   "source": [
    "hpb_true = dataset[\"high_blood_pressure\"] ==1\n",
    "hpb_false = dataset[\"high_blood_pressure\"]  ==0\n",
    "hpb_mort = dataset['DEATH_EVENT'][hpb_true] == 1\n",
    "non_hpb_mort = dataset['DEATH_EVENT'][hpb_false] == 1\n",
    "hpb_vivant = dataset['DEATH_EVENT'][hpb_true] == 0\n",
    "non_hpb_vivant = dataset['DEATH_EVENT'][hpb_false] == 0"
   ]
  },
  {
   "cell_type": "code",
   "execution_count": 24,
   "metadata": {},
   "outputs": [
    {
     "data": {
      "image/png": "[encoded data removed]",
      "text/plain": [
       "<Figure size 432x288 with 1 Axes>"
      ]
     },
     "metadata": {},
     "output_type": "display_data"
    }
   ],
   "source": [
    "#petite représentation\n",
    "labels = 'atteint hpb', 'hpb mort', 'non-atteint','non hpb mort'\n",
    "sizes = [np.sum(hpb_vivant), np.sum(hpb_mort),np.sum(non_hpb_vivant),np.sum(non_hpb_mort)]\n",
    "\n",
    "plt.pie(sizes, labels=labels,  autopct='%1.1f%%', shadow=True, startangle=90)\n",
    "\n",
    "plt.axis('equal')\n",
    "\n",
    "plt.show()\n",
    "#To Do  \n",
    "#A commenter"
   ]
  },
  {
   "cell_type": "markdown",
   "metadata": {},
   "source": [
    "<h2>Fumer est-il un indicateur de mort ? </h2>"
   ]
  },
  {
   "cell_type": "code",
   "execution_count": 25,
   "metadata": {},
   "outputs": [],
   "source": [
    "fumeur_true = dataset[\"smoking\"] ==1\n",
    "fumeur_false = dataset[\"smoking\"]  ==0\n",
    "fumeur_mort = dataset['DEATH_EVENT'][fumeur_true] == 1\n",
    "non_fumeur_mort = dataset['DEATH_EVENT'][fumeur_false] == 1\n",
    "fumeur_vivant = dataset['DEATH_EVENT'][fumeur_true] == 0\n",
    "non_fumeur_vivant = dataset['DEATH_EVENT'][fumeur_false] == 0"
   ]
  },
  {
   "cell_type": "code",
   "execution_count": 26,
   "metadata": {},
   "outputs": [
    {
     "data": {
      "image/png": "[encoded data removed]",
      "text/plain": [
       "<Figure size 432x288 with 1 Axes>"
      ]
     },
     "metadata": {},
     "output_type": "display_data"
    }
   ],
   "source": [
    "#petite représentation\n",
    "labels = 'fumeur', 'fumeur mort', 'non-fumeur','non fumeur mort'\n",
    "sizes = [np.sum(fumeur_vivant), np.sum(fumeur_mort),np.sum(non_fumeur_vivant),np.sum(non_fumeur_mort)]\n",
    "\n",
    "plt.pie(sizes, labels=labels,  autopct='%1.1f%%', shadow=True, startangle=90)\n",
    "\n",
    "plt.axis('equal')\n",
    "\n",
    "plt.show()"
   ]
  },
  {
   "cell_type": "markdown",
   "metadata": {},
   "source": [
    "<h2>Etude de la plus grande corrélation: SERUM_CREATINE </h2>"
   ]
  },
  {
   "cell_type": "markdown",
   "metadata": {},
   "source": [
    "le taux de créatinine:<br>\n",
    "-0.7 à 1.4 mg/dl homme normalement<br>\n",
    "-0.6 à 1.1 mg/dl pour la femme <br>\n"
   ]
  },
  {
   "cell_type": "code",
   "execution_count": 27,
   "metadata": {},
   "outputs": [
    {
     "data": {
      "text/html": [
       "<div>\n",
       "<style scoped>\n",
       "    .dataframe tbody tr th:only-of-type {\n",
       "        vertical-align: middle;\n",
       "    }\n",
       "\n",
       "    .dataframe tbody tr th {\n",
       "        vertical-align: top;\n",
       "    }\n",
       "\n",
       "    .dataframe thead th {\n",
       "        text-align: right;\n",
       "    }\n",
       "</style>\n",
       "<table border=\"1\" class=\"dataframe\">\n",
       "  <thead>\n",
       "    <tr style=\"text-align: right;\">\n",
       "      <th></th>\n",
       "      <th>age</th>\n",
       "      <th>anaemia</th>\n",
       "      <th>creatinine_phosphokinase</th>\n",
       "      <th>diabetes</th>\n",
       "      <th>ejection_fraction</th>\n",
       "      <th>high_blood_pressure</th>\n",
       "      <th>platelets</th>\n",
       "      <th>serum_creatinine</th>\n",
       "      <th>serum_sodium</th>\n",
       "      <th>sex</th>\n",
       "      <th>smoking</th>\n",
       "      <th>DEATH_EVENT</th>\n",
       "    </tr>\n",
       "  </thead>\n",
       "  <tbody>\n",
       "    <tr>\n",
       "      <th>0</th>\n",
       "      <td>75</td>\n",
       "      <td>0</td>\n",
       "      <td>582</td>\n",
       "      <td>0</td>\n",
       "      <td>20</td>\n",
       "      <td>1</td>\n",
       "      <td>265000.00</td>\n",
       "      <td>1.9</td>\n",
       "      <td>130</td>\n",
       "      <td>1</td>\n",
       "      <td>0</td>\n",
       "      <td>1</td>\n",
       "    </tr>\n",
       "    <tr>\n",
       "      <th>1</th>\n",
       "      <td>55</td>\n",
       "      <td>0</td>\n",
       "      <td>7861</td>\n",
       "      <td>0</td>\n",
       "      <td>38</td>\n",
       "      <td>0</td>\n",
       "      <td>263358.03</td>\n",
       "      <td>1.1</td>\n",
       "      <td>136</td>\n",
       "      <td>1</td>\n",
       "      <td>0</td>\n",
       "      <td>1</td>\n",
       "    </tr>\n",
       "    <tr>\n",
       "      <th>2</th>\n",
       "      <td>65</td>\n",
       "      <td>0</td>\n",
       "      <td>146</td>\n",
       "      <td>0</td>\n",
       "      <td>20</td>\n",
       "      <td>0</td>\n",
       "      <td>162000.00</td>\n",
       "      <td>1.3</td>\n",
       "      <td>129</td>\n",
       "      <td>1</td>\n",
       "      <td>1</td>\n",
       "      <td>1</td>\n",
       "    </tr>\n",
       "    <tr>\n",
       "      <th>3</th>\n",
       "      <td>50</td>\n",
       "      <td>1</td>\n",
       "      <td>111</td>\n",
       "      <td>0</td>\n",
       "      <td>20</td>\n",
       "      <td>0</td>\n",
       "      <td>210000.00</td>\n",
       "      <td>1.9</td>\n",
       "      <td>137</td>\n",
       "      <td>1</td>\n",
       "      <td>0</td>\n",
       "      <td>1</td>\n",
       "    </tr>\n",
       "    <tr>\n",
       "      <th>4</th>\n",
       "      <td>65</td>\n",
       "      <td>1</td>\n",
       "      <td>160</td>\n",
       "      <td>1</td>\n",
       "      <td>20</td>\n",
       "      <td>0</td>\n",
       "      <td>327000.00</td>\n",
       "      <td>2.7</td>\n",
       "      <td>116</td>\n",
       "      <td>0</td>\n",
       "      <td>0</td>\n",
       "      <td>1</td>\n",
       "    </tr>\n",
       "  </tbody>\n",
       "</table>\n",
       "</div>"
      ],
      "text/plain": [
       "   age  anaemia  creatinine_phosphokinase  diabetes  ejection_fraction  \\\n",
       "0   75        0                       582         0                 20   \n",
       "1   55        0                      7861         0                 38   \n",
       "2   65        0                       146         0                 20   \n",
       "3   50        1                       111         0                 20   \n",
       "4   65        1                       160         1                 20   \n",
       "\n",
       "   high_blood_pressure  platelets  serum_creatinine  serum_sodium  sex  \\\n",
       "0                    1  265000.00               1.9           130    1   \n",
       "1                    0  263358.03               1.1           136    1   \n",
       "2                    0  162000.00               1.3           129    1   \n",
       "3                    0  210000.00               1.9           137    1   \n",
       "4                    0  327000.00               2.7           116    0   \n",
       "\n",
       "   smoking  DEATH_EVENT  \n",
       "0        0            1  \n",
       "1        0            1  \n",
       "2        1            1  \n",
       "3        0            1  \n",
       "4        0            1  "
      ]
     },
     "execution_count": 27,
     "metadata": {},
     "output_type": "execute_result"
    }
   ],
   "source": [
    "dataset.head()"
   ]
  },
  {
   "cell_type": "markdown",
   "metadata": {},
   "source": [
    "<h2>Homme cerum NORMAL vs HOMME cerum anormal</h2>"
   ]
  },
  {
   "cell_type": "code",
   "execution_count": 28,
   "metadata": {},
   "outputs": [],
   "source": [
    "cerum_normal = dataset[(dataset[\"serum_creatinine\"] >= 0.7) & (dataset[\"serum_creatinine\"] <= 1.4)][\"serum_creatinine\"]\n",
    "cerum_anormal =  dataset[(dataset[\"serum_creatinine\"] < 0.7) | (dataset[\"serum_creatinine\"] > 1.4)][\"serum_creatinine\"]\n",
    "\n",
    "homme = dataset['sex']==1\n",
    "\n",
    "\n",
    "cerum_anormal_homme = cerum_anormal[homme]\n",
    "cerum_anormal_homme_vivant =  (dataset[\"DEATH_EVENT\"] & cerum_anormal_homme) == 0\n",
    "cerum_anormal_homme_mort =  (dataset[\"DEATH_EVENT\"] & cerum_anormal_homme) == 1\n",
    "\n",
    "cerum_normal_homme = cerum_normal[homme]\n",
    "cerum_normal_homme_vivant = (dataset[\"DEATH_EVENT\"] & cerum_normal_homme) == 0\n",
    "cerum_normal_homme_mort =  (dataset[\"DEATH_EVENT\"] & cerum_normal_homme) == 1\n",
    " "
   ]
  },
  {
   "cell_type": "code",
   "execution_count": 29,
   "metadata": {},
   "outputs": [
    {
     "data": {
      "text/plain": [
       "((51,), (143,))"
      ]
     },
     "execution_count": 29,
     "metadata": {},
     "output_type": "execute_result"
    }
   ],
   "source": [
    "cerum_anormal[homme].shape,cerum_normal[homme].shape  # 194 Hommes"
   ]
  },
  {
   "cell_type": "code",
   "execution_count": 30,
   "metadata": {},
   "outputs": [
    {
     "data": {
      "text/plain": [
       "62"
      ]
     },
     "execution_count": 30,
     "metadata": {},
     "output_type": "execute_result"
    }
   ],
   "source": [
    "np.sum(dataset[\"DEATH_EVENT\"][homme])   # 62  homme morts au total"
   ]
  },
  {
   "cell_type": "code",
   "execution_count": 31,
   "metadata": {},
   "outputs": [
    {
     "data": {
      "text/plain": [
       "62"
      ]
     },
     "execution_count": 31,
     "metadata": {},
     "output_type": "execute_result"
    }
   ],
   "source": [
    "np.sum(cerum_anormal_homme_mort) + np.sum(cerum_normal_homme_mort)  #62 bien mort "
   ]
  },
  {
   "cell_type": "code",
   "execution_count": 32,
   "metadata": {
    "scrolled": true
   },
   "outputs": [
    {
     "data": {
      "image/png": "[encoded data removed]",
      "text/plain": [
       "<Figure size 432x288 with 1 Axes>"
      ]
     },
     "metadata": {},
     "output_type": "display_data"
    }
   ],
   "source": [
    "#petite représentation\n",
    "labels = 'cerum_anormal_vivant', 'cerum_anormal_mort', \n",
    "sizes = [np.sum(cerum_anormal_homme_vivant), np.sum(cerum_anormal_homme_mort) ]\n",
    "\n",
    "plt.pie(sizes, labels=labels,  autopct='%1.1f%%', shadow=True, startangle=90)\n",
    "\n",
    "plt.axis('equal')\n",
    "\n",
    "plt.show()"
   ]
  },
  {
   "cell_type": "code",
   "execution_count": 33,
   "metadata": {},
   "outputs": [
    {
     "data": {
      "text/plain": [
       "(271, 28)"
      ]
     },
     "execution_count": 33,
     "metadata": {},
     "output_type": "execute_result"
    }
   ],
   "source": [
    "(np.sum(cerum_anormal_homme_vivant), np.sum(cerum_anormal_homme_mort))  # 28 cerum anormal mort, 271 en vie"
   ]
  },
  {
   "cell_type": "code",
   "execution_count": 34,
   "metadata": {},
   "outputs": [
    {
     "data": {
      "image/png": "[encoded data removed]",
      "text/plain": [
       "<Figure size 432x288 with 1 Axes>"
      ]
     },
     "metadata": {},
     "output_type": "display_data"
    }
   ],
   "source": [
    "#petite représentation\n",
    "labels = 'cerum normal homme', 'cerum normal_mort homme', \n",
    "sizes = [np.sum(cerum_normal_homme_vivant), np.sum(cerum_normal_homme_mort) ]\n",
    "\n",
    "plt.pie(sizes, labels=labels,  autopct='%1.1f%%', shadow=True, startangle=90)\n",
    "\n",
    "plt.axis('equal')\n",
    "\n",
    "plt.show()"
   ]
  },
  {
   "cell_type": "code",
   "execution_count": 35,
   "metadata": {},
   "outputs": [
    {
     "data": {
      "text/plain": [
       "(265, 34)"
      ]
     },
     "execution_count": 35,
     "metadata": {},
     "output_type": "execute_result"
    }
   ],
   "source": [
    "(np.sum(cerum_normal_homme_vivant), np.sum(cerum_normal_homme_mort))  # 34 cerum normal mort , 265 en vie"
   ]
  },
  {
   "cell_type": "code",
   "execution_count": 36,
   "metadata": {},
   "outputs": [
    {
     "data": {
      "image/png": "[encoded data removed]",
      "text/plain": [
       "<Figure size 432x288 with 1 Axes>"
      ]
     },
     "metadata": {},
     "output_type": "display_data"
    }
   ],
   "source": [
    "#petite représentation\n",
    "labels = 'cerum_anormal vivant', 'cerum_anormal_mort', 'cerum_normal vivant','cerum normal mort'\n",
    "sizes = [np.sum(cerum_anormal_homme_vivant), np.sum(cerum_anormal_homme_mort),np.sum(cerum_normal_homme_vivant),np.sum(cerum_normal_homme_mort)]\n",
    "\n",
    "plt.pie(sizes, labels=labels,  autopct='%1.1f%%', shadow=True, startangle=90)\n",
    "\n",
    "plt.axis('equal')\n",
    "\n",
    "plt.show()"
   ]
  },
  {
   "cell_type": "markdown",
   "metadata": {},
   "source": [
    "<h2>Femme cerum NORMAL vs Femme cerum anormal</h2>"
   ]
  },
  {
   "cell_type": "markdown",
   "metadata": {},
   "source": [
    "-0.6 à 1.1 mg/dl pour la femme"
   ]
  },
  {
   "cell_type": "code",
   "execution_count": 37,
   "metadata": {},
   "outputs": [],
   "source": [
    "cerum_normal_2 = dataset[(dataset[\"serum_creatinine\"] >= 0.6) & (dataset[\"serum_creatinine\"] <= 1.1)][\"serum_creatinine\"]\n",
    "cerum_anormal_2 =  dataset[(dataset[\"serum_creatinine\"] < 0.6) | (dataset[\"serum_creatinine\"] > 1.1)][\"serum_creatinine\"]\n",
    "\n",
    "femme = dataset['sex']==0\n",
    "\n",
    "\n",
    "cerum_anormal_femme = cerum_anormal_2[femme]\n",
    "cerum_anormal_femme_vivant =  (dataset[\"DEATH_EVENT\"] & cerum_anormal_femme) == 0\n",
    "cerum_anormal_femme_mort =  (dataset[\"DEATH_EVENT\"] & cerum_anormal_femme) == 1\n",
    "\n",
    "cerum_normal_femme = cerum_normal_2[femme]\n",
    "cerum_normal_femme_vivant = (dataset[\"DEATH_EVENT\"] & cerum_normal_femme) == 0\n",
    "cerum_normal_femme_mort =  (dataset[\"DEATH_EVENT\"] & cerum_normal_femme) == 1\n",
    " "
   ]
  },
  {
   "cell_type": "code",
   "execution_count": 38,
   "metadata": {},
   "outputs": [
    {
     "data": {
      "text/plain": [
       "34"
      ]
     },
     "execution_count": 38,
     "metadata": {},
     "output_type": "execute_result"
    }
   ],
   "source": [
    "np.sum(dataset[\"DEATH_EVENT\"][femme])   # 34  femmes mortes au total"
   ]
  },
  {
   "cell_type": "code",
   "execution_count": 39,
   "metadata": {},
   "outputs": [
    {
     "data": {
      "text/plain": [
       "34"
      ]
     },
     "execution_count": 39,
     "metadata": {},
     "output_type": "execute_result"
    }
   ],
   "source": [
    "np.sum(cerum_anormal_femme_mort) + np.sum(cerum_normal_femme_mort) # 34 femmes mortes"
   ]
  },
  {
   "cell_type": "code",
   "execution_count": 40,
   "metadata": {},
   "outputs": [
    {
     "data": {
      "image/png": "[encoded data removed]",
      "text/plain": [
       "<Figure size 432x288 with 1 Axes>"
      ]
     },
     "metadata": {},
     "output_type": "display_data"
    }
   ],
   "source": [
    "#petite représentation\n",
    "labels = 'cerum_anormal vivant', 'cerum_anormal_mort', 'cerum_normal vivant','cerum normal mort'\n",
    "sizes = [np.sum(cerum_anormal_femme_vivant), np.sum(cerum_anormal_femme_mort),np.sum(cerum_normal_femme_vivant),np.sum(cerum_normal_femme_mort)]\n",
    "\n",
    "plt.pie(sizes, labels=labels,  autopct='%1.1f%%', shadow=True, startangle=90)\n",
    "\n",
    "plt.axis('equal')\n",
    "\n",
    "plt.show()"
   ]
  },
  {
   "cell_type": "markdown",
   "metadata": {},
   "source": [
    "<h2>Autre visualisation à faire </h2>"
   ]
  },
  {
   "cell_type": "code",
   "execution_count": 41,
   "metadata": {},
   "outputs": [
    {
     "name": "stdout",
     "output_type": "stream",
     "text": [
      "------Hommes qui fummes ------\n",
      " 47.42268041237113\n",
      "------Femmes qui fumme------\n",
      " 3.8095238095238098\n"
     ]
    }
   ],
   "source": [
    "#idee\n",
    "print(\"------Hommes qui fummes ------\")\n",
    "print(\"\" ,dataset[\"smoking\"][dataset[\"sex\"] == 1].value_counts(normalize = True)[1]*100)\n",
    "\n",
    "print(\"------Femmes qui fumme------\")\n",
    "print(\"\" ,dataset[\"smoking\"][dataset[\"sex\"] == 0].value_counts(normalize = True)[1]*100)"
   ]
  },
  {
   "cell_type": "markdown",
   "metadata": {},
   "source": [
    "<h2>Normalisation/Standardisation (standardisation) , faire la normalisation </h2>"
   ]
  },
  {
   "cell_type": "code",
   "execution_count": 42,
   "metadata": {},
   "outputs": [],
   "source": [
    "#StandardScaler or MinMaxScaler "
   ]
  },
  {
   "cell_type": "code",
   "execution_count": 43,
   "metadata": {},
   "outputs": [],
   "source": [
    "#scaled_features = dataset.copy()\n",
    "#col_names = ['age', 'creatinine_phosphokinase', 'ejection_fraction' ,'platelets' ,'serum_creatinine','serum_sodium','time']\n",
    "#features = scaled_features[col_names]\n",
    "#scaler = StandardScaler().fit(features.values)\n",
    "#features = scaler.transform(features.values)\n",
    "#scaled_features[col_names] = features\n",
    "#scaled_features.head()\n"
   ]
  },
  {
   "cell_type": "code",
   "execution_count": 44,
   "metadata": {},
   "outputs": [],
   "source": [
    "#dataset.head()"
   ]
  },
  {
   "cell_type": "code",
   "execution_count": 45,
   "metadata": {},
   "outputs": [],
   "source": [
    "X = dataset.values[:, :-1]\n",
    "y = dataset.values[:, -1]\n",
    "#X ,y"
   ]
  },
  {
   "cell_type": "code",
   "execution_count": 46,
   "metadata": {},
   "outputs": [],
   "source": [
    "from sklearn.preprocessing import StandardScaler\n",
    "scaler = StandardScaler().fit(X)\n",
    "X = scaler.transform(X)\n",
    "\n",
    "\n",
    "x_train, x_test, y_train, y_test = train_test_split(X, y, test_size = 0.1, random_state =5)"
   ]
  },
  {
   "cell_type": "code",
   "execution_count": 47,
   "metadata": {},
   "outputs": [
    {
     "data": {
      "text/plain": [
       "(array([[ 7.72252644e-01, -8.71104775e-01, -5.32526741e-01, ...,\n",
       "         -1.41976151e-01,  7.35688190e-01,  1.45416070e+00],\n",
       "        [ 2.11961101e+00, -8.71104775e-01,  1.65728387e-04, ...,\n",
       "         -5.95996141e-01, -1.35927151e+00, -6.87681906e-01],\n",
       "        [-4.90895827e-01, -8.71104775e-01,  1.48158761e+00, ...,\n",
       "          3.12043840e-01,  7.35688190e-01, -6.87681906e-01],\n",
       "        ...,\n",
       "        [ 3.51203153e-01,  1.14796753e+00, -4.84006302e-01, ...,\n",
       "          7.66063830e-01, -1.35927151e+00, -6.87681906e-01],\n",
       "        [-1.75404430e+00, -8.71104775e-01, -3.48768486e-01, ...,\n",
       "          7.66063830e-01, -1.35927151e+00, -6.87681906e-01],\n",
       "        [-1.75404430e+00,  1.14796753e+00, -4.96394499e-01, ...,\n",
       "          9.93073825e-01, -1.35927151e+00, -6.87681906e-01]]),\n",
       " array([0., 1., 1., 0., 0., 0., 0., 1., 1., 0., 1., 0., 1., 1., 1., 0., 0.,\n",
       "        1., 0., 0., 0., 1., 0., 0., 0., 0., 0., 1., 0., 0., 0., 1., 1., 1.,\n",
       "        0., 0., 0., 0., 0., 0., 0., 1., 0., 1., 0., 1., 0., 0., 0., 1., 0.,\n",
       "        0., 1., 0., 0., 1., 1., 0., 0., 1., 0., 0., 0., 0., 0., 1., 0., 1.,\n",
       "        0., 1., 1., 0., 1., 1., 0., 1., 0., 0., 1., 1., 1., 1., 0., 0., 1.,\n",
       "        1., 0., 1., 0., 0., 0., 0., 1., 1., 0., 0., 0., 0., 0., 0., 0., 0.,\n",
       "        1., 0., 0., 0., 0., 0., 0., 0., 0., 0., 0., 0., 0., 0., 1., 1., 0.,\n",
       "        1., 0., 0., 1., 0., 0., 0., 0., 1., 1., 1., 0., 0., 0., 0., 0., 0.,\n",
       "        0., 0., 1., 0., 0., 1., 0., 1., 0., 1., 0., 1., 0., 1., 0., 1., 0.,\n",
       "        0., 0., 1., 1., 0., 1., 0., 1., 0., 1., 0., 0., 0., 1., 0., 0., 1.,\n",
       "        0., 0., 1., 0., 1., 1., 0., 0., 1., 1., 0., 0., 0., 0., 0., 0., 1.,\n",
       "        0., 0., 0., 0., 0., 0., 1., 0., 0., 0., 0., 1., 0., 0., 0., 0., 1.,\n",
       "        0., 1., 1., 0., 0., 0., 1., 0., 0., 1., 0., 0., 0., 0., 0., 0., 1.,\n",
       "        0., 1., 1., 0., 1., 0., 0., 0., 0., 0., 0., 1., 0., 0., 0., 1., 1.,\n",
       "        0., 1., 1., 0., 0., 1., 0., 0., 0., 0., 0., 1., 1., 0., 0., 1., 1.,\n",
       "        0., 1., 0., 1., 0., 0., 0., 0., 0., 1., 0., 0., 0., 0.]))"
      ]
     },
     "execution_count": 47,
     "metadata": {},
     "output_type": "execute_result"
    }
   ],
   "source": [
    "x_train , y_train"
   ]
  },
  {
   "cell_type": "code",
   "execution_count": 48,
   "metadata": {},
   "outputs": [
    {
     "name": "stdout",
     "output_type": "stream",
     "text": [
      "0.724907063197026\n"
     ]
    }
   ],
   "source": [
    "#on fixe \n",
    "#loss = 'log'\n",
    "#penalite =  l2'\n",
    "#random_state pour la reproductibilité du résultat : on choissi 5 \n",
    "\n",
    "model=  SGDClassifier(loss='log', penalty='l2', random_state=5)\n",
    "model.fit(x_train,y_train)\n",
    "print(model.score(x_train,y_train))  ## on pas d'overfitting sinon on aurait eu 100% \n",
    "                                "
   ]
  },
  {
   "cell_type": "code",
   "execution_count": 49,
   "metadata": {},
   "outputs": [],
   "source": [
    "from sklearn.metrics import accuracy_score"
   ]
  },
  {
   "cell_type": "markdown",
   "metadata": {},
   "source": [
    "<h2>  logistic regression vs linear svm (hors sujet) </h2>"
   ]
  },
  {
   "cell_type": "code",
   "execution_count": 50,
   "metadata": {},
   "outputs": [
    {
     "data": {
      "text/plain": [
       "0.7"
      ]
     },
     "execution_count": 50,
     "metadata": {},
     "output_type": "execute_result"
    }
   ],
   "source": [
    "##########\n",
    "    ## SGDClassifier avec une fonction cout 'log' est equivalent à la fonction logistic regression\n",
    " ##source sklearn\n",
    "\n",
    "model=  SGDClassifier(loss='log', penalty='l2', random_state=5)  \n",
    "model.fit(x_train,y_train)\n",
    "                                \n",
    "predY = model.predict(x_test)\n",
    "accuracy_score(y_test, predY)\n",
    "\n",
    "\n"
   ]
  },
  {
   "cell_type": "code",
   "execution_count": 51,
   "metadata": {},
   "outputs": [
    {
     "data": {
      "text/plain": [
       "0.6"
      ]
     },
     "execution_count": 51,
     "metadata": {},
     "output_type": "execute_result"
    }
   ],
   "source": [
    "    ## SGDClassifier avec une fonction cout 'hinge' est equivalent à la fonction SVM\n",
    "\n",
    "\n",
    "model=  SGDClassifier(loss='hinge', penalty='l2' ,random_state=5)  ## fonction cout hinge ~~~   linear svm  ##source sklearn\n",
    "model.fit(x_train,y_train)\n",
    "                                \n",
    "predY = model.predict(x_test)\n",
    "accuracy_score(y_test, predY)\n",
    "\n",
    "\n"
   ]
  },
  {
   "cell_type": "markdown",
   "metadata": {},
   "source": [
    "<h1> penalité  L2 comparer score avec fonction cout </h1>\n",
    "#l2 empeche l'overfitting"
   ]
  },
  {
   "cell_type": "markdown",
   "metadata": {},
   "source": [
    "<h2> Fonction coût / score </h2>"
   ]
  },
  {
   "cell_type": "code",
   "execution_count": 52,
   "metadata": {},
   "outputs": [
    {
     "name": "stdout",
     "output_type": "stream",
     "text": [
      "loss :   hinge  score =  0.7063197026022305\n",
      "loss :   log  score =  0.724907063197026\n",
      "loss :   modified_huber  score =  0.7286245353159851\n",
      "loss :   squared_hinge  score =  0.6617100371747212\n",
      "loss :   perceptron  score =  0.7100371747211895\n",
      "loss :   squared_loss  score =  0.5390334572490706\n",
      "loss :   huber  score =  0.6691449814126395\n",
      "loss :   epsilon_insensitive  score =  0.49070631970260226\n",
      "loss :   squared_epsilon_insensitive  score =  0.49814126394052044\n"
     ]
    }
   ],
   "source": [
    "#recherche du meilleur random_state\n",
    "score_model = []\n",
    "loss_name =[]\n",
    "\n",
    "loss_l = ['hinge','log', 'modified_huber', 'squared_hinge', 'perceptron','squared_loss', 'huber', 'epsilon_insensitive','squared_epsilon_insensitive']    \n",
    "for i in loss_l:\n",
    "    model_1 = SGDClassifier(loss=i, penalty='l2' , random_state=5)\n",
    "    model_1.fit(x_train,y_train)\n",
    "    scoreFinal =  model_1.score(x_train,y_train)\n",
    "    print(\"loss :  \" , i , \" score = \",scoreFinal)\n",
    "    loss_name.append(i)\n",
    "    score_model.append(scoreFinal)\n",
    "   \n",
    "\n",
    "    "
   ]
  },
  {
   "cell_type": "code",
   "execution_count": 53,
   "metadata": {},
   "outputs": [
    {
     "data": {
      "text/plain": [
       "[<matplotlib.lines.Line2D at 0x7f85056c8ee0>]"
      ]
     },
     "execution_count": 53,
     "metadata": {},
     "output_type": "execute_result"
    },
    {
     "data": {
      "image/png": "[encoded data removed]",
      "text/plain": [
       "<Figure size 1152x432 with 1 Axes>"
      ]
     },
     "metadata": {
      "needs_background": "light"
     },
     "output_type": "display_data"
    }
   ],
   "source": [
    "plt.figure(1, figsize=(16, 6))\n",
    "plt.plot(loss_name,score_model)"
   ]
  },
  {
   "cell_type": "code",
   "execution_count": 54,
   "metadata": {},
   "outputs": [
    {
     "name": "stdout",
     "output_type": "stream",
     "text": [
      "score =  0.7286245353159851  Loss name =  modified_huber\n"
     ]
    }
   ],
   "source": [
    "scoreMaxi_index = score_model.index(max(score_model))\n",
    "lossWithMaxScore = loss_name[scoreMaxi_index]\n",
    "scoreMaxi = max(score_model)\n",
    "print(\"score = \", scoreMaxi,  \" Loss name = \", lossWithMaxScore)"
   ]
  },
  {
   "cell_type": "code",
   "execution_count": 55,
   "metadata": {},
   "outputs": [],
   "source": [
    "## hinge est la fonction coût qui maximise notre score pour une penalité l2"
   ]
  },
  {
   "cell_type": "markdown",
   "metadata": {},
   "source": [
    "<h2>Cross-validation(recherche des meilleurs hyper-paramètres) </h2>"
   ]
  },
  {
   "cell_type": "code",
   "execution_count": 56,
   "metadata": {},
   "outputs": [],
   "source": [
    "monScoring = 'accuracy'  #metrique de score classification"
   ]
  },
  {
   "cell_type": "code",
   "execution_count": 57,
   "metadata": {
    "scrolled": true
   },
   "outputs": [
    {
     "name": "stdout",
     "output_type": "stream",
     "text": [
      "alpha = 0.000100 loss = hinge penality = l1, accuracy: 0.658001 +/- (0.029884)\n"
     ]
    },
    {
     "ename": "NameError",
     "evalue": "name 'alphaVal' is not defined",
     "output_type": "error",
     "traceback": [
      "\u001b[0;31m---------------------------------------------------------------------------\u001b[0m",
      "\u001b[0;31mNameError\u001b[0m                                 Traceback (most recent call last)",
      "\u001b[0;32m<ipython-input-57-f353a272f32a>\u001b[0m in \u001b[0;36m<module>\u001b[0;34m\u001b[0m\n\u001b[1;32m     18\u001b[0m             \u001b[0mprint\u001b[0m\u001b[0;34m(\u001b[0m\u001b[0mmsg\u001b[0m\u001b[0;34m)\u001b[0m\u001b[0;34m\u001b[0m\u001b[0;34m\u001b[0m\u001b[0m\n\u001b[1;32m     19\u001b[0m             \u001b[0mscore_model\u001b[0m\u001b[0;34m[\u001b[0m\u001b[0mi\u001b[0m\u001b[0;34m]\u001b[0m\u001b[0;34m[\u001b[0m\u001b[0mj\u001b[0m\u001b[0;34m]\u001b[0m\u001b[0;34m[\u001b[0m\u001b[0mk\u001b[0m\u001b[0;34m]\u001b[0m \u001b[0;34m=\u001b[0m \u001b[0;34m(\u001b[0m\u001b[0mcv_results\u001b[0m\u001b[0;34m.\u001b[0m\u001b[0mmean\u001b[0m\u001b[0;34m(\u001b[0m\u001b[0;34m)\u001b[0m\u001b[0;34m)\u001b[0m\u001b[0;34m*\u001b[0m\u001b[0;36m100\u001b[0m\u001b[0;34m\u001b[0m\u001b[0;34m\u001b[0m\u001b[0m\n\u001b[0;32m---> 20\u001b[0;31m             \u001b[0malphaVal\u001b[0m\u001b[0;34m.\u001b[0m\u001b[0mappend\u001b[0m\u001b[0;34m(\u001b[0m\u001b[0malpha_v\u001b[0m\u001b[0;34m)\u001b[0m\u001b[0;34m\u001b[0m\u001b[0;34m\u001b[0m\u001b[0m\n\u001b[0m\u001b[1;32m     21\u001b[0m             \u001b[0mk\u001b[0m\u001b[0;34m+=\u001b[0m\u001b[0;36m1\u001b[0m\u001b[0;34m\u001b[0m\u001b[0;34m\u001b[0m\u001b[0m\n\u001b[1;32m     22\u001b[0m         \u001b[0mj\u001b[0m\u001b[0;34m+=\u001b[0m\u001b[0;36m1\u001b[0m\u001b[0;34m\u001b[0m\u001b[0;34m\u001b[0m\u001b[0m\n",
      "\u001b[0;31mNameError\u001b[0m: name 'alphaVal' is not defined"
     ]
    }
   ],
   "source": [
    "loss = ['hinge','log', 'modified_huber', 'squared_hinge', 'perceptron','squared_loss', 'huber', 'epsilon_insensitive','squared_epsilon_insensitive']    \n",
    "alpha_values = np.logspace(-4,-1,150)\n",
    "#alpha_values = np.logspace(-7,1, num=15)\n",
    "penal = ['l1','l2']\n",
    "\n",
    "score_model = np.zeros((len(alpha_values),len(loss),len(penal)))\n",
    "\n",
    "i=0\n",
    "for alpha_v in alpha_values:\n",
    "    j=0\n",
    "    for loss_v in loss:\n",
    "        k=0\n",
    "        for pena_v in penal:\n",
    "            model_cv=  SGDClassifier(penalty=pena_v, alpha=alpha_v , random_state=5 ,loss=loss_v , max_iter=5000)\n",
    "            kfold = KFold(n_splits=5)\n",
    "            cv_results = cross_val_score(model_cv, x_train, y_train, cv=kfold, scoring=monScoring)\n",
    "            msg = \"alpha = %f loss = %s penality = %s, accuracy: %f +/- (%f)\" % (alpha_v,loss_v,pena_v, cv_results.mean(), cv_results.std())\n",
    "            print(msg)\n",
    "            score_model[i][j][k] = (cv_results.mean())*100\n",
    "            alphaVal.append(alpha_v)\n",
    "            k+=1\n",
    "        j+=1\n",
    "    i+=1"
   ]
  },
  {
   "cell_type": "code",
   "execution_count": null,
   "metadata": {
    "scrolled": false
   },
   "outputs": [],
   "source": [
    "for i in range(len(loss)):\n",
    "    plt.figure(i, figsize=(8, 8)) \n",
    "    plt.title(loss[i])\n",
    "    plt.xlabel('alpha values')\n",
    "    plt.ylabel('accuracy score')\n",
    "    \n",
    "    plt.plot(alpha_values,score_model[:, i][:, 0])\n",
    "    plt.plot(alpha_values,score_model[:, i][:, 1])\n",
    "    plt.legend([\"l1\",\"l2\"])\n",
    "    \n",
    "    n_max1 = score_model[:, i][:, 0].argmax()\n",
    "    plt.plot(alpha_values[n_max1],score_model[:, i][:, 0][n_max1],'o')\n",
    "    n_max2 = score_model[:, i][:, 1].argmax()\n",
    "    plt.plot(alpha_values[n_max2],score_model[:, i][:, 1][n_max2],'o')"
   ]
  },
  {
   "cell_type": "code",
   "execution_count": null,
   "metadata": {},
   "outputs": [],
   "source": [
    "score_train = np.amax(score_model)\n",
    "index = np.where(score_model == score_train)\n",
    "\n",
    "alphaWithMaxScore = alphaVal[index[0][0]]\n",
    "lossWithMaxScore = loss_name[index[1][0]]\n",
    "penaWithMaxScore = penal[index[2][0]]\n",
    "\n",
    "print(\"score = \", score_train,  \" alpha val = \", alphaWithMaxScore, \" loss val = \", lossWithMaxScore, \" pena val = \", penaWithMaxScore)"
   ]
  },
  {
   "cell_type": "code",
   "execution_count": null,
   "metadata": {},
   "outputs": [],
   "source": [
    "model_cv=  SGDClassifier(penalty='l2', alpha= 0.00014563484775012445 , random_state=5 ,loss='hinge' , max_iter=5000)\n",
    "model_cv.fit(x_train,y_train)\n",
    "model_cv.score(x_test,y_test)\n"
   ]
  },
  {
   "cell_type": "code",
   "execution_count": null,
   "metadata": {},
   "outputs": [],
   "source": []
  }
 ],
 "metadata": {
  "kernelspec": {
   "display_name": "Python 3",
   "language": "python",
   "name": "python3"
  },
  "language_info": {
   "codemirror_mode": {
    "name": "ipython",
    "version": 3
   },
   "file_extension": ".py",
   "mimetype": "text/x-python",
   "name": "python",
   "nbconvert_exporter": "python",
   "pygments_lexer": "ipython3",
   "version": "3.8.5"
  }
 },
 "nbformat": 4,
 "nbformat_minor": 4
}
